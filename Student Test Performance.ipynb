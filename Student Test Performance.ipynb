{
  "cells": [
    {
      "cell_type": "markdown",
      "source": [
        "# Cover Page\n"
      ],
      "metadata": {
        "id": "s6WJpTPn8oit"
      },
      "id": "s6WJpTPn8oit"
    },
    {
      "cell_type": "markdown",
      "metadata": {
        "id": "7acb5622"
      },
      "source": [
        "## <div align=\"center\">Student Test Performance Analysis</div>\n",
        "## <div align=\"center\"></div>\n",
        "<hr style=\"border:1px solid black\"> </hr>"
      ],
      "id": "7acb5622"
    },
    {
      "cell_type": "markdown",
      "metadata": {
        "id": "03be2fb2"
      },
      "source": [
        "## Abstract"
      ],
      "id": "03be2fb2"
    },
    {
      "cell_type": "markdown",
      "metadata": {
        "id": "4c78db90"
      },
      "source": [
        "<tr>\n",
        "<td style=\"text-align:justify;font-family: 'Times New Roman';\"><font size=\"4\">Student’s achievements in terms of academics have taken the interest of various parties such as parents, policymakers, corporates, and others. People have been trying to figure out the various variables that cause an impact on academic achievement. The “Students Performance in Exams” dataset on Kaggle, contains data on the test scores of 1000 students, along with their attributes such as race/ethnicity, gender, parental level of education,  test preparation course, and lunch.\n",
        "    <tr>\n",
        "<td style=\"text-align:justify;font-family: 'Times New Roman';\"><font size=\"4\">\n",
        "As technology improves, people are thinking it is possible to predict a student’s performance on tests. This would be of tremendous help as these findings can help in choosing the correct methods of training/teaching in order to enhance the success rate of students in exams. Hence, this study aims to analyse and identify the various factors that have a strong influence on student’s academic achievement so that we are able to  predict students’ performance in exams. Data mining methods have been proven to be one of the ways to predict the academic success of students. Through this project, we can build a model to predict student grade by analysing several attributes using classification algorithms such as Logistic Regression, Random Forest, etc. Algorithms will be runned in Jupyter Notebook, training and testing, and tuned to obtain desirable results.\n",
        "    <tr>\n",
        "<td style=\"text-align:justify;font-family: 'Times New Roman';\"><font size=\"4\">\n",
        "The dataset obtained from Kaggle is modified through cleaning and preprocessing, in order to get clean and useful data. Algorithms that are implemented are trained, tested and checked for accuracy and given necessary improvements. Visualisation techniques are used to show data to have a better understanding. This project has given us results that Logistic Regression model has accuracy of 87.6%, whereas Random Forest model has accuracy of 100%.\n"
      ],
      "id": "4c78db90"
    },
    {
      "cell_type": "markdown",
      "metadata": {
        "id": "b23dff90"
      },
      "source": [
        "## Introduction"
      ],
      "id": "b23dff90"
    },
    {
      "cell_type": "markdown",
      "metadata": {
        "id": "2bc0adb4"
      },
      "source": [
        "<tr>\n",
        "<td style=\"text-align:justify;font-family: 'Times New Roman';\"><font size=\"4\">&nbsp;&nbsp;&nbsp;&nbsp;&nbsp;&nbsp; Academic achievement refers to the amount to which a person has met certain goals that were the focus of activities in educational settings, such as school, college, and university. It is not only an indicator of the effectiveness of schools but also a critical factor which determines the future of youths and their nations. Scholars, parents, policymakers, and planners have all recognized the value of students' academic achievements. Learning outcomes have become a topic of widespread interest, which is why academics have been working hard to uncover elements that hinder or promote academic success. As such, this study aims to analyse and identify the various factors that have a strong impact on student’s academic achievement in order to predict students’ performance in exams. This is done so by using a dataset “Students Performance in Exams” from Kaggle which has gathered data of marks secured by 1000 students in various subjects. The dataset is made up of 1000 rows and 8 columns, with 5 variables examined against the dependent variables which are the scores for mathematics, reading and writing.\n",
        "\n",
        "</font></td>\n",
        "</tr>\n",
        "    "
      ],
      "id": "2bc0adb4"
    },
    {
      "cell_type": "markdown",
      "metadata": {
        "id": "ed81e0a7"
      },
      "source": [
        "## Related Work"
      ],
      "id": "ed81e0a7"
    },
    {
      "cell_type": "markdown",
      "metadata": {
        "id": "0c89b391"
      },
      "source": [
        "<tr>\n",
        "<th style=\"text-align:justify;font-family: 'Times New Roman';\"><font size=\"4\">\n",
        "    Introduction of the topic</font></th>\n",
        "</tr>"
      ],
      "id": "0c89b391"
    },
    {
      "cell_type": "markdown",
      "metadata": {
        "id": "13ca9834"
      },
      "source": [
        "<tr>\n",
        "<td style=\"text-align:justify;font-family: 'Times New Roman';\"><font size=\"4\">This study seeks to compare and analyze the degree of influence that various factors have on a students' performance in order to predict students' performance in exams. This study will take into account factors such as gender, ethnicity, parental level of education, financial background, nutrients, and test preparation. There is a high probability that one or more of these factors will have a significant impact on students' performance in exams."
      ],
      "id": "13ca9834"
    },
    {
      "cell_type": "markdown",
      "metadata": {
        "id": "7ab695a4"
      },
      "source": [
        "<tr>\n",
        "<th style=\"text-align:justify;font-family: 'Times New Roman';\"><font size=\"4\">\n",
        "    Taxanomy Mapping</font></th>\n",
        "</tr>"
      ],
      "id": "7ab695a4"
    },
    {
      "cell_type": "code",
      "execution_count": null,
      "metadata": {
        "id": "d88f8cb9"
      },
      "outputs": [],
      "source": [
        " #from IPython.display import Image\n",
        " #Image(filename = \"Downloadstaxanomy mapping 1.jpg\")"
      ],
      "id": "d88f8cb9"
    },
    {
      "cell_type": "markdown",
      "metadata": {
        "id": "c83dd429"
      },
      "source": [
        "<tr>\n",
        "<td style=\"text-align:justify;font-family: 'Times New Roman';\"><font size=\"4\">As shown in the taxonomy above, the first branch shows where we extracted our articles and datasets, which are mainly from Google Scholar and Kaggle.\n",
        "<tr>\n",
        "<td style=\"text-align:justify;font-family: 'Times New Roman';\"><font size=\"4\">Further on the second branch, it shows the different methods of data collection based on various articles. Data collection was collected through interviews, observational checklists, questionnaires, final course grades and teacher evaluation.\n",
        "<tr>\n",
        "<td style=\"text-align:justify;font-family: 'Times New Roman';\"><font size=\"4\">\n",
        "On the third branch, it shows the features that we are going to select for our research. The main goal is to know how these features affect student performance which are financial background, parental level of education, race/ethnicity, gender, age, dietary intake and attendance.\n",
        "<tr>\n",
        "<td style=\"text-align:justify;font-family: 'Times New Roman';\"><font size=\"4\">\n",
        "The fourth branch shows the ways student performance are measured. The performance measures include IQ test, verbal test, cognitive test, performance test and traditional exams.\n",
        "<tr>\n",
        "<td style=\"text-align:justify;font-family: 'Times New Roman';\"><font size=\"4\">\n",
        " Next, on the fifth branch is to perform data preprocessing to ensure that the data they collected was clean and not biased. Steps taken inclue data cleaning, handling duplicate and missing values, handling outliers, data transformation, label encoding and data extractions.\n",
        "<tr>\n",
        "<td style=\"text-align:justify;font-family: 'Times New Roman';\"><font size=\"4\">\n",
        "Next branch shows the statistical methods used in the research mainly related to data analysis such as performing EDA to find patterns or doing correlation tests by using pearson correlation, chi square and p-value.\n",
        "<tr>\n",
        "<td style=\"text-align:justify;font-family: 'Times New Roman';\"><font size=\"4\">\n",
        "Moreover, the machine learning algorithm branch shows the models that have been built such as multiple linear regression, polynomial regression, logistic regression and random forest.  <tr>\n",
        "<td style=\"text-align:justify;font-family: 'Times New Roman';\"><font size=\"4\">\n",
        "Last branch shows how they test their accuracy by applying the confusion matrix.\n",
        "</font></td>\n",
        "</tr>"
      ],
      "id": "c83dd429"
    },
    {
      "cell_type": "markdown",
      "metadata": {
        "id": "1392d630"
      },
      "source": [
        "<tr>\n",
        "<th style=\"text-align:justify;font-family: 'Times New Roman';\"><font size=\"4\">\n",
        "    Conclusion</font></th>\n",
        "</tr>"
      ],
      "id": "1392d630"
    },
    {
      "cell_type": "markdown",
      "metadata": {
        "id": "a440a543"
      },
      "source": [
        "<tr>\n",
        "<td style=\"text-align:justify;font-family: 'Times New Roman';\"><font size=\"4\">Through literature review we can conclude that all factors in our data set is a potential contributing factor to the outcome which is student grade. From each research paper we've also learnt that there are several methods to preprocess and collect data. Further on we also have a rough idea on what statistical method and machine algorithm modelling we can use to extract meaningful insights on our data"
      ],
      "id": "a440a543"
    },
    {
      "cell_type": "markdown",
      "metadata": {
        "id": "9c111181"
      },
      "source": [
        "<tr>\n",
        "<th style=\"text-align:justify;font-family: 'Times New Roman';\"><font size=\"4\">\n",
        "    Critical Review</font></th>\n",
        "</tr>"
      ],
      "id": "9c111181"
    },
    {
      "cell_type": "markdown",
      "metadata": {
        "id": "9ff66f71"
      },
      "source": [
        "<tr>\n",
        "<td style=\"text-align:justify;font-family: 'Times New Roman';\"><font size=\"4\">\n",
        "The journal article by Rania A.Bassuoni, Laila Hussein, Magda S.Mohamed, Zeinab M.Monir and Ashraf A.Abd El-Megeid) was about the Relationship between Nutritional Status and Cognitive Performance among Primary School Students. The aim of this study is to assess the effect of nutritional status towards cognitive performance in school age children. The data collection method was through personal data collecting and test conducted such as anthropometric test, Dietary intake and Cognitive Tests, by using the s Wechsler IQ, verbal test and performance tests. The study came to the conclusion that student fat level will have a long term effect on their cognitive performance and reduce their focusing span. Next, student’s brain and body development are highly correlated to several micronutrients such as Iodine, zinc and vitamins intake. The IQ result in the study also shows that with a healthy diet the Verbal IQ of children increased from 98.43±0.99, the performance IQ of children was 95.09±1.14 and the total IQ was 96.69±0.42. Children with high sugar and fat intake result in a decrease in performance. Conclusion, A satisfactory diet and healthy nutrition is necessary for normal brain progress especially at critical growth stages.\n",
        "<tr>\n",
        "<td style=\"text-align:justify;font-family: 'Times New Roman';\"><font size=\"4\">In a study conducted by Gemechu Abera Gobena, the effect of a family’s socio-economic status on students’ academic achievement was investigated. It was found that there was a significant strong positive relationship between parents’ level of education ( r(170) = 0.73, p < 0.05, two-tailed) and students’ academic achievement (Gobena, 2018). This indicates that parental level of education may positively contribute to students’ performance. It was also found in the study that family income might affect both genders on academic achievements. Besides that, another study on the effects of family background on children’s educational achievement found that 34.4% of children's difference in test scores was related to the family background (Li and Qiu, 2018). These studies are related to our dataset as we also take into account how parental level of education affects student grades at school. Results based on literature have shown that a family’s financial and educational background is able to influence students’ performance  at school.\n",
        "<tr>\n",
        "<td style=\"text-align:justify;font-family: 'Times New Roman';\"><font size=\"4\">   \n",
        "In the report written by Li Hongli, Xiong, and Yao, It was about the relationship between Test Preparation and also the test performance. Given the high stakes of state-mandated accountability assessments, more teachers are implementing test-preparation tactics to ensure that students do satisfactorily on state exams. However, it is uncertain if and how assessment affects students' success on state exams. They  investigated the link between test preparation and students' state test performance using the Measure of Effective Teaching (MET) longitudinal dataset in this study. Students who performed poorly on the first year of tests received extra test preparation in the second year; however, the impacts of exam preparation on individuals' state exam performance were minimal and variable. They  discovered that Black and Hispanic students received more exam preparation than White students when it came to racial inequalities. Furthermore, for Black students, the effect of test preparation evaluated by the item \"practising for the state test\" on state test performance was much stronger than for White students. Hence, the test preparation will affect the student’s performance. It sometimes may be a minor impact, while some with a bigger affect."
      ],
      "id": "9ff66f71"
    },
    {
      "cell_type": "markdown",
      "metadata": {
        "id": "9606103d"
      },
      "source": [
        "# Problem Statement"
      ],
      "id": "9606103d"
    },
    {
      "cell_type": "markdown",
      "metadata": {
        "id": "900a2d17"
      },
      "source": [
        "## Why this problem exist\n",
        "\n",
        "In today’s world, academic success is crucial as it is strongly associated with positive outcomes. Adults that have strong academic backgrounds are interlinked with better employment and higher salaries. They are able to work more efficiently and are able to contribute more to the economy. Besides that, they will also be less likely to be engaged with criminal activity. Hence, the aim of our study is to help boost academic success by analysing factors which contribute to academic performance and predicting student performance based on real data and marks secured by the students in high school from the United States.\n",
        "    "
      ],
      "id": "900a2d17"
    },
    {
      "cell_type": "markdown",
      "metadata": {
        "id": "d572458e"
      },
      "source": [
        "## What is the problem?\n",
        "Student performance has a direct impact on the business of a school. Schools that can attain high student performance will be highly rated and will be able to potentially attract more talented students. This is evident from the existence of the Ivy League. However, in some schools, the majority of students may be underperforming, thus giving it a bad reputation. As such, the main business problem is trying to identify the factors that can contribute to the performance of students that eventually affect the reputation and business of the school. However, it is near impossible to find out all the contributing independent variables. Therefore, we have narrowed down the variables that have been found through past research to have a close relation to student performance based on our data set. From these sets of data, we are able to focus on improving the outcomes.\n",
        "    "
      ],
      "id": "d572458e"
    },
    {
      "cell_type": "markdown",
      "metadata": {
        "id": "8a879062"
      },
      "source": [
        "## When did this problem happen?\n",
        "\n",
        "This business problem of predicting and improving student performance has existed for a long time. It is every school's vision and mission to be able to educate students in order for them to achieve academic success. Students are the main assets that drive the business of school. That's why different school systems are present in the society, this is designed to fit different students’ learning needs and styles.\n",
        "    "
      ],
      "id": "8a879062"
    },
    {
      "cell_type": "markdown",
      "metadata": {
        "id": "4393f2ed"
      },
      "source": [
        "## Who are the stakeholders involved in this problem?\n",
        "The stakeholders that are involved in this problem will be people who have invested in the success and welfare of a school and its students. For example, teachers, staff members, principals, parents, community members, school board members, local business leaders and also government."
      ],
      "id": "4393f2ed"
    },
    {
      "cell_type": "markdown",
      "metadata": {
        "id": "cb41b443"
      },
      "source": [
        "## Where can you see these problems?\n",
        "This problem arises in every school that exists, regardless of its type such as private, public, international and home-schooling. There will be a scenario where some schools have students who score better than students from other schools. This discrepancy in students’ performance has a major impact on the reputation and success of a school.\n"
      ],
      "id": "cb41b443"
    },
    {
      "cell_type": "markdown",
      "metadata": {
        "id": "7f69ba76"
      },
      "source": [
        "**Import Librabries**"
      ],
      "id": "7f69ba76"
    },
    {
      "cell_type": "code",
      "execution_count": null,
      "metadata": {
        "colab": {
          "base_uri": "https://localhost:8080/"
        },
        "id": "iClV1Im78H-Q",
        "outputId": "9cbe70d5-8d38-4199-e32a-1031efc00dbb"
      },
      "outputs": [
        {
          "output_type": "stream",
          "name": "stdout",
          "text": [
            "Looking in indexes: https://pypi.org/simple, https://us-python.pkg.dev/colab-wheels/public/simple/\n",
            "Requirement already satisfied: dabl in /usr/local/lib/python3.7/dist-packages (0.2.4)\n",
            "Requirement already satisfied: scipy in /usr/local/lib/python3.7/dist-packages (from dabl) (1.7.3)\n",
            "Requirement already satisfied: matplotlib>=3.4 in /usr/local/lib/python3.7/dist-packages (from dabl) (3.5.3)\n",
            "Requirement already satisfied: pandas in /usr/local/lib/python3.7/dist-packages (from dabl) (1.3.5)\n",
            "Requirement already satisfied: seaborn in /usr/local/lib/python3.7/dist-packages (from dabl) (0.11.2)\n",
            "Requirement already satisfied: numpy in /usr/local/lib/python3.7/dist-packages (from dabl) (1.21.6)\n",
            "Requirement already satisfied: scikit-learn>=1.0 in /usr/local/lib/python3.7/dist-packages (from dabl) (1.0.2)\n",
            "Requirement already satisfied: python-dateutil>=2.7 in /usr/local/lib/python3.7/dist-packages (from matplotlib>=3.4->dabl) (2.8.2)\n",
            "Requirement already satisfied: pillow>=6.2.0 in /usr/local/lib/python3.7/dist-packages (from matplotlib>=3.4->dabl) (7.1.2)\n",
            "Requirement already satisfied: packaging>=20.0 in /usr/local/lib/python3.7/dist-packages (from matplotlib>=3.4->dabl) (21.3)\n",
            "Requirement already satisfied: fonttools>=4.22.0 in /usr/local/lib/python3.7/dist-packages (from matplotlib>=3.4->dabl) (4.38.0)\n",
            "Requirement already satisfied: pyparsing>=2.2.1 in /usr/local/lib/python3.7/dist-packages (from matplotlib>=3.4->dabl) (3.0.9)\n",
            "Requirement already satisfied: kiwisolver>=1.0.1 in /usr/local/lib/python3.7/dist-packages (from matplotlib>=3.4->dabl) (1.4.4)\n",
            "Requirement already satisfied: cycler>=0.10 in /usr/local/lib/python3.7/dist-packages (from matplotlib>=3.4->dabl) (0.11.0)\n",
            "Requirement already satisfied: typing-extensions in /usr/local/lib/python3.7/dist-packages (from kiwisolver>=1.0.1->matplotlib>=3.4->dabl) (4.1.1)\n",
            "Requirement already satisfied: six>=1.5 in /usr/local/lib/python3.7/dist-packages (from python-dateutil>=2.7->matplotlib>=3.4->dabl) (1.15.0)\n",
            "Requirement already satisfied: threadpoolctl>=2.0.0 in /usr/local/lib/python3.7/dist-packages (from scikit-learn>=1.0->dabl) (3.1.0)\n",
            "Requirement already satisfied: joblib>=0.11 in /usr/local/lib/python3.7/dist-packages (from scikit-learn>=1.0->dabl) (1.2.0)\n",
            "Requirement already satisfied: pytz>=2017.3 in /usr/local/lib/python3.7/dist-packages (from pandas->dabl) (2022.6)\n"
          ]
        }
      ],
      "source": [
        "!pip install dabl"
      ],
      "id": "iClV1Im78H-Q"
    },
    {
      "cell_type": "code",
      "execution_count": null,
      "metadata": {
        "id": "8193f4c6"
      },
      "outputs": [],
      "source": [
        "#import the required libraries to read the dataset\n",
        "import pandas as pd\n",
        "import numpy as np\n",
        "import matplotlib.pyplot as plt\n",
        "import seaborn as sns\n",
        "import dabl\n",
        "import warnings\n",
        "import io\n",
        "import requests\n",
        "from sklearn import preprocessing\n",
        "from math import *\n",
        "%matplotlib inline"
      ],
      "id": "8193f4c6"
    },
    {
      "cell_type": "markdown",
      "metadata": {
        "id": "865c1f7a"
      },
      "source": [
        "The libraries is imported to read the dataset and draw plots for our assignment.\n",
        "The libraries are numpy, pandas, and matplotlib.pyplot."
      ],
      "id": "865c1f7a"
    },
    {
      "cell_type": "markdown",
      "metadata": {
        "id": "481602d5"
      },
      "source": [
        "# Data Acquisition"
      ],
      "id": "481602d5"
    },
    {
      "cell_type": "markdown",
      "metadata": {
        "id": "78c6224f"
      },
      "source": [
        "## Source of the data </font></th>\n",
        "The dataset we used here is Student Performance which we obtain from Kaggle.\n",
        "The URL to the dataset is stated below:\n",
        "    \n",
        "<a href=\"https://www.kaggle.com/spscientist/students-performance-in-exams?select=StudentsPerformance.csv\">StudentsPerformance.csv</a>\n",
        "\n",
        "Our student performance dataset is chosen from Kaggle, which is known as a data science company with an open source community and provides powerful tools and resources to the public. Kaggle’s is a subsidiary of Google LLC, the dominant American multinational technology company that provides internet related services. Such as cloud computing and software. The headquarters of Kaggle company is located at San Francisco, California, United State. As a legalised organisation, it is impossible to suspect the authenticity of it."
      ],
      "id": "78c6224f"
    },
    {
      "cell_type": "markdown",
      "metadata": {
        "id": "5996094c"
      },
      "source": [
        "<tr>\n",
        "<th style=\"text-align:justify;font-family: 'Times New Roman';\"><font size=\"4\">\n",
        "    Description of the data and its context </font></th>\n",
        "</tr>\n",
        "\n"
      ],
      "id": "5996094c"
    },
    {
      "cell_type": "markdown",
      "metadata": {
        "id": "05fd19ac"
      },
      "source": [
        "**Import dataset**"
      ],
      "id": "05fd19ac"
    },
    {
      "cell_type": "code",
      "execution_count": null,
      "metadata": {
        "id": "c6cf98e4"
      },
      "outputs": [],
      "source": [
        "\n",
        "# #Mounting the dataset\n",
        "# import io\n",
        "# import requests\n",
        "# from google.colab import drive\n",
        "# drive.mount('/content/gdrive', force_remount=True)"
      ],
      "id": "c6cf98e4"
    },
    {
      "cell_type": "code",
      "execution_count": null,
      "metadata": {
        "id": "TboW4OCszsNl"
      },
      "outputs": [],
      "source": [
        "# Import dataset\n",
        "# DATA_DIR_1 = \"StudentsPerformance.csv\"\n",
        "# df = pd.read_csv(DATA_DIR_1, header=0)\n",
        "df = pd.read_csv('https://raw.githubusercontent.com/enzoanindyacosta/csv/main/StudentsPerformance.csv', header=0)\n"
      ],
      "id": "TboW4OCszsNl"
    },
    {
      "cell_type": "markdown",
      "metadata": {
        "id": "934a5fa2"
      },
      "source": [
        "# 2.0 Overview of the data set"
      ],
      "id": "934a5fa2"
    },
    {
      "cell_type": "markdown",
      "source": [
        "## 2.1 Data Charcteristics"
      ],
      "metadata": {
        "id": "RckIK4XGIywi"
      },
      "id": "RckIK4XGIywi"
    },
    {
      "cell_type": "code",
      "execution_count": null,
      "metadata": {
        "colab": {
          "base_uri": "https://localhost:8080/",
          "height": 206
        },
        "id": "7mJx4gu15nc-",
        "outputId": "fe56ca19-ac65-47c6-9be2-b71e8920caf3"
      },
      "outputs": [
        {
          "output_type": "execute_result",
          "data": {
            "text/plain": [
              "   gender race/ethnicity parental level of education         lunch  \\\n",
              "0  female        group B           bachelor's degree      standard   \n",
              "1  female        group C                some college      standard   \n",
              "2  female        group B             master's degree      standard   \n",
              "3    male        group A          associate's degree  free/reduced   \n",
              "4    male        group C                some college      standard   \n",
              "\n",
              "  test preparation course  math score  reading score  writing score  \n",
              "0                    none          72             72             74  \n",
              "1               completed          69             90             88  \n",
              "2                    none          90             95             93  \n",
              "3                    none          47             57             44  \n",
              "4                    none          76             78             75  "
            ],
            "text/html": [
              "\n",
              "  <div id=\"df-86078ffb-0f4b-4f8a-a54c-1fbf2a5bb3df\">\n",
              "    <div class=\"colab-df-container\">\n",
              "      <div>\n",
              "<style scoped>\n",
              "    .dataframe tbody tr th:only-of-type {\n",
              "        vertical-align: middle;\n",
              "    }\n",
              "\n",
              "    .dataframe tbody tr th {\n",
              "        vertical-align: top;\n",
              "    }\n",
              "\n",
              "    .dataframe thead th {\n",
              "        text-align: right;\n",
              "    }\n",
              "</style>\n",
              "<table border=\"1\" class=\"dataframe\">\n",
              "  <thead>\n",
              "    <tr style=\"text-align: right;\">\n",
              "      <th></th>\n",
              "      <th>gender</th>\n",
              "      <th>race/ethnicity</th>\n",
              "      <th>parental level of education</th>\n",
              "      <th>lunch</th>\n",
              "      <th>test preparation course</th>\n",
              "      <th>math score</th>\n",
              "      <th>reading score</th>\n",
              "      <th>writing score</th>\n",
              "    </tr>\n",
              "  </thead>\n",
              "  <tbody>\n",
              "    <tr>\n",
              "      <th>0</th>\n",
              "      <td>female</td>\n",
              "      <td>group B</td>\n",
              "      <td>bachelor's degree</td>\n",
              "      <td>standard</td>\n",
              "      <td>none</td>\n",
              "      <td>72</td>\n",
              "      <td>72</td>\n",
              "      <td>74</td>\n",
              "    </tr>\n",
              "    <tr>\n",
              "      <th>1</th>\n",
              "      <td>female</td>\n",
              "      <td>group C</td>\n",
              "      <td>some college</td>\n",
              "      <td>standard</td>\n",
              "      <td>completed</td>\n",
              "      <td>69</td>\n",
              "      <td>90</td>\n",
              "      <td>88</td>\n",
              "    </tr>\n",
              "    <tr>\n",
              "      <th>2</th>\n",
              "      <td>female</td>\n",
              "      <td>group B</td>\n",
              "      <td>master's degree</td>\n",
              "      <td>standard</td>\n",
              "      <td>none</td>\n",
              "      <td>90</td>\n",
              "      <td>95</td>\n",
              "      <td>93</td>\n",
              "    </tr>\n",
              "    <tr>\n",
              "      <th>3</th>\n",
              "      <td>male</td>\n",
              "      <td>group A</td>\n",
              "      <td>associate's degree</td>\n",
              "      <td>free/reduced</td>\n",
              "      <td>none</td>\n",
              "      <td>47</td>\n",
              "      <td>57</td>\n",
              "      <td>44</td>\n",
              "    </tr>\n",
              "    <tr>\n",
              "      <th>4</th>\n",
              "      <td>male</td>\n",
              "      <td>group C</td>\n",
              "      <td>some college</td>\n",
              "      <td>standard</td>\n",
              "      <td>none</td>\n",
              "      <td>76</td>\n",
              "      <td>78</td>\n",
              "      <td>75</td>\n",
              "    </tr>\n",
              "  </tbody>\n",
              "</table>\n",
              "</div>\n",
              "      <button class=\"colab-df-convert\" onclick=\"convertToInteractive('df-86078ffb-0f4b-4f8a-a54c-1fbf2a5bb3df')\"\n",
              "              title=\"Convert this dataframe to an interactive table.\"\n",
              "              style=\"display:none;\">\n",
              "        \n",
              "  <svg xmlns=\"http://www.w3.org/2000/svg\" height=\"24px\"viewBox=\"0 0 24 24\"\n",
              "       width=\"24px\">\n",
              "    <path d=\"M0 0h24v24H0V0z\" fill=\"none\"/>\n",
              "    <path d=\"M18.56 5.44l.94 2.06.94-2.06 2.06-.94-2.06-.94-.94-2.06-.94 2.06-2.06.94zm-11 1L8.5 8.5l.94-2.06 2.06-.94-2.06-.94L8.5 2.5l-.94 2.06-2.06.94zm10 10l.94 2.06.94-2.06 2.06-.94-2.06-.94-.94-2.06-.94 2.06-2.06.94z\"/><path d=\"M17.41 7.96l-1.37-1.37c-.4-.4-.92-.59-1.43-.59-.52 0-1.04.2-1.43.59L10.3 9.45l-7.72 7.72c-.78.78-.78 2.05 0 2.83L4 21.41c.39.39.9.59 1.41.59.51 0 1.02-.2 1.41-.59l7.78-7.78 2.81-2.81c.8-.78.8-2.07 0-2.86zM5.41 20L4 18.59l7.72-7.72 1.47 1.35L5.41 20z\"/>\n",
              "  </svg>\n",
              "      </button>\n",
              "      \n",
              "  <style>\n",
              "    .colab-df-container {\n",
              "      display:flex;\n",
              "      flex-wrap:wrap;\n",
              "      gap: 12px;\n",
              "    }\n",
              "\n",
              "    .colab-df-convert {\n",
              "      background-color: #E8F0FE;\n",
              "      border: none;\n",
              "      border-radius: 50%;\n",
              "      cursor: pointer;\n",
              "      display: none;\n",
              "      fill: #1967D2;\n",
              "      height: 32px;\n",
              "      padding: 0 0 0 0;\n",
              "      width: 32px;\n",
              "    }\n",
              "\n",
              "    .colab-df-convert:hover {\n",
              "      background-color: #E2EBFA;\n",
              "      box-shadow: 0px 1px 2px rgba(60, 64, 67, 0.3), 0px 1px 3px 1px rgba(60, 64, 67, 0.15);\n",
              "      fill: #174EA6;\n",
              "    }\n",
              "\n",
              "    [theme=dark] .colab-df-convert {\n",
              "      background-color: #3B4455;\n",
              "      fill: #D2E3FC;\n",
              "    }\n",
              "\n",
              "    [theme=dark] .colab-df-convert:hover {\n",
              "      background-color: #434B5C;\n",
              "      box-shadow: 0px 1px 3px 1px rgba(0, 0, 0, 0.15);\n",
              "      filter: drop-shadow(0px 1px 2px rgba(0, 0, 0, 0.3));\n",
              "      fill: #FFFFFF;\n",
              "    }\n",
              "  </style>\n",
              "\n",
              "      <script>\n",
              "        const buttonEl =\n",
              "          document.querySelector('#df-86078ffb-0f4b-4f8a-a54c-1fbf2a5bb3df button.colab-df-convert');\n",
              "        buttonEl.style.display =\n",
              "          google.colab.kernel.accessAllowed ? 'block' : 'none';\n",
              "\n",
              "        async function convertToInteractive(key) {\n",
              "          const element = document.querySelector('#df-86078ffb-0f4b-4f8a-a54c-1fbf2a5bb3df');\n",
              "          const dataTable =\n",
              "            await google.colab.kernel.invokeFunction('convertToInteractive',\n",
              "                                                     [key], {});\n",
              "          if (!dataTable) return;\n",
              "\n",
              "          const docLinkHtml = 'Like what you see? Visit the ' +\n",
              "            '<a target=\"_blank\" href=https://colab.research.google.com/notebooks/data_table.ipynb>data table notebook</a>'\n",
              "            + ' to learn more about interactive tables.';\n",
              "          element.innerHTML = '';\n",
              "          dataTable['output_type'] = 'display_data';\n",
              "          await google.colab.output.renderOutput(dataTable, element);\n",
              "          const docLink = document.createElement('div');\n",
              "          docLink.innerHTML = docLinkHtml;\n",
              "          element.appendChild(docLink);\n",
              "        }\n",
              "      </script>\n",
              "    </div>\n",
              "  </div>\n",
              "  "
            ]
          },
          "metadata": {},
          "execution_count": 7
        }
      ],
      "source": [
        "# seeing dataset\n",
        "df.head()"
      ],
      "id": "7mJx4gu15nc-"
    },
    {
      "cell_type": "code",
      "execution_count": null,
      "metadata": {
        "colab": {
          "base_uri": "https://localhost:8080/"
        },
        "id": "ca548863",
        "outputId": "9151ca67-a5ec-479e-fac6-421ff7b9cc7d"
      },
      "outputs": [
        {
          "output_type": "stream",
          "name": "stdout",
          "text": [
            "Number of rows and columns:  (1000, 8)\n"
          ]
        }
      ],
      "source": [
        "#Finding number of rows and columns\n",
        "print(\"Number of rows and columns: \", df.shape)"
      ],
      "id": "ca548863"
    },
    {
      "cell_type": "code",
      "execution_count": null,
      "metadata": {
        "colab": {
          "base_uri": "https://localhost:8080/"
        },
        "id": "2e8e5d9b",
        "outputId": "ec99637f-21c8-4d77-8259-3119915d3cee"
      },
      "outputs": [
        {
          "output_type": "execute_result",
          "data": {
            "text/plain": [
              "<bound method DataFrame.info of      gender race/ethnicity parental level of education         lunch  \\\n",
              "0    female        group B           bachelor's degree      standard   \n",
              "1    female        group C                some college      standard   \n",
              "2    female        group B             master's degree      standard   \n",
              "3      male        group A          associate's degree  free/reduced   \n",
              "4      male        group C                some college      standard   \n",
              "..      ...            ...                         ...           ...   \n",
              "995  female        group E             master's degree      standard   \n",
              "996    male        group C                 high school  free/reduced   \n",
              "997  female        group C                 high school  free/reduced   \n",
              "998  female        group D                some college      standard   \n",
              "999  female        group D                some college  free/reduced   \n",
              "\n",
              "    test preparation course  math score  reading score  writing score  \n",
              "0                      none          72             72             74  \n",
              "1                 completed          69             90             88  \n",
              "2                      none          90             95             93  \n",
              "3                      none          47             57             44  \n",
              "4                      none          76             78             75  \n",
              "..                      ...         ...            ...            ...  \n",
              "995               completed          88             99             95  \n",
              "996                    none          62             55             55  \n",
              "997               completed          59             71             65  \n",
              "998               completed          68             78             77  \n",
              "999                    none          77             86             86  \n",
              "\n",
              "[1000 rows x 8 columns]>"
            ]
          },
          "metadata": {},
          "execution_count": 9
        }
      ],
      "source": [
        "#List all the column\n",
        "df.info"
      ],
      "id": "2e8e5d9b"
    },
    {
      "cell_type": "markdown",
      "metadata": {
        "id": "07a33e21"
      },
      "source": [
        "The initial data set indicates that there are 1000 rows and 8 columns.\n",
        "\n",
        "our independent variables/ categories are: gender = male / female meal = standard / free parent educational level = taking up bachelor of science / some colleges / master degree / associate degree / high school / master's degree test preparation course = complete / not finished race/ethnicity equals Group A-B-C-D-E\n",
        "\n",
        "numerical variables / dependent variable which are :\n",
        "<br>math score\n",
        "<br>\n",
        "reading score\n",
        "<br>\n",
        "writing score"
      ],
      "id": "07a33e21"
    },
    {
      "cell_type": "code",
      "execution_count": null,
      "metadata": {
        "colab": {
          "base_uri": "https://localhost:8080/"
        },
        "id": "1056fd7e",
        "outputId": "7a33d48b-e9f5-47eb-f30d-f2722631b29b"
      },
      "outputs": [
        {
          "output_type": "stream",
          "name": "stdout",
          "text": [
            "<class 'pandas.core.frame.DataFrame'>\n",
            "RangeIndex: 1000 entries, 0 to 999\n",
            "Data columns (total 8 columns):\n",
            " #   Column                       Non-Null Count  Dtype \n",
            "---  ------                       --------------  ----- \n",
            " 0   gender                       1000 non-null   object\n",
            " 1   race/ethnicity               1000 non-null   object\n",
            " 2   parental level of education  1000 non-null   object\n",
            " 3   lunch                        1000 non-null   object\n",
            " 4   test preparation course      1000 non-null   object\n",
            " 5   math score                   1000 non-null   int64 \n",
            " 6   reading score                1000 non-null   int64 \n",
            " 7   writing score                1000 non-null   int64 \n",
            "dtypes: int64(3), object(5)\n",
            "memory usage: 62.6+ KB\n"
          ]
        }
      ],
      "source": [
        "#Basic Information of each column using info() fucntion\n",
        "df.info()"
      ],
      "id": "1056fd7e"
    },
    {
      "cell_type": "markdown",
      "metadata": {
        "id": "14fd1bc7"
      },
      "source": [
        "As shown in the table above, there are three numerical variables and five category variables."
      ],
      "id": "14fd1bc7"
    },
    {
      "cell_type": "markdown",
      "metadata": {
        "id": "b96bcc5c"
      },
      "source": [
        "Our data collection is derived from high school student statistics in the United States. It contains five independent factors, namely gender, race/ethnicity, parental educational background, test preparation, and lunch(nutrient consumption), which influence the dependent variables used to measure student performance, namely math, reading, and writing scores. Our research will determine whether or not the independent and dependent variables are substantially connected. In our situation, it will be the student's academic performance. Greater correlation will ultimately result in stronger links between the qualities."
      ],
      "id": "b96bcc5c"
    },
    {
      "cell_type": "markdown",
      "metadata": {
        "id": "86cd3978"
      },
      "source": [
        "<tr>\n",
        "<th style=\"text-align:justify;font-family: 'Times New Roman';\"><font size=\"4\">\n",
        "   The fundamental statistic representation of numerical/quantitative data </font></th>\n",
        "</tr>\n",
        "\n"
      ],
      "id": "86cd3978"
    },
    {
      "cell_type": "code",
      "execution_count": null,
      "metadata": {
        "colab": {
          "base_uri": "https://localhost:8080/",
          "height": 300
        },
        "id": "1ae71aa7",
        "outputId": "510d669e-97e2-419b-a4e1-b4a5d5cbc6d7"
      },
      "outputs": [
        {
          "output_type": "execute_result",
          "data": {
            "text/plain": [
              "       math score  reading score  writing score\n",
              "count  1000.00000    1000.000000    1000.000000\n",
              "mean     66.08900      69.169000      68.054000\n",
              "std      15.16308      14.600192      15.195657\n",
              "min       0.00000      17.000000      10.000000\n",
              "25%      57.00000      59.000000      57.750000\n",
              "50%      66.00000      70.000000      69.000000\n",
              "75%      77.00000      79.000000      79.000000\n",
              "max     100.00000     100.000000     100.000000"
            ],
            "text/html": [
              "\n",
              "  <div id=\"df-044095a1-759f-443a-b08f-ef1be3ca076b\">\n",
              "    <div class=\"colab-df-container\">\n",
              "      <div>\n",
              "<style scoped>\n",
              "    .dataframe tbody tr th:only-of-type {\n",
              "        vertical-align: middle;\n",
              "    }\n",
              "\n",
              "    .dataframe tbody tr th {\n",
              "        vertical-align: top;\n",
              "    }\n",
              "\n",
              "    .dataframe thead th {\n",
              "        text-align: right;\n",
              "    }\n",
              "</style>\n",
              "<table border=\"1\" class=\"dataframe\">\n",
              "  <thead>\n",
              "    <tr style=\"text-align: right;\">\n",
              "      <th></th>\n",
              "      <th>math score</th>\n",
              "      <th>reading score</th>\n",
              "      <th>writing score</th>\n",
              "    </tr>\n",
              "  </thead>\n",
              "  <tbody>\n",
              "    <tr>\n",
              "      <th>count</th>\n",
              "      <td>1000.00000</td>\n",
              "      <td>1000.000000</td>\n",
              "      <td>1000.000000</td>\n",
              "    </tr>\n",
              "    <tr>\n",
              "      <th>mean</th>\n",
              "      <td>66.08900</td>\n",
              "      <td>69.169000</td>\n",
              "      <td>68.054000</td>\n",
              "    </tr>\n",
              "    <tr>\n",
              "      <th>std</th>\n",
              "      <td>15.16308</td>\n",
              "      <td>14.600192</td>\n",
              "      <td>15.195657</td>\n",
              "    </tr>\n",
              "    <tr>\n",
              "      <th>min</th>\n",
              "      <td>0.00000</td>\n",
              "      <td>17.000000</td>\n",
              "      <td>10.000000</td>\n",
              "    </tr>\n",
              "    <tr>\n",
              "      <th>25%</th>\n",
              "      <td>57.00000</td>\n",
              "      <td>59.000000</td>\n",
              "      <td>57.750000</td>\n",
              "    </tr>\n",
              "    <tr>\n",
              "      <th>50%</th>\n",
              "      <td>66.00000</td>\n",
              "      <td>70.000000</td>\n",
              "      <td>69.000000</td>\n",
              "    </tr>\n",
              "    <tr>\n",
              "      <th>75%</th>\n",
              "      <td>77.00000</td>\n",
              "      <td>79.000000</td>\n",
              "      <td>79.000000</td>\n",
              "    </tr>\n",
              "    <tr>\n",
              "      <th>max</th>\n",
              "      <td>100.00000</td>\n",
              "      <td>100.000000</td>\n",
              "      <td>100.000000</td>\n",
              "    </tr>\n",
              "  </tbody>\n",
              "</table>\n",
              "</div>\n",
              "      <button class=\"colab-df-convert\" onclick=\"convertToInteractive('df-044095a1-759f-443a-b08f-ef1be3ca076b')\"\n",
              "              title=\"Convert this dataframe to an interactive table.\"\n",
              "              style=\"display:none;\">\n",
              "        \n",
              "  <svg xmlns=\"http://www.w3.org/2000/svg\" height=\"24px\"viewBox=\"0 0 24 24\"\n",
              "       width=\"24px\">\n",
              "    <path d=\"M0 0h24v24H0V0z\" fill=\"none\"/>\n",
              "    <path d=\"M18.56 5.44l.94 2.06.94-2.06 2.06-.94-2.06-.94-.94-2.06-.94 2.06-2.06.94zm-11 1L8.5 8.5l.94-2.06 2.06-.94-2.06-.94L8.5 2.5l-.94 2.06-2.06.94zm10 10l.94 2.06.94-2.06 2.06-.94-2.06-.94-.94-2.06-.94 2.06-2.06.94z\"/><path d=\"M17.41 7.96l-1.37-1.37c-.4-.4-.92-.59-1.43-.59-.52 0-1.04.2-1.43.59L10.3 9.45l-7.72 7.72c-.78.78-.78 2.05 0 2.83L4 21.41c.39.39.9.59 1.41.59.51 0 1.02-.2 1.41-.59l7.78-7.78 2.81-2.81c.8-.78.8-2.07 0-2.86zM5.41 20L4 18.59l7.72-7.72 1.47 1.35L5.41 20z\"/>\n",
              "  </svg>\n",
              "      </button>\n",
              "      \n",
              "  <style>\n",
              "    .colab-df-container {\n",
              "      display:flex;\n",
              "      flex-wrap:wrap;\n",
              "      gap: 12px;\n",
              "    }\n",
              "\n",
              "    .colab-df-convert {\n",
              "      background-color: #E8F0FE;\n",
              "      border: none;\n",
              "      border-radius: 50%;\n",
              "      cursor: pointer;\n",
              "      display: none;\n",
              "      fill: #1967D2;\n",
              "      height: 32px;\n",
              "      padding: 0 0 0 0;\n",
              "      width: 32px;\n",
              "    }\n",
              "\n",
              "    .colab-df-convert:hover {\n",
              "      background-color: #E2EBFA;\n",
              "      box-shadow: 0px 1px 2px rgba(60, 64, 67, 0.3), 0px 1px 3px 1px rgba(60, 64, 67, 0.15);\n",
              "      fill: #174EA6;\n",
              "    }\n",
              "\n",
              "    [theme=dark] .colab-df-convert {\n",
              "      background-color: #3B4455;\n",
              "      fill: #D2E3FC;\n",
              "    }\n",
              "\n",
              "    [theme=dark] .colab-df-convert:hover {\n",
              "      background-color: #434B5C;\n",
              "      box-shadow: 0px 1px 3px 1px rgba(0, 0, 0, 0.15);\n",
              "      filter: drop-shadow(0px 1px 2px rgba(0, 0, 0, 0.3));\n",
              "      fill: #FFFFFF;\n",
              "    }\n",
              "  </style>\n",
              "\n",
              "      <script>\n",
              "        const buttonEl =\n",
              "          document.querySelector('#df-044095a1-759f-443a-b08f-ef1be3ca076b button.colab-df-convert');\n",
              "        buttonEl.style.display =\n",
              "          google.colab.kernel.accessAllowed ? 'block' : 'none';\n",
              "\n",
              "        async function convertToInteractive(key) {\n",
              "          const element = document.querySelector('#df-044095a1-759f-443a-b08f-ef1be3ca076b');\n",
              "          const dataTable =\n",
              "            await google.colab.kernel.invokeFunction('convertToInteractive',\n",
              "                                                     [key], {});\n",
              "          if (!dataTable) return;\n",
              "\n",
              "          const docLinkHtml = 'Like what you see? Visit the ' +\n",
              "            '<a target=\"_blank\" href=https://colab.research.google.com/notebooks/data_table.ipynb>data table notebook</a>'\n",
              "            + ' to learn more about interactive tables.';\n",
              "          element.innerHTML = '';\n",
              "          dataTable['output_type'] = 'display_data';\n",
              "          await google.colab.output.renderOutput(dataTable, element);\n",
              "          const docLink = document.createElement('div');\n",
              "          docLink.innerHTML = docLinkHtml;\n",
              "          element.appendChild(docLink);\n",
              "        }\n",
              "      </script>\n",
              "    </div>\n",
              "  </div>\n",
              "  "
            ]
          },
          "metadata": {},
          "execution_count": 11
        }
      ],
      "source": [
        "#Basic Statistics of each column for quantitative data\n",
        "df.describe()"
      ],
      "id": "1ae71aa7"
    },
    {
      "cell_type": "markdown",
      "metadata": {
        "id": "2d2faff1"
      },
      "source": [
        "From above we can view their total score in each topic."
      ],
      "id": "2d2faff1"
    },
    {
      "cell_type": "code",
      "execution_count": null,
      "metadata": {
        "colab": {
          "base_uri": "https://localhost:8080/"
        },
        "id": "pO4ZpoXG7q0i",
        "outputId": "d93f67da-6e69-4df9-abb4-0f41d32fd50b"
      },
      "outputs": [
        {
          "output_type": "execute_result",
          "data": {
            "text/plain": [
              "gender                         0\n",
              "race/ethnicity                 0\n",
              "parental level of education    0\n",
              "lunch                          0\n",
              "test preparation course        0\n",
              "math score                     0\n",
              "reading score                  0\n",
              "writing score                  0\n",
              "dtype: int64"
            ]
          },
          "metadata": {},
          "execution_count": 12
        }
      ],
      "source": [
        "df.isna().sum()"
      ],
      "id": "pO4ZpoXG7q0i"
    },
    {
      "cell_type": "markdown",
      "metadata": {
        "id": "3bfe363c"
      },
      "source": [
        "Create a dataframe with columns that indicate if each column contains NULL values and their associated data types in order to determine the number of missing values in each column."
      ],
      "id": "3bfe363c"
    },
    {
      "cell_type": "markdown",
      "source": [],
      "metadata": {
        "id": "zIcK7ywiinmU"
      },
      "id": "zIcK7ywiinmU"
    },
    {
      "cell_type": "code",
      "execution_count": null,
      "metadata": {
        "colab": {
          "base_uri": "https://localhost:8080/",
          "height": 300
        },
        "id": "e2579182",
        "outputId": "fc7efc3c-bb75-4120-9c37-52ae8bfbf62e"
      },
      "outputs": [
        {
          "output_type": "execute_result",
          "data": {
            "text/plain": [
              "                             isNullExist  NullSum    type\n",
              "gender                             False        0  object\n",
              "race/ethnicity                     False        0  object\n",
              "parental level of education        False        0  object\n",
              "lunch                              False        0  object\n",
              "test preparation course            False        0  object\n",
              "math score                         False        0   int64\n",
              "reading score                      False        0   int64\n",
              "writing score                      False        0   int64"
            ],
            "text/html": [
              "\n",
              "  <div id=\"df-b7e49d0c-73c7-496a-b906-001cbee86164\">\n",
              "    <div class=\"colab-df-container\">\n",
              "      <div>\n",
              "<style scoped>\n",
              "    .dataframe tbody tr th:only-of-type {\n",
              "        vertical-align: middle;\n",
              "    }\n",
              "\n",
              "    .dataframe tbody tr th {\n",
              "        vertical-align: top;\n",
              "    }\n",
              "\n",
              "    .dataframe thead th {\n",
              "        text-align: right;\n",
              "    }\n",
              "</style>\n",
              "<table border=\"1\" class=\"dataframe\">\n",
              "  <thead>\n",
              "    <tr style=\"text-align: right;\">\n",
              "      <th></th>\n",
              "      <th>isNullExist</th>\n",
              "      <th>NullSum</th>\n",
              "      <th>type</th>\n",
              "    </tr>\n",
              "  </thead>\n",
              "  <tbody>\n",
              "    <tr>\n",
              "      <th>gender</th>\n",
              "      <td>False</td>\n",
              "      <td>0</td>\n",
              "      <td>object</td>\n",
              "    </tr>\n",
              "    <tr>\n",
              "      <th>race/ethnicity</th>\n",
              "      <td>False</td>\n",
              "      <td>0</td>\n",
              "      <td>object</td>\n",
              "    </tr>\n",
              "    <tr>\n",
              "      <th>parental level of education</th>\n",
              "      <td>False</td>\n",
              "      <td>0</td>\n",
              "      <td>object</td>\n",
              "    </tr>\n",
              "    <tr>\n",
              "      <th>lunch</th>\n",
              "      <td>False</td>\n",
              "      <td>0</td>\n",
              "      <td>object</td>\n",
              "    </tr>\n",
              "    <tr>\n",
              "      <th>test preparation course</th>\n",
              "      <td>False</td>\n",
              "      <td>0</td>\n",
              "      <td>object</td>\n",
              "    </tr>\n",
              "    <tr>\n",
              "      <th>math score</th>\n",
              "      <td>False</td>\n",
              "      <td>0</td>\n",
              "      <td>int64</td>\n",
              "    </tr>\n",
              "    <tr>\n",
              "      <th>reading score</th>\n",
              "      <td>False</td>\n",
              "      <td>0</td>\n",
              "      <td>int64</td>\n",
              "    </tr>\n",
              "    <tr>\n",
              "      <th>writing score</th>\n",
              "      <td>False</td>\n",
              "      <td>0</td>\n",
              "      <td>int64</td>\n",
              "    </tr>\n",
              "  </tbody>\n",
              "</table>\n",
              "</div>\n",
              "      <button class=\"colab-df-convert\" onclick=\"convertToInteractive('df-b7e49d0c-73c7-496a-b906-001cbee86164')\"\n",
              "              title=\"Convert this dataframe to an interactive table.\"\n",
              "              style=\"display:none;\">\n",
              "        \n",
              "  <svg xmlns=\"http://www.w3.org/2000/svg\" height=\"24px\"viewBox=\"0 0 24 24\"\n",
              "       width=\"24px\">\n",
              "    <path d=\"M0 0h24v24H0V0z\" fill=\"none\"/>\n",
              "    <path d=\"M18.56 5.44l.94 2.06.94-2.06 2.06-.94-2.06-.94-.94-2.06-.94 2.06-2.06.94zm-11 1L8.5 8.5l.94-2.06 2.06-.94-2.06-.94L8.5 2.5l-.94 2.06-2.06.94zm10 10l.94 2.06.94-2.06 2.06-.94-2.06-.94-.94-2.06-.94 2.06-2.06.94z\"/><path d=\"M17.41 7.96l-1.37-1.37c-.4-.4-.92-.59-1.43-.59-.52 0-1.04.2-1.43.59L10.3 9.45l-7.72 7.72c-.78.78-.78 2.05 0 2.83L4 21.41c.39.39.9.59 1.41.59.51 0 1.02-.2 1.41-.59l7.78-7.78 2.81-2.81c.8-.78.8-2.07 0-2.86zM5.41 20L4 18.59l7.72-7.72 1.47 1.35L5.41 20z\"/>\n",
              "  </svg>\n",
              "      </button>\n",
              "      \n",
              "  <style>\n",
              "    .colab-df-container {\n",
              "      display:flex;\n",
              "      flex-wrap:wrap;\n",
              "      gap: 12px;\n",
              "    }\n",
              "\n",
              "    .colab-df-convert {\n",
              "      background-color: #E8F0FE;\n",
              "      border: none;\n",
              "      border-radius: 50%;\n",
              "      cursor: pointer;\n",
              "      display: none;\n",
              "      fill: #1967D2;\n",
              "      height: 32px;\n",
              "      padding: 0 0 0 0;\n",
              "      width: 32px;\n",
              "    }\n",
              "\n",
              "    .colab-df-convert:hover {\n",
              "      background-color: #E2EBFA;\n",
              "      box-shadow: 0px 1px 2px rgba(60, 64, 67, 0.3), 0px 1px 3px 1px rgba(60, 64, 67, 0.15);\n",
              "      fill: #174EA6;\n",
              "    }\n",
              "\n",
              "    [theme=dark] .colab-df-convert {\n",
              "      background-color: #3B4455;\n",
              "      fill: #D2E3FC;\n",
              "    }\n",
              "\n",
              "    [theme=dark] .colab-df-convert:hover {\n",
              "      background-color: #434B5C;\n",
              "      box-shadow: 0px 1px 3px 1px rgba(0, 0, 0, 0.15);\n",
              "      filter: drop-shadow(0px 1px 2px rgba(0, 0, 0, 0.3));\n",
              "      fill: #FFFFFF;\n",
              "    }\n",
              "  </style>\n",
              "\n",
              "      <script>\n",
              "        const buttonEl =\n",
              "          document.querySelector('#df-b7e49d0c-73c7-496a-b906-001cbee86164 button.colab-df-convert');\n",
              "        buttonEl.style.display =\n",
              "          google.colab.kernel.accessAllowed ? 'block' : 'none';\n",
              "\n",
              "        async function convertToInteractive(key) {\n",
              "          const element = document.querySelector('#df-b7e49d0c-73c7-496a-b906-001cbee86164');\n",
              "          const dataTable =\n",
              "            await google.colab.kernel.invokeFunction('convertToInteractive',\n",
              "                                                     [key], {});\n",
              "          if (!dataTable) return;\n",
              "\n",
              "          const docLinkHtml = 'Like what you see? Visit the ' +\n",
              "            '<a target=\"_blank\" href=https://colab.research.google.com/notebooks/data_table.ipynb>data table notebook</a>'\n",
              "            + ' to learn more about interactive tables.';\n",
              "          element.innerHTML = '';\n",
              "          dataTable['output_type'] = 'display_data';\n",
              "          await google.colab.output.renderOutput(dataTable, element);\n",
              "          const docLink = document.createElement('div');\n",
              "          docLink.innerHTML = docLinkHtml;\n",
              "          element.appendChild(docLink);\n",
              "        }\n",
              "      </script>\n",
              "    </div>\n",
              "  </div>\n",
              "  "
            ]
          },
          "metadata": {},
          "execution_count": 13
        }
      ],
      "source": [
        "#finding the data types of each column and checking for null\n",
        "null_ = df.isna().any()\n",
        "dtypes = df.dtypes\n",
        "sum_na_ = df.isna().sum()\n",
        "info = pd.concat([null_,sum_na_,dtypes],axis = 1,keys = ['isNullExist','NullSum','type'])\n",
        "info"
      ],
      "id": "e2579182"
    },
    {
      "cell_type": "markdown",
      "metadata": {
        "id": "794db642"
      },
      "source": [
        "It is shown that the data has no null value."
      ],
      "id": "794db642"
    },
    {
      "cell_type": "markdown",
      "source": [],
      "metadata": {
        "id": "u8odFrjQi2Jb"
      },
      "id": "u8odFrjQi2Jb"
    },
    {
      "cell_type": "markdown",
      "metadata": {
        "id": "d6835225"
      },
      "source": [
        "## b) **EDA** (Exploratory data analysis)\n",
        "\n"
      ],
      "id": "d6835225"
    },
    {
      "cell_type": "markdown",
      "source": [
        "<tr>\n",
        "<th style=\"text-align:justify;font-family: 'Times New Roman';\"><font size=\"4\">\n",
        "    Create graph for the frequency distribution of parental level of education </font></th>\n",
        "<tr>\n"
      ],
      "metadata": {
        "id": "Ga8-rlQ46Wws"
      },
      "id": "Ga8-rlQ46Wws"
    },
    {
      "cell_type": "code",
      "execution_count": null,
      "metadata": {
        "colab": {
          "base_uri": "https://localhost:8080/",
          "height": 350
        },
        "id": "1864ee40",
        "outputId": "df1a563d-2b8d-458d-b1cf-e4ce9759b638"
      },
      "outputs": [
        {
          "output_type": "display_data",
          "data": {
            "text/plain": [
              "<Figure size 720x360 with 1 Axes>"
            ],
            "image/png": "[encoded data removed]"
          },
          "metadata": {
            "needs_background": "light"
          }
        }
      ],
      "source": [
        "# Create graph for the frequency distribution of parental level of education\n",
        "plt.figure(figsize = (10, 5))\n",
        "plt.bar(df['parental level of education'], height=80, width=0.2)\n",
        "plt.xticks(np.arange(6))\n",
        "plt.xlabel('Education')\n",
        "plt.ylabel('Count')\n",
        "plt.title('Frequency of Parental Level of Education')\n",
        "plt.show()"
      ],
      "id": "1864ee40"
    },
    {
      "cell_type": "markdown",
      "metadata": {
        "id": "9403c52a"
      },
      "source": [
        "According to the statistical analysis of categorical data, the majority of parents have a high school diploma or an associate's degree."
      ],
      "id": "9403c52a"
    },
    {
      "cell_type": "code",
      "execution_count": null,
      "metadata": {
        "id": "75273274",
        "colab": {
          "base_uri": "https://localhost:8080/"
        },
        "outputId": "ba5e1ce7-2b7c-4064-b609-7af62d039fa6"
      },
      "outputs": [
        {
          "output_type": "execute_result",
          "data": {
            "text/plain": [
              "pandas.core.series.Series"
            ]
          },
          "metadata": {},
          "execution_count": 15
        }
      ],
      "source": [
        "df1=df['race/ethnicity'].value_counts()\n",
        "type(df1)"
      ],
      "id": "75273274"
    },
    {
      "cell_type": "code",
      "execution_count": null,
      "metadata": {
        "id": "61274a43",
        "colab": {
          "base_uri": "https://localhost:8080/",
          "height": 206
        },
        "outputId": "5265db08-d5ed-4019-f5a2-54e71eb7cad9"
      },
      "outputs": [
        {
          "output_type": "execute_result",
          "data": {
            "text/plain": [
              "         race/ethnicity\n",
              "group C             319\n",
              "group D             262\n",
              "group B             190\n",
              "group E             140\n",
              "group A              89"
            ],
            "text/html": [
              "\n",
              "  <div id=\"df-e3affade-78a2-463a-b74b-920a6bc7f0f7\">\n",
              "    <div class=\"colab-df-container\">\n",
              "      <div>\n",
              "<style scoped>\n",
              "    .dataframe tbody tr th:only-of-type {\n",
              "        vertical-align: middle;\n",
              "    }\n",
              "\n",
              "    .dataframe tbody tr th {\n",
              "        vertical-align: top;\n",
              "    }\n",
              "\n",
              "    .dataframe thead th {\n",
              "        text-align: right;\n",
              "    }\n",
              "</style>\n",
              "<table border=\"1\" class=\"dataframe\">\n",
              "  <thead>\n",
              "    <tr style=\"text-align: right;\">\n",
              "      <th></th>\n",
              "      <th>race/ethnicity</th>\n",
              "    </tr>\n",
              "  </thead>\n",
              "  <tbody>\n",
              "    <tr>\n",
              "      <th>group C</th>\n",
              "      <td>319</td>\n",
              "    </tr>\n",
              "    <tr>\n",
              "      <th>group D</th>\n",
              "      <td>262</td>\n",
              "    </tr>\n",
              "    <tr>\n",
              "      <th>group B</th>\n",
              "      <td>190</td>\n",
              "    </tr>\n",
              "    <tr>\n",
              "      <th>group E</th>\n",
              "      <td>140</td>\n",
              "    </tr>\n",
              "    <tr>\n",
              "      <th>group A</th>\n",
              "      <td>89</td>\n",
              "    </tr>\n",
              "  </tbody>\n",
              "</table>\n",
              "</div>\n",
              "      <button class=\"colab-df-convert\" onclick=\"convertToInteractive('df-e3affade-78a2-463a-b74b-920a6bc7f0f7')\"\n",
              "              title=\"Convert this dataframe to an interactive table.\"\n",
              "              style=\"display:none;\">\n",
              "        \n",
              "  <svg xmlns=\"http://www.w3.org/2000/svg\" height=\"24px\"viewBox=\"0 0 24 24\"\n",
              "       width=\"24px\">\n",
              "    <path d=\"M0 0h24v24H0V0z\" fill=\"none\"/>\n",
              "    <path d=\"M18.56 5.44l.94 2.06.94-2.06 2.06-.94-2.06-.94-.94-2.06-.94 2.06-2.06.94zm-11 1L8.5 8.5l.94-2.06 2.06-.94-2.06-.94L8.5 2.5l-.94 2.06-2.06.94zm10 10l.94 2.06.94-2.06 2.06-.94-2.06-.94-.94-2.06-.94 2.06-2.06.94z\"/><path d=\"M17.41 7.96l-1.37-1.37c-.4-.4-.92-.59-1.43-.59-.52 0-1.04.2-1.43.59L10.3 9.45l-7.72 7.72c-.78.78-.78 2.05 0 2.83L4 21.41c.39.39.9.59 1.41.59.51 0 1.02-.2 1.41-.59l7.78-7.78 2.81-2.81c.8-.78.8-2.07 0-2.86zM5.41 20L4 18.59l7.72-7.72 1.47 1.35L5.41 20z\"/>\n",
              "  </svg>\n",
              "      </button>\n",
              "      \n",
              "  <style>\n",
              "    .colab-df-container {\n",
              "      display:flex;\n",
              "      flex-wrap:wrap;\n",
              "      gap: 12px;\n",
              "    }\n",
              "\n",
              "    .colab-df-convert {\n",
              "      background-color: #E8F0FE;\n",
              "      border: none;\n",
              "      border-radius: 50%;\n",
              "      cursor: pointer;\n",
              "      display: none;\n",
              "      fill: #1967D2;\n",
              "      height: 32px;\n",
              "      padding: 0 0 0 0;\n",
              "      width: 32px;\n",
              "    }\n",
              "\n",
              "    .colab-df-convert:hover {\n",
              "      background-color: #E2EBFA;\n",
              "      box-shadow: 0px 1px 2px rgba(60, 64, 67, 0.3), 0px 1px 3px 1px rgba(60, 64, 67, 0.15);\n",
              "      fill: #174EA6;\n",
              "    }\n",
              "\n",
              "    [theme=dark] .colab-df-convert {\n",
              "      background-color: #3B4455;\n",
              "      fill: #D2E3FC;\n",
              "    }\n",
              "\n",
              "    [theme=dark] .colab-df-convert:hover {\n",
              "      background-color: #434B5C;\n",
              "      box-shadow: 0px 1px 3px 1px rgba(0, 0, 0, 0.15);\n",
              "      filter: drop-shadow(0px 1px 2px rgba(0, 0, 0, 0.3));\n",
              "      fill: #FFFFFF;\n",
              "    }\n",
              "  </style>\n",
              "\n",
              "      <script>\n",
              "        const buttonEl =\n",
              "          document.querySelector('#df-e3affade-78a2-463a-b74b-920a6bc7f0f7 button.colab-df-convert');\n",
              "        buttonEl.style.display =\n",
              "          google.colab.kernel.accessAllowed ? 'block' : 'none';\n",
              "\n",
              "        async function convertToInteractive(key) {\n",
              "          const element = document.querySelector('#df-e3affade-78a2-463a-b74b-920a6bc7f0f7');\n",
              "          const dataTable =\n",
              "            await google.colab.kernel.invokeFunction('convertToInteractive',\n",
              "                                                     [key], {});\n",
              "          if (!dataTable) return;\n",
              "\n",
              "          const docLinkHtml = 'Like what you see? Visit the ' +\n",
              "            '<a target=\"_blank\" href=https://colab.research.google.com/notebooks/data_table.ipynb>data table notebook</a>'\n",
              "            + ' to learn more about interactive tables.';\n",
              "          element.innerHTML = '';\n",
              "          dataTable['output_type'] = 'display_data';\n",
              "          await google.colab.output.renderOutput(dataTable, element);\n",
              "          const docLink = document.createElement('div');\n",
              "          docLink.innerHTML = docLinkHtml;\n",
              "          element.appendChild(docLink);\n",
              "        }\n",
              "      </script>\n",
              "    </div>\n",
              "  </div>\n",
              "  "
            ]
          },
          "metadata": {},
          "execution_count": 16
        }
      ],
      "source": [
        "dfs = pd.DataFrame(df1)\n",
        "dfs"
      ],
      "id": "61274a43"
    },
    {
      "cell_type": "code",
      "execution_count": null,
      "metadata": {
        "id": "e9f92012",
        "colab": {
          "base_uri": "https://localhost:8080/",
          "height": 325
        },
        "outputId": "9859bdf2-4c7a-4c67-eb5e-248da250ec23"
      },
      "outputs": [
        {
          "output_type": "display_data",
          "data": {
            "text/plain": [
              "<Figure size 432x288 with 1 Axes>"
            ],
            "image/png": "[encoded data removed]"
          },
          "metadata": {
            "needs_background": "light"
          }
        }
      ],
      "source": [
        "# Create graph for the frequency distribution of race/ethnicity\n",
        "dfs['race/ethnicity'].plot.bar()\n",
        "plt.xticks(np.arange(5))\n",
        "plt.xlabel('race/ethnicity')\n",
        "plt.ylabel('Count')\n",
        "plt.title('Race/ethnicity')\n",
        "plt.show()"
      ],
      "id": "e9f92012"
    },
    {
      "cell_type": "markdown",
      "metadata": {
        "id": "cc81fbc9"
      },
      "source": [
        "From the chart, we see that only 35.8% of the student attended/completed the test preparation course"
      ],
      "id": "cc81fbc9"
    },
    {
      "cell_type": "markdown",
      "metadata": {
        "id": "585e5505"
      },
      "source": [
        "<tr>\n",
        "<th style=\"text-align:justify;font-family: 'Times New Roman';\"><font size=\"4\">\n",
        "    Frequency distribution for quantitative data </font></th>\n",
        "<tr>"
      ],
      "id": "585e5505"
    },
    {
      "cell_type": "code",
      "execution_count": null,
      "metadata": {
        "id": "18817b15",
        "colab": {
          "base_uri": "https://localhost:8080/",
          "height": 1000
        },
        "outputId": "20b0d31b-b71e-42ef-c198-f4164b5ab516"
      },
      "outputs": [
        {
          "output_type": "stream",
          "name": "stdout",
          "text": [
            "Target looks like regression\n"
          ]
        },
        {
          "output_type": "execute_result",
          "data": {
            "text/plain": [
              "[<AxesSubplot:title={'center':'Target distribution'}, xlabel='math score', ylabel='frequency'>,\n",
              " array([[<AxesSubplot:title={'center':'F=8.04E-01'}, xlabel='reading score', ylabel='math score'>,\n",
              "         <AxesSubplot:title={'center':'F=7.78E-01'}, xlabel='writing score'>]],\n",
              "       dtype=object),\n",
              " array([[<AxesSubplot:title={'center':'F=5.93E-02'}, xlabel='math score', ylabel='gender'>,\n",
              "         <AxesSubplot:title={'center':'F=3.35E-02'}, xlabel='math score', ylabel='race/ethnicity'>,\n",
              "         <AxesSubplot:title={'center':'F=3.00E-02'}, xlabel='math score', ylabel='parental level of education'>,\n",
              "         <AxesSubplot:title={'center':'F=1.49E-02'}, xlabel='math score', ylabel='lunch'>,\n",
              "         <AxesSubplot:title={'center':'F=0.00E+00'}, xlabel='math score', ylabel='test preparation course'>]],\n",
              "       dtype=object)]"
            ]
          },
          "metadata": {},
          "execution_count": 18
        },
        {
          "output_type": "display_data",
          "data": {
            "text/plain": [
              "<Figure size 1296x432 with 1 Axes>"
            ],
            "image/png": "[encoded data removed]"
          },
          "metadata": {}
        },
        {
          "output_type": "display_data",
          "data": {
            "text/plain": [
              "<Figure size 576x216 with 2 Axes>"
            ],
            "image/png": "[encoded data removed]"
          },
          "metadata": {}
        },
        {
          "output_type": "display_data",
          "data": {
            "text/plain": [
              "<Figure size 1440x360 with 5 Axes>"
            ],
            "image/png": "[encoded data removed]"
          },
          "metadata": {}
        }
      ],
      "source": [
        "# comparison of all other attributes with respect to Math Marks\n",
        "plt.rcParams['figure.figsize'] = (18, 6)\n",
        "plt.style.use('fivethirtyeight')\n",
        "dabl.plot(df, target_col = 'math score')"
      ],
      "id": "18817b15"
    },
    {
      "cell_type": "markdown",
      "metadata": {
        "id": "3f34c1bf"
      },
      "source": [
        "For further analysis, we decided to perform feature extraction. We add attributes to analyse 'pass_maths' 'pass_reading' 'pass writing' 'total score' 'percentage' 'grade'. Our target variable will be 'grade' to predict student performance"
      ],
      "id": "3f34c1bf"
    },
    {
      "cell_type": "markdown",
      "source": [
        "<tr>\n",
        "<th style=\"text-align:justify;font-family: 'Times New Roman';\"><font size=\"4\">\n",
        "    Analysis on students who pass in Reading </font></th>\n",
        "<tr>"
      ],
      "metadata": {
        "id": "IWnp1Ap410tq"
      },
      "id": "IWnp1Ap410tq"
    },
    {
      "cell_type": "code",
      "source": [
        "df"
      ],
      "metadata": {
        "colab": {
          "base_uri": "https://localhost:8080/",
          "height": 424
        },
        "id": "CYP5JigfHwdd",
        "outputId": "40da756b-bfae-4d21-c4b6-5f23e13e500c"
      },
      "id": "CYP5JigfHwdd",
      "execution_count": null,
      "outputs": [
        {
          "output_type": "execute_result",
          "data": {
            "text/plain": [
              "     gender race/ethnicity parental level of education         lunch  \\\n",
              "0    female        group B           bachelor's degree      standard   \n",
              "1    female        group C                some college      standard   \n",
              "2    female        group B             master's degree      standard   \n",
              "3      male        group A          associate's degree  free/reduced   \n",
              "4      male        group C                some college      standard   \n",
              "..      ...            ...                         ...           ...   \n",
              "995  female        group E             master's degree      standard   \n",
              "996    male        group C                 high school  free/reduced   \n",
              "997  female        group C                 high school  free/reduced   \n",
              "998  female        group D                some college      standard   \n",
              "999  female        group D                some college  free/reduced   \n",
              "\n",
              "    test preparation course  math score  reading score  writing score  \n",
              "0                      none          72             72             74  \n",
              "1                 completed          69             90             88  \n",
              "2                      none          90             95             93  \n",
              "3                      none          47             57             44  \n",
              "4                      none          76             78             75  \n",
              "..                      ...         ...            ...            ...  \n",
              "995               completed          88             99             95  \n",
              "996                    none          62             55             55  \n",
              "997               completed          59             71             65  \n",
              "998               completed          68             78             77  \n",
              "999                    none          77             86             86  \n",
              "\n",
              "[1000 rows x 8 columns]"
            ],
            "text/html": [
              "\n",
              "  <div id=\"df-415e9c9a-1fda-40ec-8c63-2b3e931f8af7\">\n",
              "    <div class=\"colab-df-container\">\n",
              "      <div>\n",
              "<style scoped>\n",
              "    .dataframe tbody tr th:only-of-type {\n",
              "        vertical-align: middle;\n",
              "    }\n",
              "\n",
              "    .dataframe tbody tr th {\n",
              "        vertical-align: top;\n",
              "    }\n",
              "\n",
              "    .dataframe thead th {\n",
              "        text-align: right;\n",
              "    }\n",
              "</style>\n",
              "<table border=\"1\" class=\"dataframe\">\n",
              "  <thead>\n",
              "    <tr style=\"text-align: right;\">\n",
              "      <th></th>\n",
              "      <th>gender</th>\n",
              "      <th>race/ethnicity</th>\n",
              "      <th>parental level of education</th>\n",
              "      <th>lunch</th>\n",
              "      <th>test preparation course</th>\n",
              "      <th>math score</th>\n",
              "      <th>reading score</th>\n",
              "      <th>writing score</th>\n",
              "    </tr>\n",
              "  </thead>\n",
              "  <tbody>\n",
              "    <tr>\n",
              "      <th>0</th>\n",
              "      <td>female</td>\n",
              "      <td>group B</td>\n",
              "      <td>bachelor's degree</td>\n",
              "      <td>standard</td>\n",
              "      <td>none</td>\n",
              "      <td>72</td>\n",
              "      <td>72</td>\n",
              "      <td>74</td>\n",
              "    </tr>\n",
              "    <tr>\n",
              "      <th>1</th>\n",
              "      <td>female</td>\n",
              "      <td>group C</td>\n",
              "      <td>some college</td>\n",
              "      <td>standard</td>\n",
              "      <td>completed</td>\n",
              "      <td>69</td>\n",
              "      <td>90</td>\n",
              "      <td>88</td>\n",
              "    </tr>\n",
              "    <tr>\n",
              "      <th>2</th>\n",
              "      <td>female</td>\n",
              "      <td>group B</td>\n",
              "      <td>master's degree</td>\n",
              "      <td>standard</td>\n",
              "      <td>none</td>\n",
              "      <td>90</td>\n",
              "      <td>95</td>\n",
              "      <td>93</td>\n",
              "    </tr>\n",
              "    <tr>\n",
              "      <th>3</th>\n",
              "      <td>male</td>\n",
              "      <td>group A</td>\n",
              "      <td>associate's degree</td>\n",
              "      <td>free/reduced</td>\n",
              "      <td>none</td>\n",
              "      <td>47</td>\n",
              "      <td>57</td>\n",
              "      <td>44</td>\n",
              "    </tr>\n",
              "    <tr>\n",
              "      <th>4</th>\n",
              "      <td>male</td>\n",
              "      <td>group C</td>\n",
              "      <td>some college</td>\n",
              "      <td>standard</td>\n",
              "      <td>none</td>\n",
              "      <td>76</td>\n",
              "      <td>78</td>\n",
              "      <td>75</td>\n",
              "    </tr>\n",
              "    <tr>\n",
              "      <th>...</th>\n",
              "      <td>...</td>\n",
              "      <td>...</td>\n",
              "      <td>...</td>\n",
              "      <td>...</td>\n",
              "      <td>...</td>\n",
              "      <td>...</td>\n",
              "      <td>...</td>\n",
              "      <td>...</td>\n",
              "    </tr>\n",
              "    <tr>\n",
              "      <th>995</th>\n",
              "      <td>female</td>\n",
              "      <td>group E</td>\n",
              "      <td>master's degree</td>\n",
              "      <td>standard</td>\n",
              "      <td>completed</td>\n",
              "      <td>88</td>\n",
              "      <td>99</td>\n",
              "      <td>95</td>\n",
              "    </tr>\n",
              "    <tr>\n",
              "      <th>996</th>\n",
              "      <td>male</td>\n",
              "      <td>group C</td>\n",
              "      <td>high school</td>\n",
              "      <td>free/reduced</td>\n",
              "      <td>none</td>\n",
              "      <td>62</td>\n",
              "      <td>55</td>\n",
              "      <td>55</td>\n",
              "    </tr>\n",
              "    <tr>\n",
              "      <th>997</th>\n",
              "      <td>female</td>\n",
              "      <td>group C</td>\n",
              "      <td>high school</td>\n",
              "      <td>free/reduced</td>\n",
              "      <td>completed</td>\n",
              "      <td>59</td>\n",
              "      <td>71</td>\n",
              "      <td>65</td>\n",
              "    </tr>\n",
              "    <tr>\n",
              "      <th>998</th>\n",
              "      <td>female</td>\n",
              "      <td>group D</td>\n",
              "      <td>some college</td>\n",
              "      <td>standard</td>\n",
              "      <td>completed</td>\n",
              "      <td>68</td>\n",
              "      <td>78</td>\n",
              "      <td>77</td>\n",
              "    </tr>\n",
              "    <tr>\n",
              "      <th>999</th>\n",
              "      <td>female</td>\n",
              "      <td>group D</td>\n",
              "      <td>some college</td>\n",
              "      <td>free/reduced</td>\n",
              "      <td>none</td>\n",
              "      <td>77</td>\n",
              "      <td>86</td>\n",
              "      <td>86</td>\n",
              "    </tr>\n",
              "  </tbody>\n",
              "</table>\n",
              "<p>1000 rows × 8 columns</p>\n",
              "</div>\n",
              "      <button class=\"colab-df-convert\" onclick=\"convertToInteractive('df-415e9c9a-1fda-40ec-8c63-2b3e931f8af7')\"\n",
              "              title=\"Convert this dataframe to an interactive table.\"\n",
              "              style=\"display:none;\">\n",
              "        \n",
              "  <svg xmlns=\"http://www.w3.org/2000/svg\" height=\"24px\"viewBox=\"0 0 24 24\"\n",
              "       width=\"24px\">\n",
              "    <path d=\"M0 0h24v24H0V0z\" fill=\"none\"/>\n",
              "    <path d=\"M18.56 5.44l.94 2.06.94-2.06 2.06-.94-2.06-.94-.94-2.06-.94 2.06-2.06.94zm-11 1L8.5 8.5l.94-2.06 2.06-.94-2.06-.94L8.5 2.5l-.94 2.06-2.06.94zm10 10l.94 2.06.94-2.06 2.06-.94-2.06-.94-.94-2.06-.94 2.06-2.06.94z\"/><path d=\"M17.41 7.96l-1.37-1.37c-.4-.4-.92-.59-1.43-.59-.52 0-1.04.2-1.43.59L10.3 9.45l-7.72 7.72c-.78.78-.78 2.05 0 2.83L4 21.41c.39.39.9.59 1.41.59.51 0 1.02-.2 1.41-.59l7.78-7.78 2.81-2.81c.8-.78.8-2.07 0-2.86zM5.41 20L4 18.59l7.72-7.72 1.47 1.35L5.41 20z\"/>\n",
              "  </svg>\n",
              "      </button>\n",
              "      \n",
              "  <style>\n",
              "    .colab-df-container {\n",
              "      display:flex;\n",
              "      flex-wrap:wrap;\n",
              "      gap: 12px;\n",
              "    }\n",
              "\n",
              "    .colab-df-convert {\n",
              "      background-color: #E8F0FE;\n",
              "      border: none;\n",
              "      border-radius: 50%;\n",
              "      cursor: pointer;\n",
              "      display: none;\n",
              "      fill: #1967D2;\n",
              "      height: 32px;\n",
              "      padding: 0 0 0 0;\n",
              "      width: 32px;\n",
              "    }\n",
              "\n",
              "    .colab-df-convert:hover {\n",
              "      background-color: #E2EBFA;\n",
              "      box-shadow: 0px 1px 2px rgba(60, 64, 67, 0.3), 0px 1px 3px 1px rgba(60, 64, 67, 0.15);\n",
              "      fill: #174EA6;\n",
              "    }\n",
              "\n",
              "    [theme=dark] .colab-df-convert {\n",
              "      background-color: #3B4455;\n",
              "      fill: #D2E3FC;\n",
              "    }\n",
              "\n",
              "    [theme=dark] .colab-df-convert:hover {\n",
              "      background-color: #434B5C;\n",
              "      box-shadow: 0px 1px 3px 1px rgba(0, 0, 0, 0.15);\n",
              "      filter: drop-shadow(0px 1px 2px rgba(0, 0, 0, 0.3));\n",
              "      fill: #FFFFFF;\n",
              "    }\n",
              "  </style>\n",
              "\n",
              "      <script>\n",
              "        const buttonEl =\n",
              "          document.querySelector('#df-415e9c9a-1fda-40ec-8c63-2b3e931f8af7 button.colab-df-convert');\n",
              "        buttonEl.style.display =\n",
              "          google.colab.kernel.accessAllowed ? 'block' : 'none';\n",
              "\n",
              "        async function convertToInteractive(key) {\n",
              "          const element = document.querySelector('#df-415e9c9a-1fda-40ec-8c63-2b3e931f8af7');\n",
              "          const dataTable =\n",
              "            await google.colab.kernel.invokeFunction('convertToInteractive',\n",
              "                                                     [key], {});\n",
              "          if (!dataTable) return;\n",
              "\n",
              "          const docLinkHtml = 'Like what you see? Visit the ' +\n",
              "            '<a target=\"_blank\" href=https://colab.research.google.com/notebooks/data_table.ipynb>data table notebook</a>'\n",
              "            + ' to learn more about interactive tables.';\n",
              "          element.innerHTML = '';\n",
              "          dataTable['output_type'] = 'display_data';\n",
              "          await google.colab.output.renderOutput(dataTable, element);\n",
              "          const docLink = document.createElement('div');\n",
              "          docLink.innerHTML = docLinkHtml;\n",
              "          element.appendChild(docLink);\n",
              "        }\n",
              "      </script>\n",
              "    </div>\n",
              "  </div>\n",
              "  "
            ]
          },
          "metadata": {},
          "execution_count": 19
        }
      ]
    },
    {
      "cell_type": "markdown",
      "metadata": {
        "id": "fb1b377f"
      },
      "source": [
        "<tr>\n",
        "<th style=\"text-align:justify;font-family: 'Times New Roman';\"><font size=\"4\">\n",
        "    Analysis on students who pass in Writing </font></th>\n",
        "<tr>"
      ],
      "id": "fb1b377f"
    },
    {
      "cell_type": "markdown",
      "metadata": {
        "id": "9cb90f10"
      },
      "source": [
        "<tr>\n",
        "<th style=\"text-align:justify;font-family: 'Times New Roman';\"><font size=\"4\">\n",
        "    Analysis on students' total score 'total_score' </font></th>\n",
        "<tr>"
      ],
      "id": "9cb90f10"
    },
    {
      "cell_type": "code",
      "execution_count": null,
      "metadata": {
        "id": "510ce032",
        "colab": {
          "base_uri": "https://localhost:8080/",
          "height": 441
        },
        "outputId": "527b2c9f-0fed-4478-8061-f567a56dcccb"
      },
      "outputs": [
        {
          "output_type": "display_data",
          "data": {
            "text/plain": [
              "<Figure size 1296x432 with 1 Axes>"
            ],
            "image/png": "[encoded data removed]"
          },
          "metadata": {}
        }
      ],
      "source": [
        "warnings.filterwarnings('ignore')\n",
        "\n",
        "df['total_score'] = df['math score'] + df['reading score'] + df['writing score']\n",
        "\n",
        "sns.distplot(df['total_score'], color = 'blue')\n",
        "\n",
        "plt.title('comparison of total score of all the students', fontweight = 30, fontsize = 20)\n",
        "plt.xlabel('total score scored by the students')\n",
        "plt.ylabel('count')\n",
        "plt.show()\n"
      ],
      "id": "510ce032"
    },
    {
      "cell_type": "markdown",
      "metadata": {
        "id": "wlaWZkfkqz0y"
      },
      "source": [
        "### Exploratory Data Analysis (EDA) Further analysis techniques"
      ],
      "id": "wlaWZkfkqz0y"
    },
    {
      "cell_type": "markdown",
      "metadata": {
        "id": "3hmtvo8fsMMw"
      },
      "source": [
        "<tr>\n",
        "<th style=\"text-align:justify;font-family: 'Times New Roman';\"><font size=\"4\">\n",
        "    1. Checking the skewness of the data </font></th>\n",
        "</tr>\n"
      ],
      "id": "3hmtvo8fsMMw"
    },
    {
      "cell_type": "code",
      "execution_count": null,
      "metadata": {
        "id": "Rq9J5NWcsb_K",
        "colab": {
          "base_uri": "https://localhost:8080/",
          "height": 464
        },
        "outputId": "2c2dd804-6f8a-4116-8c07-82d340fc6a8f"
      },
      "outputs": [
        {
          "output_type": "display_data",
          "data": {
            "text/plain": [
              "<Figure size 1296x432 with 3 Axes>"
            ],
            "image/png": "[encoded data removed]"
          },
          "metadata": {}
        }
      ],
      "source": [
        "plt.subplot(1, 3, 1)\n",
        "sns.distplot(df['math score'])\n",
        "\n",
        "plt.subplot(1, 3, 2)\n",
        "sns.distplot(df['reading score'])\n",
        "\n",
        "plt.subplot(1, 3, 3)\n",
        "sns.distplot(df['writing score'])\n",
        "\n",
        "plt.suptitle('Checking for Skewness', fontsize = 18)\n",
        "plt.show()"
      ],
      "id": "Rq9J5NWcsb_K"
    },
    {
      "cell_type": "markdown",
      "metadata": {
        "id": "9N4ndWIfs7_m"
      },
      "source": [
        "There is no skewness in our target columns"
      ],
      "id": "9N4ndWIfs7_m"
    },
    {
      "cell_type": "markdown",
      "metadata": {
        "id": "QuUlcB1Xs2FN"
      },
      "source": [
        "<tr>\n",
        "<th style=\"text-align:justify;font-family: 'Times New Roman';\"><font size=\"4\">\n",
        "    2. Now lets explore the mean score of maths, reading and writing against race</font></th>\n",
        "</tr>"
      ],
      "id": "QuUlcB1Xs2FN"
    },
    {
      "cell_type": "code",
      "execution_count": null,
      "metadata": {
        "id": "XijILgEPtHI5",
        "colab": {
          "base_uri": "https://localhost:8080/",
          "height": 269
        },
        "outputId": "4be9a717-5332-4114-c5d0-92524fbb1217"
      },
      "outputs": [
        {
          "output_type": "execute_result",
          "data": {
            "text/plain": [
              "               math score reading score writing score      \n",
              "                     mean          mean          mean count\n",
              "race/ethnicity                                             \n",
              "group A              61.6          64.7          62.7    89\n",
              "group B              63.5          67.4          65.6   190\n",
              "group C              64.5          69.1          67.8   319\n",
              "group D              67.4          70.0          70.1   262\n",
              "group E              73.8          73.0          71.4   140"
            ],
            "text/html": [
              "\n",
              "  <div id=\"df-8c84d0a9-ee38-4137-bc57-c077de677c34\">\n",
              "    <div class=\"colab-df-container\">\n",
              "      <div>\n",
              "<style scoped>\n",
              "    .dataframe tbody tr th:only-of-type {\n",
              "        vertical-align: middle;\n",
              "    }\n",
              "\n",
              "    .dataframe tbody tr th {\n",
              "        vertical-align: top;\n",
              "    }\n",
              "\n",
              "    .dataframe thead tr th {\n",
              "        text-align: left;\n",
              "    }\n",
              "\n",
              "    .dataframe thead tr:last-of-type th {\n",
              "        text-align: right;\n",
              "    }\n",
              "</style>\n",
              "<table border=\"1\" class=\"dataframe\">\n",
              "  <thead>\n",
              "    <tr>\n",
              "      <th></th>\n",
              "      <th>math score</th>\n",
              "      <th>reading score</th>\n",
              "      <th colspan=\"2\" halign=\"left\">writing score</th>\n",
              "    </tr>\n",
              "    <tr>\n",
              "      <th></th>\n",
              "      <th>mean</th>\n",
              "      <th>mean</th>\n",
              "      <th>mean</th>\n",
              "      <th>count</th>\n",
              "    </tr>\n",
              "    <tr>\n",
              "      <th>race/ethnicity</th>\n",
              "      <th></th>\n",
              "      <th></th>\n",
              "      <th></th>\n",
              "      <th></th>\n",
              "    </tr>\n",
              "  </thead>\n",
              "  <tbody>\n",
              "    <tr>\n",
              "      <th>group A</th>\n",
              "      <td>61.6</td>\n",
              "      <td>64.7</td>\n",
              "      <td>62.7</td>\n",
              "      <td>89</td>\n",
              "    </tr>\n",
              "    <tr>\n",
              "      <th>group B</th>\n",
              "      <td>63.5</td>\n",
              "      <td>67.4</td>\n",
              "      <td>65.6</td>\n",
              "      <td>190</td>\n",
              "    </tr>\n",
              "    <tr>\n",
              "      <th>group C</th>\n",
              "      <td>64.5</td>\n",
              "      <td>69.1</td>\n",
              "      <td>67.8</td>\n",
              "      <td>319</td>\n",
              "    </tr>\n",
              "    <tr>\n",
              "      <th>group D</th>\n",
              "      <td>67.4</td>\n",
              "      <td>70.0</td>\n",
              "      <td>70.1</td>\n",
              "      <td>262</td>\n",
              "    </tr>\n",
              "    <tr>\n",
              "      <th>group E</th>\n",
              "      <td>73.8</td>\n",
              "      <td>73.0</td>\n",
              "      <td>71.4</td>\n",
              "      <td>140</td>\n",
              "    </tr>\n",
              "  </tbody>\n",
              "</table>\n",
              "</div>\n",
              "      <button class=\"colab-df-convert\" onclick=\"convertToInteractive('df-8c84d0a9-ee38-4137-bc57-c077de677c34')\"\n",
              "              title=\"Convert this dataframe to an interactive table.\"\n",
              "              style=\"display:none;\">\n",
              "        \n",
              "  <svg xmlns=\"http://www.w3.org/2000/svg\" height=\"24px\"viewBox=\"0 0 24 24\"\n",
              "       width=\"24px\">\n",
              "    <path d=\"M0 0h24v24H0V0z\" fill=\"none\"/>\n",
              "    <path d=\"M18.56 5.44l.94 2.06.94-2.06 2.06-.94-2.06-.94-.94-2.06-.94 2.06-2.06.94zm-11 1L8.5 8.5l.94-2.06 2.06-.94-2.06-.94L8.5 2.5l-.94 2.06-2.06.94zm10 10l.94 2.06.94-2.06 2.06-.94-2.06-.94-.94-2.06-.94 2.06-2.06.94z\"/><path d=\"M17.41 7.96l-1.37-1.37c-.4-.4-.92-.59-1.43-.59-.52 0-1.04.2-1.43.59L10.3 9.45l-7.72 7.72c-.78.78-.78 2.05 0 2.83L4 21.41c.39.39.9.59 1.41.59.51 0 1.02-.2 1.41-.59l7.78-7.78 2.81-2.81c.8-.78.8-2.07 0-2.86zM5.41 20L4 18.59l7.72-7.72 1.47 1.35L5.41 20z\"/>\n",
              "  </svg>\n",
              "      </button>\n",
              "      \n",
              "  <style>\n",
              "    .colab-df-container {\n",
              "      display:flex;\n",
              "      flex-wrap:wrap;\n",
              "      gap: 12px;\n",
              "    }\n",
              "\n",
              "    .colab-df-convert {\n",
              "      background-color: #E8F0FE;\n",
              "      border: none;\n",
              "      border-radius: 50%;\n",
              "      cursor: pointer;\n",
              "      display: none;\n",
              "      fill: #1967D2;\n",
              "      height: 32px;\n",
              "      padding: 0 0 0 0;\n",
              "      width: 32px;\n",
              "    }\n",
              "\n",
              "    .colab-df-convert:hover {\n",
              "      background-color: #E2EBFA;\n",
              "      box-shadow: 0px 1px 2px rgba(60, 64, 67, 0.3), 0px 1px 3px 1px rgba(60, 64, 67, 0.15);\n",
              "      fill: #174EA6;\n",
              "    }\n",
              "\n",
              "    [theme=dark] .colab-df-convert {\n",
              "      background-color: #3B4455;\n",
              "      fill: #D2E3FC;\n",
              "    }\n",
              "\n",
              "    [theme=dark] .colab-df-convert:hover {\n",
              "      background-color: #434B5C;\n",
              "      box-shadow: 0px 1px 3px 1px rgba(0, 0, 0, 0.15);\n",
              "      filter: drop-shadow(0px 1px 2px rgba(0, 0, 0, 0.3));\n",
              "      fill: #FFFFFF;\n",
              "    }\n",
              "  </style>\n",
              "\n",
              "      <script>\n",
              "        const buttonEl =\n",
              "          document.querySelector('#df-8c84d0a9-ee38-4137-bc57-c077de677c34 button.colab-df-convert');\n",
              "        buttonEl.style.display =\n",
              "          google.colab.kernel.accessAllowed ? 'block' : 'none';\n",
              "\n",
              "        async function convertToInteractive(key) {\n",
              "          const element = document.querySelector('#df-8c84d0a9-ee38-4137-bc57-c077de677c34');\n",
              "          const dataTable =\n",
              "            await google.colab.kernel.invokeFunction('convertToInteractive',\n",
              "                                                     [key], {});\n",
              "          if (!dataTable) return;\n",
              "\n",
              "          const docLinkHtml = 'Like what you see? Visit the ' +\n",
              "            '<a target=\"_blank\" href=https://colab.research.google.com/notebooks/data_table.ipynb>data table notebook</a>'\n",
              "            + ' to learn more about interactive tables.';\n",
              "          element.innerHTML = '';\n",
              "          dataTable['output_type'] = 'display_data';\n",
              "          await google.colab.output.renderOutput(dataTable, element);\n",
              "          const docLink = document.createElement('div');\n",
              "          docLink.innerHTML = docLinkHtml;\n",
              "          element.appendChild(docLink);\n",
              "        }\n",
              "      </script>\n",
              "    </div>\n",
              "  </div>\n",
              "  "
            ]
          },
          "metadata": {},
          "execution_count": 22
        }
      ],
      "source": [
        "df[['race/ethnicity','math score','reading score','writing score']].groupby('race/ethnicity').agg({'math score':'mean', 'reading score':'mean', 'writing score':['mean','count']}).round(1)"
      ],
      "id": "XijILgEPtHI5"
    },
    {
      "cell_type": "code",
      "execution_count": null,
      "metadata": {
        "id": "A2e-rxW-tYkf",
        "colab": {
          "base_uri": "https://localhost:8080/",
          "height": 500
        },
        "outputId": "142b6509-819e-4cd1-e35b-74d51bea340e"
      },
      "outputs": [
        {
          "output_type": "execute_result",
          "data": {
            "text/plain": [
              "Text(0, 0.5, 'Test Scores')"
            ]
          },
          "metadata": {},
          "execution_count": 23
        },
        {
          "output_type": "display_data",
          "data": {
            "text/plain": [
              "<Figure size 1296x432 with 1 Axes>"
            ],
            "image/png": "[encoded data removed]"
          },
          "metadata": {}
        }
      ],
      "source": [
        "df[['race/ethnicity','math score','reading score','writing score']].groupby('race/ethnicity').mean().plot.bar()\n",
        "plt.xticks(np.arange(6))\n",
        "plt.title(\"Race/Ethnicity's effect on test scores\")\n",
        "plt.xlabel(\"Race/Ethnicity\")\n",
        "plt.ylabel(\"Test Scores\")"
      ],
      "id": "A2e-rxW-tYkf"
    },
    {
      "cell_type": "markdown",
      "metadata": {
        "id": "d302NtEVtd2E"
      },
      "source": [
        "From the above bar chart, we are able to observe that Group E/ category 5, scores higher on average for all three tests. On the other hand, Group A/ catgeory 1 scores the lowest on average for all tests."
      ],
      "id": "d302NtEVtd2E"
    },
    {
      "cell_type": "markdown",
      "metadata": {
        "id": "184ur17etkjU"
      },
      "source": [
        "<tr>\n",
        "<th style=\"text-align:justify;font-family: 'Times New Roman';\"><font size=\"4\">\n",
        "    3. observe the gender, test preparation course with math score </font></th>\n",
        "</tr>"
      ],
      "id": "184ur17etkjU"
    },
    {
      "cell_type": "code",
      "execution_count": null,
      "metadata": {
        "id": "b_7D2iZatqoI",
        "colab": {
          "base_uri": "https://localhost:8080/",
          "height": 238
        },
        "outputId": "78781ff0-387c-4f55-a47c-7a5ead5a8e76"
      },
      "outputs": [
        {
          "output_type": "execute_result",
          "data": {
            "text/plain": [
              "                               math score      \n",
              "                                     mean count\n",
              "gender test preparation course                 \n",
              "female completed                     67.2   184\n",
              "       none                          61.7   334\n",
              "male   completed                     72.3   174\n",
              "       none                          66.7   308"
            ],
            "text/html": [
              "\n",
              "  <div id=\"df-18f51803-6dbc-4074-9525-cf31e8f01be0\">\n",
              "    <div class=\"colab-df-container\">\n",
              "      <div>\n",
              "<style scoped>\n",
              "    .dataframe tbody tr th:only-of-type {\n",
              "        vertical-align: middle;\n",
              "    }\n",
              "\n",
              "    .dataframe tbody tr th {\n",
              "        vertical-align: top;\n",
              "    }\n",
              "\n",
              "    .dataframe thead tr th {\n",
              "        text-align: left;\n",
              "    }\n",
              "\n",
              "    .dataframe thead tr:last-of-type th {\n",
              "        text-align: right;\n",
              "    }\n",
              "</style>\n",
              "<table border=\"1\" class=\"dataframe\">\n",
              "  <thead>\n",
              "    <tr>\n",
              "      <th></th>\n",
              "      <th></th>\n",
              "      <th colspan=\"2\" halign=\"left\">math score</th>\n",
              "    </tr>\n",
              "    <tr>\n",
              "      <th></th>\n",
              "      <th></th>\n",
              "      <th>mean</th>\n",
              "      <th>count</th>\n",
              "    </tr>\n",
              "    <tr>\n",
              "      <th>gender</th>\n",
              "      <th>test preparation course</th>\n",
              "      <th></th>\n",
              "      <th></th>\n",
              "    </tr>\n",
              "  </thead>\n",
              "  <tbody>\n",
              "    <tr>\n",
              "      <th rowspan=\"2\" valign=\"top\">female</th>\n",
              "      <th>completed</th>\n",
              "      <td>67.2</td>\n",
              "      <td>184</td>\n",
              "    </tr>\n",
              "    <tr>\n",
              "      <th>none</th>\n",
              "      <td>61.7</td>\n",
              "      <td>334</td>\n",
              "    </tr>\n",
              "    <tr>\n",
              "      <th rowspan=\"2\" valign=\"top\">male</th>\n",
              "      <th>completed</th>\n",
              "      <td>72.3</td>\n",
              "      <td>174</td>\n",
              "    </tr>\n",
              "    <tr>\n",
              "      <th>none</th>\n",
              "      <td>66.7</td>\n",
              "      <td>308</td>\n",
              "    </tr>\n",
              "  </tbody>\n",
              "</table>\n",
              "</div>\n",
              "      <button class=\"colab-df-convert\" onclick=\"convertToInteractive('df-18f51803-6dbc-4074-9525-cf31e8f01be0')\"\n",
              "              title=\"Convert this dataframe to an interactive table.\"\n",
              "              style=\"display:none;\">\n",
              "        \n",
              "  <svg xmlns=\"http://www.w3.org/2000/svg\" height=\"24px\"viewBox=\"0 0 24 24\"\n",
              "       width=\"24px\">\n",
              "    <path d=\"M0 0h24v24H0V0z\" fill=\"none\"/>\n",
              "    <path d=\"M18.56 5.44l.94 2.06.94-2.06 2.06-.94-2.06-.94-.94-2.06-.94 2.06-2.06.94zm-11 1L8.5 8.5l.94-2.06 2.06-.94-2.06-.94L8.5 2.5l-.94 2.06-2.06.94zm10 10l.94 2.06.94-2.06 2.06-.94-2.06-.94-.94-2.06-.94 2.06-2.06.94z\"/><path d=\"M17.41 7.96l-1.37-1.37c-.4-.4-.92-.59-1.43-.59-.52 0-1.04.2-1.43.59L10.3 9.45l-7.72 7.72c-.78.78-.78 2.05 0 2.83L4 21.41c.39.39.9.59 1.41.59.51 0 1.02-.2 1.41-.59l7.78-7.78 2.81-2.81c.8-.78.8-2.07 0-2.86zM5.41 20L4 18.59l7.72-7.72 1.47 1.35L5.41 20z\"/>\n",
              "  </svg>\n",
              "      </button>\n",
              "      \n",
              "  <style>\n",
              "    .colab-df-container {\n",
              "      display:flex;\n",
              "      flex-wrap:wrap;\n",
              "      gap: 12px;\n",
              "    }\n",
              "\n",
              "    .colab-df-convert {\n",
              "      background-color: #E8F0FE;\n",
              "      border: none;\n",
              "      border-radius: 50%;\n",
              "      cursor: pointer;\n",
              "      display: none;\n",
              "      fill: #1967D2;\n",
              "      height: 32px;\n",
              "      padding: 0 0 0 0;\n",
              "      width: 32px;\n",
              "    }\n",
              "\n",
              "    .colab-df-convert:hover {\n",
              "      background-color: #E2EBFA;\n",
              "      box-shadow: 0px 1px 2px rgba(60, 64, 67, 0.3), 0px 1px 3px 1px rgba(60, 64, 67, 0.15);\n",
              "      fill: #174EA6;\n",
              "    }\n",
              "\n",
              "    [theme=dark] .colab-df-convert {\n",
              "      background-color: #3B4455;\n",
              "      fill: #D2E3FC;\n",
              "    }\n",
              "\n",
              "    [theme=dark] .colab-df-convert:hover {\n",
              "      background-color: #434B5C;\n",
              "      box-shadow: 0px 1px 3px 1px rgba(0, 0, 0, 0.15);\n",
              "      filter: drop-shadow(0px 1px 2px rgba(0, 0, 0, 0.3));\n",
              "      fill: #FFFFFF;\n",
              "    }\n",
              "  </style>\n",
              "\n",
              "      <script>\n",
              "        const buttonEl =\n",
              "          document.querySelector('#df-18f51803-6dbc-4074-9525-cf31e8f01be0 button.colab-df-convert');\n",
              "        buttonEl.style.display =\n",
              "          google.colab.kernel.accessAllowed ? 'block' : 'none';\n",
              "\n",
              "        async function convertToInteractive(key) {\n",
              "          const element = document.querySelector('#df-18f51803-6dbc-4074-9525-cf31e8f01be0');\n",
              "          const dataTable =\n",
              "            await google.colab.kernel.invokeFunction('convertToInteractive',\n",
              "                                                     [key], {});\n",
              "          if (!dataTable) return;\n",
              "\n",
              "          const docLinkHtml = 'Like what you see? Visit the ' +\n",
              "            '<a target=\"_blank\" href=https://colab.research.google.com/notebooks/data_table.ipynb>data table notebook</a>'\n",
              "            + ' to learn more about interactive tables.';\n",
              "          element.innerHTML = '';\n",
              "          dataTable['output_type'] = 'display_data';\n",
              "          await google.colab.output.renderOutput(dataTable, element);\n",
              "          const docLink = document.createElement('div');\n",
              "          docLink.innerHTML = docLinkHtml;\n",
              "          element.appendChild(docLink);\n",
              "        }\n",
              "      </script>\n",
              "    </div>\n",
              "  </div>\n",
              "  "
            ]
          },
          "metadata": {},
          "execution_count": 24
        }
      ],
      "source": [
        "df[['gender','test preparation course','math score']].groupby(['gender','test preparation course']).agg(['mean','count']).round(1)"
      ],
      "id": "b_7D2iZatqoI"
    },
    {
      "cell_type": "code",
      "execution_count": null,
      "metadata": {
        "id": "snZYY9d-unxC",
        "colab": {
          "base_uri": "https://localhost:8080/",
          "height": 587
        },
        "outputId": "eda52987-f839-407b-cf31-36a54d29d7e8"
      },
      "outputs": [
        {
          "output_type": "execute_result",
          "data": {
            "text/plain": [
              "Text(0, 0.5, 'Math Score')"
            ]
          },
          "metadata": {},
          "execution_count": 25
        },
        {
          "output_type": "display_data",
          "data": {
            "text/plain": [
              "<Figure size 1296x432 with 1 Axes>"
            ],
            "image/png": "[encoded data removed]"
          },
          "metadata": {}
        }
      ],
      "source": [
        "df[['gender','test preparation course','math score']].groupby(['gender','test preparation course']).agg('mean').plot.bar()\n",
        "plt.title(\"Gender and Test Preparation course effect on Math score\")\n",
        "plt.xlabel(\"Gender, Test preparation course\")\n",
        "plt.ylabel(\"Math Score\")"
      ],
      "id": "snZYY9d-unxC"
    },
    {
      "cell_type": "markdown",
      "metadata": {
        "id": "ErfpyuVEuwp7"
      },
      "source": [
        "From the graph, we can see that both female and male who completed the test preparation course scored higher in their math exam, which are bars (0,0) and (1,0) respectively, as compared to those who did not take the test preparation course. It can also be seen that males [Bars (1,0),(1,1)] score higher than females [Bars (0,0),(0,1)] in the math test, regardless of whether they took the test prepapration course."
      ],
      "id": "ErfpyuVEuwp7"
    },
    {
      "cell_type": "markdown",
      "metadata": {
        "id": "OUfmc3w1u4aU"
      },
      "source": [
        "<tr>\n",
        "<th style=\"text-align:justify;font-family: 'Times New Roman';\"><font size=\"4\">\n",
        "    4. Lets observe how lunch quality intake affects student performance by gender. As we know, standard luncch has more nutrient compared to free lunch. </font></th>\n",
        "</tr>"
      ],
      "id": "OUfmc3w1u4aU"
    },
    {
      "cell_type": "code",
      "execution_count": null,
      "metadata": {
        "id": "vMzsR82Mu_O9",
        "colab": {
          "base_uri": "https://localhost:8080/",
          "height": 206
        },
        "outputId": "87328f64-4eb9-4131-9d56-f6205bd29800"
      },
      "outputs": [
        {
          "output_type": "execute_result",
          "data": {
            "text/plain": [
              "                     math score  writing score  reading score\n",
              "lunch        gender                                          \n",
              "free/reduced female        57.0           68.0           67.0\n",
              "             male          62.0           59.0           61.0\n",
              "standard     female        67.0           76.0           75.0\n",
              "             male          72.0           67.0           67.5"
            ],
            "text/html": [
              "\n",
              "  <div id=\"df-d610b213-6d70-496d-a714-90d17c1725e6\">\n",
              "    <div class=\"colab-df-container\">\n",
              "      <div>\n",
              "<style scoped>\n",
              "    .dataframe tbody tr th:only-of-type {\n",
              "        vertical-align: middle;\n",
              "    }\n",
              "\n",
              "    .dataframe tbody tr th {\n",
              "        vertical-align: top;\n",
              "    }\n",
              "\n",
              "    .dataframe thead th {\n",
              "        text-align: right;\n",
              "    }\n",
              "</style>\n",
              "<table border=\"1\" class=\"dataframe\">\n",
              "  <thead>\n",
              "    <tr style=\"text-align: right;\">\n",
              "      <th></th>\n",
              "      <th></th>\n",
              "      <th>math score</th>\n",
              "      <th>writing score</th>\n",
              "      <th>reading score</th>\n",
              "    </tr>\n",
              "    <tr>\n",
              "      <th>lunch</th>\n",
              "      <th>gender</th>\n",
              "      <th></th>\n",
              "      <th></th>\n",
              "      <th></th>\n",
              "    </tr>\n",
              "  </thead>\n",
              "  <tbody>\n",
              "    <tr>\n",
              "      <th rowspan=\"2\" valign=\"top\">free/reduced</th>\n",
              "      <th>female</th>\n",
              "      <td>57.0</td>\n",
              "      <td>68.0</td>\n",
              "      <td>67.0</td>\n",
              "    </tr>\n",
              "    <tr>\n",
              "      <th>male</th>\n",
              "      <td>62.0</td>\n",
              "      <td>59.0</td>\n",
              "      <td>61.0</td>\n",
              "    </tr>\n",
              "    <tr>\n",
              "      <th rowspan=\"2\" valign=\"top\">standard</th>\n",
              "      <th>female</th>\n",
              "      <td>67.0</td>\n",
              "      <td>76.0</td>\n",
              "      <td>75.0</td>\n",
              "    </tr>\n",
              "    <tr>\n",
              "      <th>male</th>\n",
              "      <td>72.0</td>\n",
              "      <td>67.0</td>\n",
              "      <td>67.5</td>\n",
              "    </tr>\n",
              "  </tbody>\n",
              "</table>\n",
              "</div>\n",
              "      <button class=\"colab-df-convert\" onclick=\"convertToInteractive('df-d610b213-6d70-496d-a714-90d17c1725e6')\"\n",
              "              title=\"Convert this dataframe to an interactive table.\"\n",
              "              style=\"display:none;\">\n",
              "        \n",
              "  <svg xmlns=\"http://www.w3.org/2000/svg\" height=\"24px\"viewBox=\"0 0 24 24\"\n",
              "       width=\"24px\">\n",
              "    <path d=\"M0 0h24v24H0V0z\" fill=\"none\"/>\n",
              "    <path d=\"M18.56 5.44l.94 2.06.94-2.06 2.06-.94-2.06-.94-.94-2.06-.94 2.06-2.06.94zm-11 1L8.5 8.5l.94-2.06 2.06-.94-2.06-.94L8.5 2.5l-.94 2.06-2.06.94zm10 10l.94 2.06.94-2.06 2.06-.94-2.06-.94-.94-2.06-.94 2.06-2.06.94z\"/><path d=\"M17.41 7.96l-1.37-1.37c-.4-.4-.92-.59-1.43-.59-.52 0-1.04.2-1.43.59L10.3 9.45l-7.72 7.72c-.78.78-.78 2.05 0 2.83L4 21.41c.39.39.9.59 1.41.59.51 0 1.02-.2 1.41-.59l7.78-7.78 2.81-2.81c.8-.78.8-2.07 0-2.86zM5.41 20L4 18.59l7.72-7.72 1.47 1.35L5.41 20z\"/>\n",
              "  </svg>\n",
              "      </button>\n",
              "      \n",
              "  <style>\n",
              "    .colab-df-container {\n",
              "      display:flex;\n",
              "      flex-wrap:wrap;\n",
              "      gap: 12px;\n",
              "    }\n",
              "\n",
              "    .colab-df-convert {\n",
              "      background-color: #E8F0FE;\n",
              "      border: none;\n",
              "      border-radius: 50%;\n",
              "      cursor: pointer;\n",
              "      display: none;\n",
              "      fill: #1967D2;\n",
              "      height: 32px;\n",
              "      padding: 0 0 0 0;\n",
              "      width: 32px;\n",
              "    }\n",
              "\n",
              "    .colab-df-convert:hover {\n",
              "      background-color: #E2EBFA;\n",
              "      box-shadow: 0px 1px 2px rgba(60, 64, 67, 0.3), 0px 1px 3px 1px rgba(60, 64, 67, 0.15);\n",
              "      fill: #174EA6;\n",
              "    }\n",
              "\n",
              "    [theme=dark] .colab-df-convert {\n",
              "      background-color: #3B4455;\n",
              "      fill: #D2E3FC;\n",
              "    }\n",
              "\n",
              "    [theme=dark] .colab-df-convert:hover {\n",
              "      background-color: #434B5C;\n",
              "      box-shadow: 0px 1px 3px 1px rgba(0, 0, 0, 0.15);\n",
              "      filter: drop-shadow(0px 1px 2px rgba(0, 0, 0, 0.3));\n",
              "      fill: #FFFFFF;\n",
              "    }\n",
              "  </style>\n",
              "\n",
              "      <script>\n",
              "        const buttonEl =\n",
              "          document.querySelector('#df-d610b213-6d70-496d-a714-90d17c1725e6 button.colab-df-convert');\n",
              "        buttonEl.style.display =\n",
              "          google.colab.kernel.accessAllowed ? 'block' : 'none';\n",
              "\n",
              "        async function convertToInteractive(key) {\n",
              "          const element = document.querySelector('#df-d610b213-6d70-496d-a714-90d17c1725e6');\n",
              "          const dataTable =\n",
              "            await google.colab.kernel.invokeFunction('convertToInteractive',\n",
              "                                                     [key], {});\n",
              "          if (!dataTable) return;\n",
              "\n",
              "          const docLinkHtml = 'Like what you see? Visit the ' +\n",
              "            '<a target=\"_blank\" href=https://colab.research.google.com/notebooks/data_table.ipynb>data table notebook</a>'\n",
              "            + ' to learn more about interactive tables.';\n",
              "          element.innerHTML = '';\n",
              "          dataTable['output_type'] = 'display_data';\n",
              "          await google.colab.output.renderOutput(dataTable, element);\n",
              "          const docLink = document.createElement('div');\n",
              "          docLink.innerHTML = docLinkHtml;\n",
              "          element.appendChild(docLink);\n",
              "        }\n",
              "      </script>\n",
              "    </div>\n",
              "  </div>\n",
              "  "
            ]
          },
          "metadata": {},
          "execution_count": 26
        }
      ],
      "source": [
        "df[['lunch','gender','math score','writing score','reading score']].groupby(['lunch','gender']).agg('median')"
      ],
      "id": "vMzsR82Mu_O9"
    },
    {
      "cell_type": "code",
      "execution_count": null,
      "metadata": {
        "id": "DlALtRKowu-m",
        "colab": {
          "base_uri": "https://localhost:8080/",
          "height": 602
        },
        "outputId": "c66532a0-ebde-4f55-b9bf-29b74a75dc39"
      },
      "outputs": [
        {
          "output_type": "execute_result",
          "data": {
            "text/plain": [
              "Text(0, 0.5, 'Test Scores')"
            ]
          },
          "metadata": {},
          "execution_count": 27
        },
        {
          "output_type": "display_data",
          "data": {
            "text/plain": [
              "<Figure size 1296x432 with 1 Axes>"
            ],
            "image/png": "[encoded data removed]"
          },
          "metadata": {}
        }
      ],
      "source": [
        "df[['lunch','gender','math score','writing score','reading score']].groupby(['lunch','gender']).agg('median').plot.bar()\n",
        "plt.title(\"Lunch and Gender effect on test scores\")\n",
        "plt.xlabel(\"Lunch, Gender\")\n",
        "plt.ylabel(\"Test Scores\")"
      ],
      "id": "DlALtRKowu-m"
    },
    {
      "cell_type": "markdown",
      "metadata": {
        "id": "YU2LLcLaw3x5"
      },
      "source": [
        "Students who have standard lunch are able to score higher on their tests, as depicted in the graph by bars (1,0) and (1,1). Female students scored better than male students in both the standard lunch and free/reduced lunch catogeries for reading and writing tests. Male students scored better than the female students for the math test whether they had standard or free/reduced lunch.\n",
        "\n",
        "This suggests that standard lunch which has higher nutritrion value as compared to the free/reduced lunch, is able to aid students in getting higher test scores. It can also be inferred that female students do better on reading and writing tests, whereas male students do better on the math test."
      ],
      "id": "YU2LLcLaw3x5"
    },
    {
      "cell_type": "markdown",
      "metadata": {
        "id": "xI__Cd8VxFpE"
      },
      "source": [
        "<tr>\n",
        "<th style=\"text-align:justify;font-family: 'Times New Roman';\"><font size=\"4\">\n",
        "    5. Lets see how parental education background can affecct student performance statistic. </font></th>\n",
        "</tr>"
      ],
      "id": "xI__Cd8VxFpE"
    },
    {
      "cell_type": "markdown",
      "source": [],
      "metadata": {
        "id": "qGfOzUWxfg6c"
      },
      "id": "qGfOzUWxfg6c"
    },
    {
      "cell_type": "code",
      "execution_count": null,
      "metadata": {
        "id": "efn2GyX8xjGo",
        "colab": {
          "base_uri": "https://localhost:8080/",
          "height": 363
        },
        "outputId": "6b811f40-86ce-43bd-cb7f-1664256754a7"
      },
      "outputs": [
        {
          "output_type": "error",
          "ename": "KeyError",
          "evalue": "ignored",
          "traceback": [
            "\u001b[0;31m---------------------------------------------------------------------------\u001b[0m",
            "\u001b[0;31mKeyError\u001b[0m                                  Traceback (most recent call last)",
            "\u001b[0;32m<ipython-input-28-525352845083>\u001b[0m in \u001b[0;36m<module>\u001b[0;34m\u001b[0m\n\u001b[0;32m----> 1\u001b[0;31m \u001b[0mdf\u001b[0m\u001b[0;34m[\u001b[0m\u001b[0;34m[\u001b[0m\u001b[0;34m'parental level of education'\u001b[0m\u001b[0;34m,\u001b[0m\u001b[0;34m'percentage'\u001b[0m\u001b[0;34m]\u001b[0m\u001b[0;34m]\u001b[0m\u001b[0;34m.\u001b[0m\u001b[0mgroupby\u001b[0m\u001b[0;34m(\u001b[0m\u001b[0;34m[\u001b[0m\u001b[0;34m'parental level of education'\u001b[0m\u001b[0;34m]\u001b[0m\u001b[0;34m)\u001b[0m\u001b[0;34m.\u001b[0m\u001b[0mmean\u001b[0m\u001b[0;34m(\u001b[0m\u001b[0;34m)\u001b[0m\u001b[0;34m.\u001b[0m\u001b[0mplot\u001b[0m\u001b[0;34m.\u001b[0m\u001b[0mbar\u001b[0m\u001b[0;34m(\u001b[0m\u001b[0;34m)\u001b[0m\u001b[0;34m\u001b[0m\u001b[0;34m\u001b[0m\u001b[0m\n\u001b[0m\u001b[1;32m      2\u001b[0m \u001b[0mplt\u001b[0m\u001b[0;34m.\u001b[0m\u001b[0mtitle\u001b[0m\u001b[0;34m(\u001b[0m\u001b[0;34m\"Parental level of education's effect on test score percentage\"\u001b[0m\u001b[0;34m)\u001b[0m\u001b[0;34m\u001b[0m\u001b[0;34m\u001b[0m\u001b[0m\n\u001b[1;32m      3\u001b[0m \u001b[0mplt\u001b[0m\u001b[0;34m.\u001b[0m\u001b[0mxlabel\u001b[0m\u001b[0;34m(\u001b[0m\u001b[0;34m\"Parental level of education\"\u001b[0m\u001b[0;34m)\u001b[0m\u001b[0;34m\u001b[0m\u001b[0;34m\u001b[0m\u001b[0m\n\u001b[1;32m      4\u001b[0m \u001b[0mplt\u001b[0m\u001b[0;34m.\u001b[0m\u001b[0mylabel\u001b[0m\u001b[0;34m(\u001b[0m\u001b[0;34m\"Test Score Percentage\"\u001b[0m\u001b[0;34m)\u001b[0m\u001b[0;34m\u001b[0m\u001b[0;34m\u001b[0m\u001b[0m\n",
            "\u001b[0;32m/usr/local/lib/python3.7/dist-packages/pandas/core/frame.py\u001b[0m in \u001b[0;36m__getitem__\u001b[0;34m(self, key)\u001b[0m\n\u001b[1;32m   3462\u001b[0m             \u001b[0;32mif\u001b[0m \u001b[0mis_iterator\u001b[0m\u001b[0;34m(\u001b[0m\u001b[0mkey\u001b[0m\u001b[0;34m)\u001b[0m\u001b[0;34m:\u001b[0m\u001b[0;34m\u001b[0m\u001b[0;34m\u001b[0m\u001b[0m\n\u001b[1;32m   3463\u001b[0m                 \u001b[0mkey\u001b[0m \u001b[0;34m=\u001b[0m \u001b[0mlist\u001b[0m\u001b[0;34m(\u001b[0m\u001b[0mkey\u001b[0m\u001b[0;34m)\u001b[0m\u001b[0;34m\u001b[0m\u001b[0;34m\u001b[0m\u001b[0m\n\u001b[0;32m-> 3464\u001b[0;31m             \u001b[0mindexer\u001b[0m \u001b[0;34m=\u001b[0m \u001b[0mself\u001b[0m\u001b[0;34m.\u001b[0m\u001b[0mloc\u001b[0m\u001b[0;34m.\u001b[0m\u001b[0m_get_listlike_indexer\u001b[0m\u001b[0;34m(\u001b[0m\u001b[0mkey\u001b[0m\u001b[0;34m,\u001b[0m \u001b[0maxis\u001b[0m\u001b[0;34m=\u001b[0m\u001b[0;36m1\u001b[0m\u001b[0;34m)\u001b[0m\u001b[0;34m[\u001b[0m\u001b[0;36m1\u001b[0m\u001b[0;34m]\u001b[0m\u001b[0;34m\u001b[0m\u001b[0;34m\u001b[0m\u001b[0m\n\u001b[0m\u001b[1;32m   3465\u001b[0m \u001b[0;34m\u001b[0m\u001b[0m\n\u001b[1;32m   3466\u001b[0m         \u001b[0;31m# take() does not accept boolean indexers\u001b[0m\u001b[0;34m\u001b[0m\u001b[0;34m\u001b[0m\u001b[0;34m\u001b[0m\u001b[0m\n",
            "\u001b[0;32m/usr/local/lib/python3.7/dist-packages/pandas/core/indexing.py\u001b[0m in \u001b[0;36m_get_listlike_indexer\u001b[0;34m(self, key, axis)\u001b[0m\n\u001b[1;32m   1312\u001b[0m             \u001b[0mkeyarr\u001b[0m\u001b[0;34m,\u001b[0m \u001b[0mindexer\u001b[0m\u001b[0;34m,\u001b[0m \u001b[0mnew_indexer\u001b[0m \u001b[0;34m=\u001b[0m \u001b[0max\u001b[0m\u001b[0;34m.\u001b[0m\u001b[0m_reindex_non_unique\u001b[0m\u001b[0;34m(\u001b[0m\u001b[0mkeyarr\u001b[0m\u001b[0;34m)\u001b[0m\u001b[0;34m\u001b[0m\u001b[0;34m\u001b[0m\u001b[0m\n\u001b[1;32m   1313\u001b[0m \u001b[0;34m\u001b[0m\u001b[0m\n\u001b[0;32m-> 1314\u001b[0;31m         \u001b[0mself\u001b[0m\u001b[0;34m.\u001b[0m\u001b[0m_validate_read_indexer\u001b[0m\u001b[0;34m(\u001b[0m\u001b[0mkeyarr\u001b[0m\u001b[0;34m,\u001b[0m \u001b[0mindexer\u001b[0m\u001b[0;34m,\u001b[0m \u001b[0maxis\u001b[0m\u001b[0;34m)\u001b[0m\u001b[0;34m\u001b[0m\u001b[0;34m\u001b[0m\u001b[0m\n\u001b[0m\u001b[1;32m   1315\u001b[0m \u001b[0;34m\u001b[0m\u001b[0m\n\u001b[1;32m   1316\u001b[0m         if needs_i8_conversion(ax.dtype) or isinstance(\n",
            "\u001b[0;32m/usr/local/lib/python3.7/dist-packages/pandas/core/indexing.py\u001b[0m in \u001b[0;36m_validate_read_indexer\u001b[0;34m(self, key, indexer, axis)\u001b[0m\n\u001b[1;32m   1375\u001b[0m \u001b[0;34m\u001b[0m\u001b[0m\n\u001b[1;32m   1376\u001b[0m             \u001b[0mnot_found\u001b[0m \u001b[0;34m=\u001b[0m \u001b[0mlist\u001b[0m\u001b[0;34m(\u001b[0m\u001b[0mensure_index\u001b[0m\u001b[0;34m(\u001b[0m\u001b[0mkey\u001b[0m\u001b[0;34m)\u001b[0m\u001b[0;34m[\u001b[0m\u001b[0mmissing_mask\u001b[0m\u001b[0;34m.\u001b[0m\u001b[0mnonzero\u001b[0m\u001b[0;34m(\u001b[0m\u001b[0;34m)\u001b[0m\u001b[0;34m[\u001b[0m\u001b[0;36m0\u001b[0m\u001b[0;34m]\u001b[0m\u001b[0;34m]\u001b[0m\u001b[0;34m.\u001b[0m\u001b[0munique\u001b[0m\u001b[0;34m(\u001b[0m\u001b[0;34m)\u001b[0m\u001b[0;34m)\u001b[0m\u001b[0;34m\u001b[0m\u001b[0;34m\u001b[0m\u001b[0m\n\u001b[0;32m-> 1377\u001b[0;31m             \u001b[0;32mraise\u001b[0m \u001b[0mKeyError\u001b[0m\u001b[0;34m(\u001b[0m\u001b[0;34mf\"{not_found} not in index\"\u001b[0m\u001b[0;34m)\u001b[0m\u001b[0;34m\u001b[0m\u001b[0;34m\u001b[0m\u001b[0m\n\u001b[0m\u001b[1;32m   1378\u001b[0m \u001b[0;34m\u001b[0m\u001b[0m\n\u001b[1;32m   1379\u001b[0m \u001b[0;34m\u001b[0m\u001b[0m\n",
            "\u001b[0;31mKeyError\u001b[0m: \"['percentage'] not in index\""
          ]
        }
      ],
      "source": [
        "df[['parental level of education','percentage']].groupby(['parental level of education']).mean().plot.bar()\n",
        "plt.title(\"Parental level of education's effect on test score percentage\")\n",
        "plt.xlabel(\"Parental level of education\")\n",
        "plt.ylabel(\"Test Score Percentage\")"
      ],
      "id": "efn2GyX8xjGo"
    },
    {
      "cell_type": "markdown",
      "metadata": {
        "id": "lHUYFXG2xugJ"
      },
      "source": [
        "From above statistical analysis we can see that students' parent level of education who is in category 3 which is master's degree score the highest in exams based on the average percentage which is 73.9. It is followed by category 2 (Bachelor's degree) at 72.2, category 1 (Associate's degree) at 69.9, and the rest of the categories in descending order are category 4 (some college), category 5 (some high school), and category 2 (high school).\n",
        "\n",
        "This indicates that there is a relationship between parental education background and student performance on tests. The higher the level of parental education, the better the students' performance on test."
      ],
      "id": "lHUYFXG2xugJ"
    },
    {
      "cell_type": "markdown",
      "source": [
        "# 3.0 Pre-processing Techniques"
      ],
      "metadata": {
        "id": "tuDk-jQk_OEj"
      },
      "id": "tuDk-jQk_OEj"
    },
    {
      "cell_type": "markdown",
      "metadata": {
        "id": "12f1a270"
      },
      "source": [
        "## 3.1 Removing Duplicate Values"
      ],
      "id": "12f1a270"
    },
    {
      "cell_type": "code",
      "execution_count": null,
      "metadata": {
        "id": "00ca8101"
      },
      "outputs": [],
      "source": [
        "#remove duplicated values\n",
        "df.drop_duplicates(inplace = True)"
      ],
      "id": "00ca8101"
    },
    {
      "cell_type": "markdown",
      "metadata": {
        "id": "6882935c"
      },
      "source": [
        "Based on the output we got above, the shape of the dataset remains 1000 rows and no records were removed. This shows us that the dataset does not contain any duplicate value."
      ],
      "id": "6882935c"
    },
    {
      "cell_type": "markdown",
      "source": [
        "## 3.2 Label Encoding\n",
        "-    Issue:    5 data columns are object (strings) types, but needs to be conversted to number types. As shown belowm the unique value of some of the columns are strings, and not numbers.\n",
        "-    Solution technoque: Label Encoding"
      ],
      "metadata": {
        "id": "0kY4EFKjKLW5"
      },
      "id": "0kY4EFKjKLW5"
    },
    {
      "cell_type": "code",
      "execution_count": null,
      "metadata": {
        "id": "Ju-l8gUO-Mnl",
        "colab": {
          "base_uri": "https://localhost:8080/"
        },
        "outputId": "072ff7f7-9625-4bc8-9166-e7233a0284fd"
      },
      "outputs": [
        {
          "output_type": "stream",
          "name": "stdout",
          "text": [
            "gender :  ['female' 'male'] \n",
            "\n",
            "race/ethnicity :  ['group B' 'group C' 'group A' 'group D' 'group E'] \n",
            "\n",
            "parental level of education :  [\"bachelor's degree\" 'some college' \"master's degree\" \"associate's degree\"\n",
            " 'high school' 'some high school'] \n",
            "\n",
            "lunch :  ['standard' 'free/reduced'] \n",
            "\n",
            "test preparation course :  ['none' 'completed'] \n",
            "\n",
            "math score :  [ 72  69  90  47  76  71  88  40  64  38  58  65  78  50  18  46  54  66\n",
            "  44  74  73  67  70  62  63  56  97  81  75  57  55  53  59  82  77  33\n",
            "  52   0  79  39  45  60  61  41  49  30  80  42  27  43  68  85  98  87\n",
            "  51  99  84  91  83  89  22 100  96  94  48  35  34  86  92  37  28  24\n",
            "  26  95  36  29  32  93  19  23   8] \n",
            "\n",
            "reading score :  [ 72  90  95  57  78  83  43  64  60  54  52  81  53  75  89  32  42  58\n",
            "  69  73  71  74  70  65  87  56  61  84  55  44  41  85  59  17  39  80\n",
            "  37  63  51  49  26  68  45  47  86  34  79  66  67  91 100  76  77  82\n",
            "  92  93  62  88  50  28  48  46  23  38  94  97  99  31  96  24  29  40] \n",
            "\n",
            "writing score :  [ 74  88  93  44  75  78  92  39  67  50  52  43  73  70  58  86  28  46\n",
            "  61  63  53  80  72  55  65  38  82  79  83  59  57  54  68  66  62  76\n",
            "  48  42  87  49  10  34  71  37  56  41  22  81  45  36  89  47  90 100\n",
            "  64  98  51  40  84  69  33  60  85  91  77  27  94  95  19  35  32  96\n",
            "  97  99  15  30  23] \n",
            "\n",
            "total_score :  [218 247 278 148 229 232 275 122 195 164 135 219 220 161 222 263  78 134\n",
            " 173 198 210 151 215 225 178 211 205 207 217 189 193 120 266 241 238 253\n",
            " 170 199 176 190 160 182 213 248 156 214 139 242 117 175  27 112 192 119\n",
            " 206 194 181 140 174 123 239 146 115 235 216  97 221 138 257 187 265 274\n",
            " 197 287 264 166 154 163 299 260 272 236 268 255 130 231 240 228 201 185\n",
            " 147  94 224 293 212 150 180 234 296 155 246 200 259 158 184 297 204 196\n",
            " 145 252 168 162 153 233 237 223 142  90 167 245 191 277 131 249 157 244\n",
            " 227 282 149 270 186 226 129 267 230 136 183 202 250 203  70 171 271 143\n",
            "  89 177 179  93 188 280 132 124 269 169 165 256 172 114 289 300 258 262\n",
            "  95 209 243 273 276 261 208 104 292 279 291  69  88 251 152 144 159 113\n",
            " 254 116 127 126 118 141 137 103 290 281 288  92 133  55] \n",
            "\n"
          ]
        }
      ],
      "source": [
        "# finding unique values in each column\n",
        "for (colname,colval) in df.iteritems():\n",
        "    print(colname, ': ', df[colname].unique(), '\\n')"
      ],
      "id": "Ju-l8gUO-Mnl"
    },
    {
      "cell_type": "code",
      "source": [
        "# creating label encoder\n",
        "label_encoder = preprocessing.LabelEncoder()"
      ],
      "metadata": {
        "id": "NPuLDgRLB5h9"
      },
      "id": "NPuLDgRLB5h9",
      "execution_count": null,
      "outputs": []
    },
    {
      "cell_type": "code",
      "source": [
        "# label encoding for gender column\n",
        "print('pre-encoding =', df.gender.unique())\n",
        "df.gender = label_encoder.fit_transform(df.gender)\n",
        "print('post-encoding =', df.gender.unique())"
      ],
      "metadata": {
        "id": "T0SI3-UtCBAt",
        "colab": {
          "base_uri": "https://localhost:8080/"
        },
        "outputId": "cf09c7a6-016f-4807-fe05-65dfb42f276b"
      },
      "id": "T0SI3-UtCBAt",
      "execution_count": null,
      "outputs": [
        {
          "output_type": "stream",
          "name": "stdout",
          "text": [
            "pre-encoding = ['female' 'male']\n",
            "post-encoding = [0 1]\n"
          ]
        }
      ]
    },
    {
      "cell_type": "code",
      "source": [
        "# label encoding for race/ethnticity column\n",
        "print('pre-encoding =', df['race/ethnicity'].unique())\n",
        "df['race/ethnicity'] = label_encoder.fit_transform(df['race/ethnicity'])\n",
        "print('post-encoding =', df['race/ethnicity'].unique())"
      ],
      "metadata": {
        "id": "tYGJFvJ1CGNY",
        "colab": {
          "base_uri": "https://localhost:8080/"
        },
        "outputId": "4c98fff8-8f7a-4108-c547-2f85cfff1dc7"
      },
      "id": "tYGJFvJ1CGNY",
      "execution_count": null,
      "outputs": [
        {
          "output_type": "stream",
          "name": "stdout",
          "text": [
            "pre-encoding = ['group B' 'group C' 'group A' 'group D' 'group E']\n",
            "post-encoding = [1 2 0 3 4]\n"
          ]
        }
      ]
    },
    {
      "cell_type": "code",
      "source": [
        "# label encoding for parental level of education column\n",
        "print('pre-encoding =', df['parental level of education'].unique())\n",
        "df['parental level of education'] = label_encoder.fit_transform(df['parental level of education'])\n",
        "print('post-encoding =', df['parental level of education'].unique())"
      ],
      "metadata": {
        "id": "FRfge8bGCIHO",
        "colab": {
          "base_uri": "https://localhost:8080/"
        },
        "outputId": "a7368150-838b-4ce7-f63f-2d2f326bd8f1"
      },
      "id": "FRfge8bGCIHO",
      "execution_count": null,
      "outputs": [
        {
          "output_type": "stream",
          "name": "stdout",
          "text": [
            "pre-encoding = [\"bachelor's degree\" 'some college' \"master's degree\" \"associate's degree\"\n",
            " 'high school' 'some high school']\n",
            "post-encoding = [1 4 3 0 2 5]\n"
          ]
        }
      ]
    },
    {
      "cell_type": "code",
      "source": [
        "# label encoding for lunch column\n",
        "print('pre-encoding =', df['lunch'].unique())\n",
        "df['lunch'] = label_encoder.fit_transform(df['lunch'])\n",
        "print('post-encoding =', df['lunch'].unique())"
      ],
      "metadata": {
        "id": "mZmq2J2aCK19",
        "colab": {
          "base_uri": "https://localhost:8080/"
        },
        "outputId": "ad423515-9746-407e-9acf-0761082889d6"
      },
      "id": "mZmq2J2aCK19",
      "execution_count": null,
      "outputs": [
        {
          "output_type": "stream",
          "name": "stdout",
          "text": [
            "pre-encoding = ['standard' 'free/reduced']\n",
            "post-encoding = [1 0]\n"
          ]
        }
      ]
    },
    {
      "cell_type": "code",
      "source": [
        "# label encoding for test preparation course column\n",
        "print('pre-encoding =', df['test preparation course'].unique())\n",
        "df['test preparation course'] = label_encoder.fit_transform(df['test preparation course'])\n",
        "print('post-encoding =', df['test preparation course'].unique())"
      ],
      "metadata": {
        "id": "HjySFj6_CMzf",
        "colab": {
          "base_uri": "https://localhost:8080/"
        },
        "outputId": "7a295b3f-5de4-4853-951d-d40b36f887ee"
      },
      "id": "HjySFj6_CMzf",
      "execution_count": null,
      "outputs": [
        {
          "output_type": "stream",
          "name": "stdout",
          "text": [
            "pre-encoding = ['none' 'completed']\n",
            "post-encoding = [1 0]\n"
          ]
        }
      ]
    },
    {
      "cell_type": "code",
      "source": [
        "# verifying label encoding by displaying dataset\n",
        "df.head()"
      ],
      "metadata": {
        "id": "iLR0Cv3hCPGJ",
        "colab": {
          "base_uri": "https://localhost:8080/",
          "height": 206
        },
        "outputId": "5250dbc5-2bc8-4c48-91ec-473480e6e458"
      },
      "id": "iLR0Cv3hCPGJ",
      "execution_count": null,
      "outputs": [
        {
          "output_type": "execute_result",
          "data": {
            "text/plain": [
              "   gender  race/ethnicity  parental level of education  lunch  \\\n",
              "0       0               1                            1      1   \n",
              "1       0               2                            4      1   \n",
              "2       0               1                            3      1   \n",
              "3       1               0                            0      0   \n",
              "4       1               2                            4      1   \n",
              "\n",
              "   test preparation course  math score  reading score  writing score  \\\n",
              "0                        1          72             72             74   \n",
              "1                        0          69             90             88   \n",
              "2                        1          90             95             93   \n",
              "3                        1          47             57             44   \n",
              "4                        1          76             78             75   \n",
              "\n",
              "   total_score  \n",
              "0          218  \n",
              "1          247  \n",
              "2          278  \n",
              "3          148  \n",
              "4          229  "
            ],
            "text/html": [
              "\n",
              "  <div id=\"df-2f6a1417-edb5-4be7-84e5-ae052048f2e0\">\n",
              "    <div class=\"colab-df-container\">\n",
              "      <div>\n",
              "<style scoped>\n",
              "    .dataframe tbody tr th:only-of-type {\n",
              "        vertical-align: middle;\n",
              "    }\n",
              "\n",
              "    .dataframe tbody tr th {\n",
              "        vertical-align: top;\n",
              "    }\n",
              "\n",
              "    .dataframe thead th {\n",
              "        text-align: right;\n",
              "    }\n",
              "</style>\n",
              "<table border=\"1\" class=\"dataframe\">\n",
              "  <thead>\n",
              "    <tr style=\"text-align: right;\">\n",
              "      <th></th>\n",
              "      <th>gender</th>\n",
              "      <th>race/ethnicity</th>\n",
              "      <th>parental level of education</th>\n",
              "      <th>lunch</th>\n",
              "      <th>test preparation course</th>\n",
              "      <th>math score</th>\n",
              "      <th>reading score</th>\n",
              "      <th>writing score</th>\n",
              "      <th>total_score</th>\n",
              "    </tr>\n",
              "  </thead>\n",
              "  <tbody>\n",
              "    <tr>\n",
              "      <th>0</th>\n",
              "      <td>0</td>\n",
              "      <td>1</td>\n",
              "      <td>1</td>\n",
              "      <td>1</td>\n",
              "      <td>1</td>\n",
              "      <td>72</td>\n",
              "      <td>72</td>\n",
              "      <td>74</td>\n",
              "      <td>218</td>\n",
              "    </tr>\n",
              "    <tr>\n",
              "      <th>1</th>\n",
              "      <td>0</td>\n",
              "      <td>2</td>\n",
              "      <td>4</td>\n",
              "      <td>1</td>\n",
              "      <td>0</td>\n",
              "      <td>69</td>\n",
              "      <td>90</td>\n",
              "      <td>88</td>\n",
              "      <td>247</td>\n",
              "    </tr>\n",
              "    <tr>\n",
              "      <th>2</th>\n",
              "      <td>0</td>\n",
              "      <td>1</td>\n",
              "      <td>3</td>\n",
              "      <td>1</td>\n",
              "      <td>1</td>\n",
              "      <td>90</td>\n",
              "      <td>95</td>\n",
              "      <td>93</td>\n",
              "      <td>278</td>\n",
              "    </tr>\n",
              "    <tr>\n",
              "      <th>3</th>\n",
              "      <td>1</td>\n",
              "      <td>0</td>\n",
              "      <td>0</td>\n",
              "      <td>0</td>\n",
              "      <td>1</td>\n",
              "      <td>47</td>\n",
              "      <td>57</td>\n",
              "      <td>44</td>\n",
              "      <td>148</td>\n",
              "    </tr>\n",
              "    <tr>\n",
              "      <th>4</th>\n",
              "      <td>1</td>\n",
              "      <td>2</td>\n",
              "      <td>4</td>\n",
              "      <td>1</td>\n",
              "      <td>1</td>\n",
              "      <td>76</td>\n",
              "      <td>78</td>\n",
              "      <td>75</td>\n",
              "      <td>229</td>\n",
              "    </tr>\n",
              "  </tbody>\n",
              "</table>\n",
              "</div>\n",
              "      <button class=\"colab-df-convert\" onclick=\"convertToInteractive('df-2f6a1417-edb5-4be7-84e5-ae052048f2e0')\"\n",
              "              title=\"Convert this dataframe to an interactive table.\"\n",
              "              style=\"display:none;\">\n",
              "        \n",
              "  <svg xmlns=\"http://www.w3.org/2000/svg\" height=\"24px\"viewBox=\"0 0 24 24\"\n",
              "       width=\"24px\">\n",
              "    <path d=\"M0 0h24v24H0V0z\" fill=\"none\"/>\n",
              "    <path d=\"M18.56 5.44l.94 2.06.94-2.06 2.06-.94-2.06-.94-.94-2.06-.94 2.06-2.06.94zm-11 1L8.5 8.5l.94-2.06 2.06-.94-2.06-.94L8.5 2.5l-.94 2.06-2.06.94zm10 10l.94 2.06.94-2.06 2.06-.94-2.06-.94-.94-2.06-.94 2.06-2.06.94z\"/><path d=\"M17.41 7.96l-1.37-1.37c-.4-.4-.92-.59-1.43-.59-.52 0-1.04.2-1.43.59L10.3 9.45l-7.72 7.72c-.78.78-.78 2.05 0 2.83L4 21.41c.39.39.9.59 1.41.59.51 0 1.02-.2 1.41-.59l7.78-7.78 2.81-2.81c.8-.78.8-2.07 0-2.86zM5.41 20L4 18.59l7.72-7.72 1.47 1.35L5.41 20z\"/>\n",
              "  </svg>\n",
              "      </button>\n",
              "      \n",
              "  <style>\n",
              "    .colab-df-container {\n",
              "      display:flex;\n",
              "      flex-wrap:wrap;\n",
              "      gap: 12px;\n",
              "    }\n",
              "\n",
              "    .colab-df-convert {\n",
              "      background-color: #E8F0FE;\n",
              "      border: none;\n",
              "      border-radius: 50%;\n",
              "      cursor: pointer;\n",
              "      display: none;\n",
              "      fill: #1967D2;\n",
              "      height: 32px;\n",
              "      padding: 0 0 0 0;\n",
              "      width: 32px;\n",
              "    }\n",
              "\n",
              "    .colab-df-convert:hover {\n",
              "      background-color: #E2EBFA;\n",
              "      box-shadow: 0px 1px 2px rgba(60, 64, 67, 0.3), 0px 1px 3px 1px rgba(60, 64, 67, 0.15);\n",
              "      fill: #174EA6;\n",
              "    }\n",
              "\n",
              "    [theme=dark] .colab-df-convert {\n",
              "      background-color: #3B4455;\n",
              "      fill: #D2E3FC;\n",
              "    }\n",
              "\n",
              "    [theme=dark] .colab-df-convert:hover {\n",
              "      background-color: #434B5C;\n",
              "      box-shadow: 0px 1px 3px 1px rgba(0, 0, 0, 0.15);\n",
              "      filter: drop-shadow(0px 1px 2px rgba(0, 0, 0, 0.3));\n",
              "      fill: #FFFFFF;\n",
              "    }\n",
              "  </style>\n",
              "\n",
              "      <script>\n",
              "        const buttonEl =\n",
              "          document.querySelector('#df-2f6a1417-edb5-4be7-84e5-ae052048f2e0 button.colab-df-convert');\n",
              "        buttonEl.style.display =\n",
              "          google.colab.kernel.accessAllowed ? 'block' : 'none';\n",
              "\n",
              "        async function convertToInteractive(key) {\n",
              "          const element = document.querySelector('#df-2f6a1417-edb5-4be7-84e5-ae052048f2e0');\n",
              "          const dataTable =\n",
              "            await google.colab.kernel.invokeFunction('convertToInteractive',\n",
              "                                                     [key], {});\n",
              "          if (!dataTable) return;\n",
              "\n",
              "          const docLinkHtml = 'Like what you see? Visit the ' +\n",
              "            '<a target=\"_blank\" href=https://colab.research.google.com/notebooks/data_table.ipynb>data table notebook</a>'\n",
              "            + ' to learn more about interactive tables.';\n",
              "          element.innerHTML = '';\n",
              "          dataTable['output_type'] = 'display_data';\n",
              "          await google.colab.output.renderOutput(dataTable, element);\n",
              "          const docLink = document.createElement('div');\n",
              "          docLink.innerHTML = docLinkHtml;\n",
              "          element.appendChild(docLink);\n",
              "        }\n",
              "      </script>\n",
              "    </div>\n",
              "  </div>\n",
              "  "
            ]
          },
          "metadata": {},
          "execution_count": 37
        }
      ]
    },
    {
      "cell_type": "markdown",
      "source": [
        "Now, the categorical data (string data) is gone, and converted to numbrical data by using label encoding for let us do further mathrtical operations and analysis in the next sections."
      ],
      "metadata": {
        "id": "2RkF4ZA6CUcQ"
      },
      "id": "2RkF4ZA6CUcQ"
    },
    {
      "cell_type": "markdown",
      "source": [],
      "metadata": {
        "id": "FkIscPcakz2Q"
      },
      "id": "FkIscPcakz2Q"
    },
    {
      "cell_type": "markdown",
      "source": [
        "## 3.  Removing Outliers\n",
        "-    Issue: The number columns, namely \"math score\", \"reading score\", and \"writing score\" has noticible amount of outliers.\n",
        "-    Solution technique: Replacing outliers with the mean value of column"
      ],
      "metadata": {
        "id": "BcZ0WK24KfLS"
      },
      "id": "BcZ0WK24KfLS"
    },
    {
      "cell_type": "markdown",
      "source": [
        "we will only check the outlier for 'math score' 'reading score' 'writing score' as these 3 are the main attributes used to determine other attibutes.\n",
        "\n",
        "The acceptable range will be at (Q1 - 1.5 x IQR to Q3 + 1.5 x IQR), Q1 represents the lower quartile and Q3 is the higher quartile. Whereas IQR is the interquartile range of the attribute. The outliers are the ones outside the range and will then be soomthen out by minimum and maximum acceptable values.\n",
        "\n",
        "However in our case, we chose not to remove or smoothen them out as each score are distinct and important in our data analysis. It represents some students' ability regardless higher or lower scores and it is very informative on the data collection process and subject area. Therefore, no further smoothing is done."
      ],
      "metadata": {
        "id": "dLp0nt6RMnIl"
      },
      "id": "dLp0nt6RMnIl"
    },
    {
      "cell_type": "code",
      "source": [
        "# Showing outliers for math score column\n",
        "plt.figure(figsize =(10, 5))\n",
        "plt.boxplot(df['math score'])\n",
        "plt.title(' Outliers for math score column')\n",
        "plt.show()"
      ],
      "metadata": {
        "id": "DYaoo0gb_lW5",
        "colab": {
          "base_uri": "https://localhost:8080/",
          "height": 361
        },
        "outputId": "2ff07d79-467e-4fde-d4a0-3b996dbbf514"
      },
      "id": "DYaoo0gb_lW5",
      "execution_count": null,
      "outputs": [
        {
          "output_type": "display_data",
          "data": {
            "text/plain": [
              "<Figure size 720x360 with 1 Axes>"
            ],
            "image/png": "[encoded data removed]"
          },
          "metadata": {}
        }
      ]
    },
    {
      "cell_type": "code",
      "source": [
        "# Showing outliers for reading score column\n",
        "plt.figure(figsize =(10, 5))\n",
        "plt.boxplot(df['reading score'])\n",
        "plt.title(' Outliers for reading score column')\n",
        "plt.show()"
      ],
      "metadata": {
        "id": "m6hnIRycBPXe",
        "colab": {
          "base_uri": "https://localhost:8080/",
          "height": 361
        },
        "outputId": "bfe58228-2985-4f8c-f766-49461933f684"
      },
      "id": "m6hnIRycBPXe",
      "execution_count": null,
      "outputs": [
        {
          "output_type": "display_data",
          "data": {
            "text/plain": [
              "<Figure size 720x360 with 1 Axes>"
            ],
            "image/png": "[encoded data removed]"
          },
          "metadata": {}
        }
      ]
    },
    {
      "cell_type": "code",
      "source": [
        "# Showing outliers for writing score column\n",
        "plt.figure(figsize =(10, 5))\n",
        "plt.boxplot(df['writing score'])\n",
        "plt.title(' Outliers for writing score column')\n",
        "plt.show()"
      ],
      "metadata": {
        "id": "TuPJGs1gCz2s",
        "colab": {
          "base_uri": "https://localhost:8080/",
          "height": 361
        },
        "outputId": "ea335473-f105-451d-d60c-4a5806fff4e5"
      },
      "id": "TuPJGs1gCz2s",
      "execution_count": null,
      "outputs": [
        {
          "output_type": "display_data",
          "data": {
            "text/plain": [
              "<Figure size 720x360 with 1 Axes>"
            ],
            "image/png": "[encoded data removed]"
          },
          "metadata": {}
        }
      ]
    },
    {
      "cell_type": "code",
      "source": [
        "# Replacing outliers with mean value for \"math score\" column\n",
        "# finding the 1st quartile\n",
        "q1 = np.quantile(df['math score'], 0.25)\n",
        "# finding the 3rd quartile\n",
        "q3 = np.quantile(df['math score'], 0.75)\n",
        "med = np.median(df['math score'])\n",
        "# finding the interquartile region (ipr)\n",
        "iqr = q3-q1\n",
        "# finding upper and lower whiskers\n",
        "upper_bound = q3+(1.5*iqr)\n",
        "lower_bound = q1-(1.5*iqr)\n",
        "print('iqr:         ', iqr, '\\nupper_bound: ', upper_bound, '\\nlower_bound: ', lower_bound, '\\n')\n",
        "\n",
        "outliers = df['math score'][(df['math score'] <= lower_bound) | (df['math score'] >= upper_bound)]\n",
        "print('Outlier Count: ', outliers.count())\n",
        "print('The following are the outliers in the boxplot:\\n {} '.format(outliers), '\\n')\n",
        "\n",
        "# replacing outliers with mean value\n",
        "Mean = df['math score'].mean()\n",
        "df = df.replace([outliers], Mean)\n",
        "df.head(5)"
      ],
      "metadata": {
        "id": "da_V_KDEDVwz",
        "colab": {
          "base_uri": "https://localhost:8080/",
          "height": 519
        },
        "outputId": "6132e3a5-bdc0-4c41-9da9-a8ce6807a5f2"
      },
      "id": "da_V_KDEDVwz",
      "execution_count": null,
      "outputs": [
        {
          "output_type": "stream",
          "name": "stdout",
          "text": [
            "iqr:          20.0 \n",
            "upper_bound:  107.0 \n",
            "lower_bound:  27.0 \n",
            "\n",
            "Outlier Count:  10\n",
            "The following are the outliers in the boxplot:\n",
            " 17     18\n",
            "59      0\n",
            "91     27\n",
            "145    22\n",
            "338    24\n",
            "363    27\n",
            "466    26\n",
            "787    19\n",
            "842    23\n",
            "980     8\n",
            "Name: math score, dtype: int64  \n",
            "\n"
          ]
        },
        {
          "output_type": "execute_result",
          "data": {
            "text/plain": [
              "   gender  race/ethnicity  parental level of education   lunch  \\\n",
              "0  66.089           1.000                        1.000   1.000   \n",
              "1  66.089           2.000                        4.000   1.000   \n",
              "2  66.089           1.000                        3.000   1.000   \n",
              "3   1.000          66.089                       66.089  66.089   \n",
              "4   1.000           2.000                        4.000   1.000   \n",
              "\n",
              "   test preparation course  math score  reading score  writing score  \\\n",
              "0                    1.000        72.0           72.0           74.0   \n",
              "1                   66.089        69.0           90.0           88.0   \n",
              "2                    1.000        90.0           95.0           93.0   \n",
              "3                    1.000        47.0           57.0           44.0   \n",
              "4                    1.000        76.0           78.0           75.0   \n",
              "\n",
              "   total_score  \n",
              "0        218.0  \n",
              "1        247.0  \n",
              "2        278.0  \n",
              "3        148.0  \n",
              "4        229.0  "
            ],
            "text/html": [
              "\n",
              "  <div id=\"df-702748f9-d08f-4ba9-b59f-0f504dc2b0ba\">\n",
              "    <div class=\"colab-df-container\">\n",
              "      <div>\n",
              "<style scoped>\n",
              "    .dataframe tbody tr th:only-of-type {\n",
              "        vertical-align: middle;\n",
              "    }\n",
              "\n",
              "    .dataframe tbody tr th {\n",
              "        vertical-align: top;\n",
              "    }\n",
              "\n",
              "    .dataframe thead th {\n",
              "        text-align: right;\n",
              "    }\n",
              "</style>\n",
              "<table border=\"1\" class=\"dataframe\">\n",
              "  <thead>\n",
              "    <tr style=\"text-align: right;\">\n",
              "      <th></th>\n",
              "      <th>gender</th>\n",
              "      <th>race/ethnicity</th>\n",
              "      <th>parental level of education</th>\n",
              "      <th>lunch</th>\n",
              "      <th>test preparation course</th>\n",
              "      <th>math score</th>\n",
              "      <th>reading score</th>\n",
              "      <th>writing score</th>\n",
              "      <th>total_score</th>\n",
              "    </tr>\n",
              "  </thead>\n",
              "  <tbody>\n",
              "    <tr>\n",
              "      <th>0</th>\n",
              "      <td>66.089</td>\n",
              "      <td>1.000</td>\n",
              "      <td>1.000</td>\n",
              "      <td>1.000</td>\n",
              "      <td>1.000</td>\n",
              "      <td>72.0</td>\n",
              "      <td>72.0</td>\n",
              "      <td>74.0</td>\n",
              "      <td>218.0</td>\n",
              "    </tr>\n",
              "    <tr>\n",
              "      <th>1</th>\n",
              "      <td>66.089</td>\n",
              "      <td>2.000</td>\n",
              "      <td>4.000</td>\n",
              "      <td>1.000</td>\n",
              "      <td>66.089</td>\n",
              "      <td>69.0</td>\n",
              "      <td>90.0</td>\n",
              "      <td>88.0</td>\n",
              "      <td>247.0</td>\n",
              "    </tr>\n",
              "    <tr>\n",
              "      <th>2</th>\n",
              "      <td>66.089</td>\n",
              "      <td>1.000</td>\n",
              "      <td>3.000</td>\n",
              "      <td>1.000</td>\n",
              "      <td>1.000</td>\n",
              "      <td>90.0</td>\n",
              "      <td>95.0</td>\n",
              "      <td>93.0</td>\n",
              "      <td>278.0</td>\n",
              "    </tr>\n",
              "    <tr>\n",
              "      <th>3</th>\n",
              "      <td>1.000</td>\n",
              "      <td>66.089</td>\n",
              "      <td>66.089</td>\n",
              "      <td>66.089</td>\n",
              "      <td>1.000</td>\n",
              "      <td>47.0</td>\n",
              "      <td>57.0</td>\n",
              "      <td>44.0</td>\n",
              "      <td>148.0</td>\n",
              "    </tr>\n",
              "    <tr>\n",
              "      <th>4</th>\n",
              "      <td>1.000</td>\n",
              "      <td>2.000</td>\n",
              "      <td>4.000</td>\n",
              "      <td>1.000</td>\n",
              "      <td>1.000</td>\n",
              "      <td>76.0</td>\n",
              "      <td>78.0</td>\n",
              "      <td>75.0</td>\n",
              "      <td>229.0</td>\n",
              "    </tr>\n",
              "  </tbody>\n",
              "</table>\n",
              "</div>\n",
              "      <button class=\"colab-df-convert\" onclick=\"convertToInteractive('df-702748f9-d08f-4ba9-b59f-0f504dc2b0ba')\"\n",
              "              title=\"Convert this dataframe to an interactive table.\"\n",
              "              style=\"display:none;\">\n",
              "        \n",
              "  <svg xmlns=\"http://www.w3.org/2000/svg\" height=\"24px\"viewBox=\"0 0 24 24\"\n",
              "       width=\"24px\">\n",
              "    <path d=\"M0 0h24v24H0V0z\" fill=\"none\"/>\n",
              "    <path d=\"M18.56 5.44l.94 2.06.94-2.06 2.06-.94-2.06-.94-.94-2.06-.94 2.06-2.06.94zm-11 1L8.5 8.5l.94-2.06 2.06-.94-2.06-.94L8.5 2.5l-.94 2.06-2.06.94zm10 10l.94 2.06.94-2.06 2.06-.94-2.06-.94-.94-2.06-.94 2.06-2.06.94z\"/><path d=\"M17.41 7.96l-1.37-1.37c-.4-.4-.92-.59-1.43-.59-.52 0-1.04.2-1.43.59L10.3 9.45l-7.72 7.72c-.78.78-.78 2.05 0 2.83L4 21.41c.39.39.9.59 1.41.59.51 0 1.02-.2 1.41-.59l7.78-7.78 2.81-2.81c.8-.78.8-2.07 0-2.86zM5.41 20L4 18.59l7.72-7.72 1.47 1.35L5.41 20z\"/>\n",
              "  </svg>\n",
              "      </button>\n",
              "      \n",
              "  <style>\n",
              "    .colab-df-container {\n",
              "      display:flex;\n",
              "      flex-wrap:wrap;\n",
              "      gap: 12px;\n",
              "    }\n",
              "\n",
              "    .colab-df-convert {\n",
              "      background-color: #E8F0FE;\n",
              "      border: none;\n",
              "      border-radius: 50%;\n",
              "      cursor: pointer;\n",
              "      display: none;\n",
              "      fill: #1967D2;\n",
              "      height: 32px;\n",
              "      padding: 0 0 0 0;\n",
              "      width: 32px;\n",
              "    }\n",
              "\n",
              "    .colab-df-convert:hover {\n",
              "      background-color: #E2EBFA;\n",
              "      box-shadow: 0px 1px 2px rgba(60, 64, 67, 0.3), 0px 1px 3px 1px rgba(60, 64, 67, 0.15);\n",
              "      fill: #174EA6;\n",
              "    }\n",
              "\n",
              "    [theme=dark] .colab-df-convert {\n",
              "      background-color: #3B4455;\n",
              "      fill: #D2E3FC;\n",
              "    }\n",
              "\n",
              "    [theme=dark] .colab-df-convert:hover {\n",
              "      background-color: #434B5C;\n",
              "      box-shadow: 0px 1px 3px 1px rgba(0, 0, 0, 0.15);\n",
              "      filter: drop-shadow(0px 1px 2px rgba(0, 0, 0, 0.3));\n",
              "      fill: #FFFFFF;\n",
              "    }\n",
              "  </style>\n",
              "\n",
              "      <script>\n",
              "        const buttonEl =\n",
              "          document.querySelector('#df-702748f9-d08f-4ba9-b59f-0f504dc2b0ba button.colab-df-convert');\n",
              "        buttonEl.style.display =\n",
              "          google.colab.kernel.accessAllowed ? 'block' : 'none';\n",
              "\n",
              "        async function convertToInteractive(key) {\n",
              "          const element = document.querySelector('#df-702748f9-d08f-4ba9-b59f-0f504dc2b0ba');\n",
              "          const dataTable =\n",
              "            await google.colab.kernel.invokeFunction('convertToInteractive',\n",
              "                                                     [key], {});\n",
              "          if (!dataTable) return;\n",
              "\n",
              "          const docLinkHtml = 'Like what you see? Visit the ' +\n",
              "            '<a target=\"_blank\" href=https://colab.research.google.com/notebooks/data_table.ipynb>data table notebook</a>'\n",
              "            + ' to learn more about interactive tables.';\n",
              "          element.innerHTML = '';\n",
              "          dataTable['output_type'] = 'display_data';\n",
              "          await google.colab.output.renderOutput(dataTable, element);\n",
              "          const docLink = document.createElement('div');\n",
              "          docLink.innerHTML = docLinkHtml;\n",
              "          element.appendChild(docLink);\n",
              "        }\n",
              "      </script>\n",
              "    </div>\n",
              "  </div>\n",
              "  "
            ]
          },
          "metadata": {},
          "execution_count": 41
        }
      ]
    },
    {
      "cell_type": "code",
      "source": [
        "# Replacing outliers with mean value for \"reading score\" column\n",
        "# finding the 1st quartile\n",
        "q1 = np.quantile(df['reading score'], 0.25)\n",
        "# finding the 3rd quartile\n",
        "q3 = np.quantile(df['reading score'], 0.75)\n",
        "med = np.median(df['reading score'])\n",
        "# finding the interquartile region (ipr)\n",
        "iqr = q3-q1\n",
        "# finding upper and lower whiskers\n",
        "upper_bound = q3+(1.5*iqr)\n",
        "lower_bound = q1-(1.5*iqr)\n",
        "print('iqr:         ', iqr, '\\nupper_bound: ', upper_bound, '\\nlower_bound: ', lower_bound, '\\n')\n",
        "\n",
        "outliers = df['reading score'][(df['reading score'] <= lower_bound) | (df['reading score'] >= upper_bound)]\n",
        "print('Outlier Count: ', outliers.count())\n",
        "print('The following are the outliers in the boxplot:\\n {} '.format(outliers), '\\n')\n",
        "\n",
        "# replacing outliers with mean value\n",
        "Mean = df['reading score'].mean()\n",
        "df = df.replace([outliers], Mean)\n",
        "df.head(5)"
      ],
      "metadata": {
        "id": "uM9A-ieeECtj",
        "colab": {
          "base_uri": "https://localhost:8080/",
          "height": 414
        },
        "outputId": "233d5dc6-ccf3-4f81-85be-a0a9ee1cbea0"
      },
      "id": "uM9A-ieeECtj",
      "execution_count": null,
      "outputs": [
        {
          "output_type": "stream",
          "name": "stdout",
          "text": [
            "iqr:          19.25 \n",
            "upper_bound:  107.875 \n",
            "lower_bound:  30.875 \n",
            "\n",
            "Outlier Count:  4\n",
            "The following are the outliers in the boxplot:\n",
            " 59     17.0\n",
            "211    28.0\n",
            "601    29.0\n",
            "896    29.0\n",
            "Name: reading score, dtype: float64  \n",
            "\n"
          ]
        },
        {
          "output_type": "execute_result",
          "data": {
            "text/plain": [
              "   gender  race/ethnicity  parental level of education   lunch  \\\n",
              "0  66.089           1.000                        1.000   1.000   \n",
              "1  66.089           2.000                        4.000   1.000   \n",
              "2  66.089           1.000                        3.000   1.000   \n",
              "3   1.000          66.089                       66.089  66.089   \n",
              "4   1.000           2.000                        4.000   1.000   \n",
              "\n",
              "   test preparation course  math score  reading score  writing score  \\\n",
              "0                    1.000        72.0           72.0           74.0   \n",
              "1                   66.089        69.0           90.0           88.0   \n",
              "2                    1.000        90.0           95.0           93.0   \n",
              "3                    1.000        47.0           57.0           44.0   \n",
              "4                    1.000        76.0           78.0           75.0   \n",
              "\n",
              "   total_score  \n",
              "0        218.0  \n",
              "1        247.0  \n",
              "2        278.0  \n",
              "3        148.0  \n",
              "4        229.0  "
            ],
            "text/html": [
              "\n",
              "  <div id=\"df-72b2d3f3-57af-4750-b295-2acc73972beb\">\n",
              "    <div class=\"colab-df-container\">\n",
              "      <div>\n",
              "<style scoped>\n",
              "    .dataframe tbody tr th:only-of-type {\n",
              "        vertical-align: middle;\n",
              "    }\n",
              "\n",
              "    .dataframe tbody tr th {\n",
              "        vertical-align: top;\n",
              "    }\n",
              "\n",
              "    .dataframe thead th {\n",
              "        text-align: right;\n",
              "    }\n",
              "</style>\n",
              "<table border=\"1\" class=\"dataframe\">\n",
              "  <thead>\n",
              "    <tr style=\"text-align: right;\">\n",
              "      <th></th>\n",
              "      <th>gender</th>\n",
              "      <th>race/ethnicity</th>\n",
              "      <th>parental level of education</th>\n",
              "      <th>lunch</th>\n",
              "      <th>test preparation course</th>\n",
              "      <th>math score</th>\n",
              "      <th>reading score</th>\n",
              "      <th>writing score</th>\n",
              "      <th>total_score</th>\n",
              "    </tr>\n",
              "  </thead>\n",
              "  <tbody>\n",
              "    <tr>\n",
              "      <th>0</th>\n",
              "      <td>66.089</td>\n",
              "      <td>1.000</td>\n",
              "      <td>1.000</td>\n",
              "      <td>1.000</td>\n",
              "      <td>1.000</td>\n",
              "      <td>72.0</td>\n",
              "      <td>72.0</td>\n",
              "      <td>74.0</td>\n",
              "      <td>218.0</td>\n",
              "    </tr>\n",
              "    <tr>\n",
              "      <th>1</th>\n",
              "      <td>66.089</td>\n",
              "      <td>2.000</td>\n",
              "      <td>4.000</td>\n",
              "      <td>1.000</td>\n",
              "      <td>66.089</td>\n",
              "      <td>69.0</td>\n",
              "      <td>90.0</td>\n",
              "      <td>88.0</td>\n",
              "      <td>247.0</td>\n",
              "    </tr>\n",
              "    <tr>\n",
              "      <th>2</th>\n",
              "      <td>66.089</td>\n",
              "      <td>1.000</td>\n",
              "      <td>3.000</td>\n",
              "      <td>1.000</td>\n",
              "      <td>1.000</td>\n",
              "      <td>90.0</td>\n",
              "      <td>95.0</td>\n",
              "      <td>93.0</td>\n",
              "      <td>278.0</td>\n",
              "    </tr>\n",
              "    <tr>\n",
              "      <th>3</th>\n",
              "      <td>1.000</td>\n",
              "      <td>66.089</td>\n",
              "      <td>66.089</td>\n",
              "      <td>66.089</td>\n",
              "      <td>1.000</td>\n",
              "      <td>47.0</td>\n",
              "      <td>57.0</td>\n",
              "      <td>44.0</td>\n",
              "      <td>148.0</td>\n",
              "    </tr>\n",
              "    <tr>\n",
              "      <th>4</th>\n",
              "      <td>1.000</td>\n",
              "      <td>2.000</td>\n",
              "      <td>4.000</td>\n",
              "      <td>1.000</td>\n",
              "      <td>1.000</td>\n",
              "      <td>76.0</td>\n",
              "      <td>78.0</td>\n",
              "      <td>75.0</td>\n",
              "      <td>229.0</td>\n",
              "    </tr>\n",
              "  </tbody>\n",
              "</table>\n",
              "</div>\n",
              "      <button class=\"colab-df-convert\" onclick=\"convertToInteractive('df-72b2d3f3-57af-4750-b295-2acc73972beb')\"\n",
              "              title=\"Convert this dataframe to an interactive table.\"\n",
              "              style=\"display:none;\">\n",
              "        \n",
              "  <svg xmlns=\"http://www.w3.org/2000/svg\" height=\"24px\"viewBox=\"0 0 24 24\"\n",
              "       width=\"24px\">\n",
              "    <path d=\"M0 0h24v24H0V0z\" fill=\"none\"/>\n",
              "    <path d=\"M18.56 5.44l.94 2.06.94-2.06 2.06-.94-2.06-.94-.94-2.06-.94 2.06-2.06.94zm-11 1L8.5 8.5l.94-2.06 2.06-.94-2.06-.94L8.5 2.5l-.94 2.06-2.06.94zm10 10l.94 2.06.94-2.06 2.06-.94-2.06-.94-.94-2.06-.94 2.06-2.06.94z\"/><path d=\"M17.41 7.96l-1.37-1.37c-.4-.4-.92-.59-1.43-.59-.52 0-1.04.2-1.43.59L10.3 9.45l-7.72 7.72c-.78.78-.78 2.05 0 2.83L4 21.41c.39.39.9.59 1.41.59.51 0 1.02-.2 1.41-.59l7.78-7.78 2.81-2.81c.8-.78.8-2.07 0-2.86zM5.41 20L4 18.59l7.72-7.72 1.47 1.35L5.41 20z\"/>\n",
              "  </svg>\n",
              "      </button>\n",
              "      \n",
              "  <style>\n",
              "    .colab-df-container {\n",
              "      display:flex;\n",
              "      flex-wrap:wrap;\n",
              "      gap: 12px;\n",
              "    }\n",
              "\n",
              "    .colab-df-convert {\n",
              "      background-color: #E8F0FE;\n",
              "      border: none;\n",
              "      border-radius: 50%;\n",
              "      cursor: pointer;\n",
              "      display: none;\n",
              "      fill: #1967D2;\n",
              "      height: 32px;\n",
              "      padding: 0 0 0 0;\n",
              "      width: 32px;\n",
              "    }\n",
              "\n",
              "    .colab-df-convert:hover {\n",
              "      background-color: #E2EBFA;\n",
              "      box-shadow: 0px 1px 2px rgba(60, 64, 67, 0.3), 0px 1px 3px 1px rgba(60, 64, 67, 0.15);\n",
              "      fill: #174EA6;\n",
              "    }\n",
              "\n",
              "    [theme=dark] .colab-df-convert {\n",
              "      background-color: #3B4455;\n",
              "      fill: #D2E3FC;\n",
              "    }\n",
              "\n",
              "    [theme=dark] .colab-df-convert:hover {\n",
              "      background-color: #434B5C;\n",
              "      box-shadow: 0px 1px 3px 1px rgba(0, 0, 0, 0.15);\n",
              "      filter: drop-shadow(0px 1px 2px rgba(0, 0, 0, 0.3));\n",
              "      fill: #FFFFFF;\n",
              "    }\n",
              "  </style>\n",
              "\n",
              "      <script>\n",
              "        const buttonEl =\n",
              "          document.querySelector('#df-72b2d3f3-57af-4750-b295-2acc73972beb button.colab-df-convert');\n",
              "        buttonEl.style.display =\n",
              "          google.colab.kernel.accessAllowed ? 'block' : 'none';\n",
              "\n",
              "        async function convertToInteractive(key) {\n",
              "          const element = document.querySelector('#df-72b2d3f3-57af-4750-b295-2acc73972beb');\n",
              "          const dataTable =\n",
              "            await google.colab.kernel.invokeFunction('convertToInteractive',\n",
              "                                                     [key], {});\n",
              "          if (!dataTable) return;\n",
              "\n",
              "          const docLinkHtml = 'Like what you see? Visit the ' +\n",
              "            '<a target=\"_blank\" href=https://colab.research.google.com/notebooks/data_table.ipynb>data table notebook</a>'\n",
              "            + ' to learn more about interactive tables.';\n",
              "          element.innerHTML = '';\n",
              "          dataTable['output_type'] = 'display_data';\n",
              "          await google.colab.output.renderOutput(dataTable, element);\n",
              "          const docLink = document.createElement('div');\n",
              "          docLink.innerHTML = docLinkHtml;\n",
              "          element.appendChild(docLink);\n",
              "        }\n",
              "      </script>\n",
              "    </div>\n",
              "  </div>\n",
              "  "
            ]
          },
          "metadata": {},
          "execution_count": 42
        }
      ]
    },
    {
      "cell_type": "code",
      "source": [
        "# Replacing outliers with mean value for \"writing score\" column\n",
        "# finding the 1st quartile\n",
        "q1 = np.quantile(df['writing score'], 0.25)\n",
        "# finding the 3rd quartile\n",
        "q3 = np.quantile(df['writing score'], 0.75)\n",
        "med = np.median(df['writing score'])\n",
        "# finding the interquartile region (ipr)\n",
        "iqr = q3-q1\n",
        "# finding upper and lower whiskers\n",
        "upper_bound = q3+(1.5*iqr)\n",
        "lower_bound = q1-(1.5*iqr)\n",
        "print('iqr:         ', iqr, '\\nupper_bound: ', upper_bound, '\\nlower_bound: ', lower_bound, '\\n')\n",
        "\n",
        "outliers = df['writing score'][(df['writing score'] <= lower_bound) | (df['writing score'] >= upper_bound)]\n",
        "print('Outlier Count: ', outliers.count())\n",
        "print('The following are the outliers in the boxplot:\\n {} '.format(outliers), '\\n')\n",
        "\n",
        "# replacing outliers with mean value\n",
        "Mean = df['writing score'].mean()\n",
        "df = df.replace([outliers], Mean)\n",
        "df.head(5)"
      ],
      "metadata": {
        "id": "F3P5L2BHELur",
        "colab": {
          "base_uri": "https://localhost:8080/",
          "height": 345
        },
        "outputId": "b71d1179-c5a5-4878-9011-429c00b4c5c3"
      },
      "id": "F3P5L2BHELur",
      "execution_count": null,
      "outputs": [
        {
          "output_type": "stream",
          "name": "stdout",
          "text": [
            "iqr:          21.0 \n",
            "upper_bound:  110.5 \n",
            "lower_bound:  26.5 \n",
            "\n",
            "Outlier Count:  0\n",
            "The following are the outliers in the boxplot:\n",
            " Series([], Name: writing score, dtype: float64)  \n",
            "\n"
          ]
        },
        {
          "output_type": "execute_result",
          "data": {
            "text/plain": [
              "   gender  race/ethnicity  parental level of education   lunch  \\\n",
              "0  66.089           1.000                        1.000   1.000   \n",
              "1  66.089           2.000                        4.000   1.000   \n",
              "2  66.089           1.000                        3.000   1.000   \n",
              "3   1.000          66.089                       66.089  66.089   \n",
              "4   1.000           2.000                        4.000   1.000   \n",
              "\n",
              "   test preparation course  math score  reading score  writing score  \\\n",
              "0                    1.000        72.0           72.0           74.0   \n",
              "1                   66.089        69.0           90.0           88.0   \n",
              "2                    1.000        90.0           95.0           93.0   \n",
              "3                    1.000        47.0           57.0           44.0   \n",
              "4                    1.000        76.0           78.0           75.0   \n",
              "\n",
              "   total_score  \n",
              "0        218.0  \n",
              "1        247.0  \n",
              "2        278.0  \n",
              "3        148.0  \n",
              "4        229.0  "
            ],
            "text/html": [
              "\n",
              "  <div id=\"df-139ca981-f044-4c50-9ba6-61bffa6444c3\">\n",
              "    <div class=\"colab-df-container\">\n",
              "      <div>\n",
              "<style scoped>\n",
              "    .dataframe tbody tr th:only-of-type {\n",
              "        vertical-align: middle;\n",
              "    }\n",
              "\n",
              "    .dataframe tbody tr th {\n",
              "        vertical-align: top;\n",
              "    }\n",
              "\n",
              "    .dataframe thead th {\n",
              "        text-align: right;\n",
              "    }\n",
              "</style>\n",
              "<table border=\"1\" class=\"dataframe\">\n",
              "  <thead>\n",
              "    <tr style=\"text-align: right;\">\n",
              "      <th></th>\n",
              "      <th>gender</th>\n",
              "      <th>race/ethnicity</th>\n",
              "      <th>parental level of education</th>\n",
              "      <th>lunch</th>\n",
              "      <th>test preparation course</th>\n",
              "      <th>math score</th>\n",
              "      <th>reading score</th>\n",
              "      <th>writing score</th>\n",
              "      <th>total_score</th>\n",
              "    </tr>\n",
              "  </thead>\n",
              "  <tbody>\n",
              "    <tr>\n",
              "      <th>0</th>\n",
              "      <td>66.089</td>\n",
              "      <td>1.000</td>\n",
              "      <td>1.000</td>\n",
              "      <td>1.000</td>\n",
              "      <td>1.000</td>\n",
              "      <td>72.0</td>\n",
              "      <td>72.0</td>\n",
              "      <td>74.0</td>\n",
              "      <td>218.0</td>\n",
              "    </tr>\n",
              "    <tr>\n",
              "      <th>1</th>\n",
              "      <td>66.089</td>\n",
              "      <td>2.000</td>\n",
              "      <td>4.000</td>\n",
              "      <td>1.000</td>\n",
              "      <td>66.089</td>\n",
              "      <td>69.0</td>\n",
              "      <td>90.0</td>\n",
              "      <td>88.0</td>\n",
              "      <td>247.0</td>\n",
              "    </tr>\n",
              "    <tr>\n",
              "      <th>2</th>\n",
              "      <td>66.089</td>\n",
              "      <td>1.000</td>\n",
              "      <td>3.000</td>\n",
              "      <td>1.000</td>\n",
              "      <td>1.000</td>\n",
              "      <td>90.0</td>\n",
              "      <td>95.0</td>\n",
              "      <td>93.0</td>\n",
              "      <td>278.0</td>\n",
              "    </tr>\n",
              "    <tr>\n",
              "      <th>3</th>\n",
              "      <td>1.000</td>\n",
              "      <td>66.089</td>\n",
              "      <td>66.089</td>\n",
              "      <td>66.089</td>\n",
              "      <td>1.000</td>\n",
              "      <td>47.0</td>\n",
              "      <td>57.0</td>\n",
              "      <td>44.0</td>\n",
              "      <td>148.0</td>\n",
              "    </tr>\n",
              "    <tr>\n",
              "      <th>4</th>\n",
              "      <td>1.000</td>\n",
              "      <td>2.000</td>\n",
              "      <td>4.000</td>\n",
              "      <td>1.000</td>\n",
              "      <td>1.000</td>\n",
              "      <td>76.0</td>\n",
              "      <td>78.0</td>\n",
              "      <td>75.0</td>\n",
              "      <td>229.0</td>\n",
              "    </tr>\n",
              "  </tbody>\n",
              "</table>\n",
              "</div>\n",
              "      <button class=\"colab-df-convert\" onclick=\"convertToInteractive('df-139ca981-f044-4c50-9ba6-61bffa6444c3')\"\n",
              "              title=\"Convert this dataframe to an interactive table.\"\n",
              "              style=\"display:none;\">\n",
              "        \n",
              "  <svg xmlns=\"http://www.w3.org/2000/svg\" height=\"24px\"viewBox=\"0 0 24 24\"\n",
              "       width=\"24px\">\n",
              "    <path d=\"M0 0h24v24H0V0z\" fill=\"none\"/>\n",
              "    <path d=\"M18.56 5.44l.94 2.06.94-2.06 2.06-.94-2.06-.94-.94-2.06-.94 2.06-2.06.94zm-11 1L8.5 8.5l.94-2.06 2.06-.94-2.06-.94L8.5 2.5l-.94 2.06-2.06.94zm10 10l.94 2.06.94-2.06 2.06-.94-2.06-.94-.94-2.06-.94 2.06-2.06.94z\"/><path d=\"M17.41 7.96l-1.37-1.37c-.4-.4-.92-.59-1.43-.59-.52 0-1.04.2-1.43.59L10.3 9.45l-7.72 7.72c-.78.78-.78 2.05 0 2.83L4 21.41c.39.39.9.59 1.41.59.51 0 1.02-.2 1.41-.59l7.78-7.78 2.81-2.81c.8-.78.8-2.07 0-2.86zM5.41 20L4 18.59l7.72-7.72 1.47 1.35L5.41 20z\"/>\n",
              "  </svg>\n",
              "      </button>\n",
              "      \n",
              "  <style>\n",
              "    .colab-df-container {\n",
              "      display:flex;\n",
              "      flex-wrap:wrap;\n",
              "      gap: 12px;\n",
              "    }\n",
              "\n",
              "    .colab-df-convert {\n",
              "      background-color: #E8F0FE;\n",
              "      border: none;\n",
              "      border-radius: 50%;\n",
              "      cursor: pointer;\n",
              "      display: none;\n",
              "      fill: #1967D2;\n",
              "      height: 32px;\n",
              "      padding: 0 0 0 0;\n",
              "      width: 32px;\n",
              "    }\n",
              "\n",
              "    .colab-df-convert:hover {\n",
              "      background-color: #E2EBFA;\n",
              "      box-shadow: 0px 1px 2px rgba(60, 64, 67, 0.3), 0px 1px 3px 1px rgba(60, 64, 67, 0.15);\n",
              "      fill: #174EA6;\n",
              "    }\n",
              "\n",
              "    [theme=dark] .colab-df-convert {\n",
              "      background-color: #3B4455;\n",
              "      fill: #D2E3FC;\n",
              "    }\n",
              "\n",
              "    [theme=dark] .colab-df-convert:hover {\n",
              "      background-color: #434B5C;\n",
              "      box-shadow: 0px 1px 3px 1px rgba(0, 0, 0, 0.15);\n",
              "      filter: drop-shadow(0px 1px 2px rgba(0, 0, 0, 0.3));\n",
              "      fill: #FFFFFF;\n",
              "    }\n",
              "  </style>\n",
              "\n",
              "      <script>\n",
              "        const buttonEl =\n",
              "          document.querySelector('#df-139ca981-f044-4c50-9ba6-61bffa6444c3 button.colab-df-convert');\n",
              "        buttonEl.style.display =\n",
              "          google.colab.kernel.accessAllowed ? 'block' : 'none';\n",
              "\n",
              "        async function convertToInteractive(key) {\n",
              "          const element = document.querySelector('#df-139ca981-f044-4c50-9ba6-61bffa6444c3');\n",
              "          const dataTable =\n",
              "            await google.colab.kernel.invokeFunction('convertToInteractive',\n",
              "                                                     [key], {});\n",
              "          if (!dataTable) return;\n",
              "\n",
              "          const docLinkHtml = 'Like what you see? Visit the ' +\n",
              "            '<a target=\"_blank\" href=https://colab.research.google.com/notebooks/data_table.ipynb>data table notebook</a>'\n",
              "            + ' to learn more about interactive tables.';\n",
              "          element.innerHTML = '';\n",
              "          dataTable['output_type'] = 'display_data';\n",
              "          await google.colab.output.renderOutput(dataTable, element);\n",
              "          const docLink = document.createElement('div');\n",
              "          docLink.innerHTML = docLinkHtml;\n",
              "          element.appendChild(docLink);\n",
              "        }\n",
              "      </script>\n",
              "    </div>\n",
              "  </div>\n",
              "  "
            ]
          },
          "metadata": {},
          "execution_count": 48
        }
      ]
    },
    {
      "cell_type": "markdown",
      "source": [
        "The outliers are now replaced with the mean values, to check we can plot and look for the outliers of the 3 numerical columns now"
      ],
      "metadata": {
        "id": "pXpXSrxqE_mk"
      },
      "id": "pXpXSrxqE_mk"
    },
    {
      "cell_type": "code",
      "source": [
        "# Showing if any outliers exist for math score column\n",
        "plt.figure(figsize =(10, 5))\n",
        "plt.boxplot(df['math score'])\n",
        "plt.title(' Outliers for math score column')\n",
        "plt.show()"
      ],
      "metadata": {
        "id": "uXcGtmlrFMYV",
        "colab": {
          "base_uri": "https://localhost:8080/",
          "height": 361
        },
        "outputId": "5d858315-2e63-4c87-ffef-4756021c906e"
      },
      "id": "uXcGtmlrFMYV",
      "execution_count": null,
      "outputs": [
        {
          "output_type": "display_data",
          "data": {
            "text/plain": [
              "<Figure size 720x360 with 1 Axes>"
            ],
            "image/png": "[encoded data removed]"
          },
          "metadata": {}
        }
      ]
    },
    {
      "cell_type": "code",
      "source": [
        "# Showing if any outliers exist for reading score column\n",
        "plt.figure(figsize =(10, 5))\n",
        "plt.boxplot(df['reading score'])\n",
        "plt.title(' Outliers for reading score column')\n",
        "plt.show()"
      ],
      "metadata": {
        "id": "znuJtpBOFSVj",
        "colab": {
          "base_uri": "https://localhost:8080/",
          "height": 361
        },
        "outputId": "3eb7c31d-dcab-4caf-a307-afaa231db5f5"
      },
      "id": "znuJtpBOFSVj",
      "execution_count": null,
      "outputs": [
        {
          "output_type": "display_data",
          "data": {
            "text/plain": [
              "<Figure size 720x360 with 1 Axes>"
            ],
            "image/png": "[encoded data removed]"
          },
          "metadata": {}
        }
      ]
    },
    {
      "cell_type": "code",
      "source": [
        "# Showing if any outliers exist for writing score column\n",
        "plt.figure(figsize =(10, 5))\n",
        "plt.boxplot(df['writing score'])\n",
        "plt.title(' Outliers for writing score column')\n",
        "plt.show()"
      ],
      "metadata": {
        "id": "WR8nfvVNFWDq",
        "colab": {
          "base_uri": "https://localhost:8080/",
          "height": 361
        },
        "outputId": "59d28f1f-6f1c-4cdd-bf15-35c66abe145e"
      },
      "id": "WR8nfvVNFWDq",
      "execution_count": null,
      "outputs": [
        {
          "output_type": "display_data",
          "data": {
            "text/plain": [
              "<Figure size 720x360 with 1 Axes>"
            ],
            "image/png": "[encoded data removed]"
          },
          "metadata": {}
        }
      ]
    },
    {
      "cell_type": "markdown",
      "source": [
        "Now as we saw, the outliers are non-existant, meaning there are no abnormal or messy/dirty data in the columns \"math score\", \"reading score\" and \"writing score\""
      ],
      "metadata": {
        "id": "_bkUplBJH7Nr"
      },
      "id": "_bkUplBJH7Nr"
    },
    {
      "cell_type": "code",
      "execution_count": null,
      "metadata": {
        "id": "1e152d5b",
        "colab": {
          "base_uri": "https://localhost:8080/",
          "height": 206
        },
        "outputId": "9ff6e0a2-fb97-4448-ee6a-553e7be9991f"
      },
      "outputs": [
        {
          "output_type": "execute_result",
          "data": {
            "text/plain": [
              "   gender  race/ethnicity  parental level of education   lunch  \\\n",
              "0  66.089           1.000                        1.000   1.000   \n",
              "1  66.089           2.000                        4.000   1.000   \n",
              "2  66.089           1.000                        3.000   1.000   \n",
              "3   1.000          66.089                       66.089  66.089   \n",
              "4   1.000           2.000                        4.000   1.000   \n",
              "\n",
              "   test preparation course  math score  reading score  writing score  \\\n",
              "0                    1.000        72.0           72.0           74.0   \n",
              "1                   66.089        69.0           90.0           88.0   \n",
              "2                    1.000        90.0           95.0           93.0   \n",
              "3                    1.000        47.0           57.0           44.0   \n",
              "4                    1.000        76.0           78.0           75.0   \n",
              "\n",
              "   total_score  \n",
              "0        218.0  \n",
              "1        247.0  \n",
              "2        278.0  \n",
              "3        148.0  \n",
              "4        229.0  "
            ],
            "text/html": [
              "\n",
              "  <div id=\"df-f9461432-c155-4561-a943-821abf014ef8\">\n",
              "    <div class=\"colab-df-container\">\n",
              "      <div>\n",
              "<style scoped>\n",
              "    .dataframe tbody tr th:only-of-type {\n",
              "        vertical-align: middle;\n",
              "    }\n",
              "\n",
              "    .dataframe tbody tr th {\n",
              "        vertical-align: top;\n",
              "    }\n",
              "\n",
              "    .dataframe thead th {\n",
              "        text-align: right;\n",
              "    }\n",
              "</style>\n",
              "<table border=\"1\" class=\"dataframe\">\n",
              "  <thead>\n",
              "    <tr style=\"text-align: right;\">\n",
              "      <th></th>\n",
              "      <th>gender</th>\n",
              "      <th>race/ethnicity</th>\n",
              "      <th>parental level of education</th>\n",
              "      <th>lunch</th>\n",
              "      <th>test preparation course</th>\n",
              "      <th>math score</th>\n",
              "      <th>reading score</th>\n",
              "      <th>writing score</th>\n",
              "      <th>total_score</th>\n",
              "    </tr>\n",
              "  </thead>\n",
              "  <tbody>\n",
              "    <tr>\n",
              "      <th>0</th>\n",
              "      <td>66.089</td>\n",
              "      <td>1.000</td>\n",
              "      <td>1.000</td>\n",
              "      <td>1.000</td>\n",
              "      <td>1.000</td>\n",
              "      <td>72.0</td>\n",
              "      <td>72.0</td>\n",
              "      <td>74.0</td>\n",
              "      <td>218.0</td>\n",
              "    </tr>\n",
              "    <tr>\n",
              "      <th>1</th>\n",
              "      <td>66.089</td>\n",
              "      <td>2.000</td>\n",
              "      <td>4.000</td>\n",
              "      <td>1.000</td>\n",
              "      <td>66.089</td>\n",
              "      <td>69.0</td>\n",
              "      <td>90.0</td>\n",
              "      <td>88.0</td>\n",
              "      <td>247.0</td>\n",
              "    </tr>\n",
              "    <tr>\n",
              "      <th>2</th>\n",
              "      <td>66.089</td>\n",
              "      <td>1.000</td>\n",
              "      <td>3.000</td>\n",
              "      <td>1.000</td>\n",
              "      <td>1.000</td>\n",
              "      <td>90.0</td>\n",
              "      <td>95.0</td>\n",
              "      <td>93.0</td>\n",
              "      <td>278.0</td>\n",
              "    </tr>\n",
              "    <tr>\n",
              "      <th>3</th>\n",
              "      <td>1.000</td>\n",
              "      <td>66.089</td>\n",
              "      <td>66.089</td>\n",
              "      <td>66.089</td>\n",
              "      <td>1.000</td>\n",
              "      <td>47.0</td>\n",
              "      <td>57.0</td>\n",
              "      <td>44.0</td>\n",
              "      <td>148.0</td>\n",
              "    </tr>\n",
              "    <tr>\n",
              "      <th>4</th>\n",
              "      <td>1.000</td>\n",
              "      <td>2.000</td>\n",
              "      <td>4.000</td>\n",
              "      <td>1.000</td>\n",
              "      <td>1.000</td>\n",
              "      <td>76.0</td>\n",
              "      <td>78.0</td>\n",
              "      <td>75.0</td>\n",
              "      <td>229.0</td>\n",
              "    </tr>\n",
              "  </tbody>\n",
              "</table>\n",
              "</div>\n",
              "      <button class=\"colab-df-convert\" onclick=\"convertToInteractive('df-f9461432-c155-4561-a943-821abf014ef8')\"\n",
              "              title=\"Convert this dataframe to an interactive table.\"\n",
              "              style=\"display:none;\">\n",
              "        \n",
              "  <svg xmlns=\"http://www.w3.org/2000/svg\" height=\"24px\"viewBox=\"0 0 24 24\"\n",
              "       width=\"24px\">\n",
              "    <path d=\"M0 0h24v24H0V0z\" fill=\"none\"/>\n",
              "    <path d=\"M18.56 5.44l.94 2.06.94-2.06 2.06-.94-2.06-.94-.94-2.06-.94 2.06-2.06.94zm-11 1L8.5 8.5l.94-2.06 2.06-.94-2.06-.94L8.5 2.5l-.94 2.06-2.06.94zm10 10l.94 2.06.94-2.06 2.06-.94-2.06-.94-.94-2.06-.94 2.06-2.06.94z\"/><path d=\"M17.41 7.96l-1.37-1.37c-.4-.4-.92-.59-1.43-.59-.52 0-1.04.2-1.43.59L10.3 9.45l-7.72 7.72c-.78.78-.78 2.05 0 2.83L4 21.41c.39.39.9.59 1.41.59.51 0 1.02-.2 1.41-.59l7.78-7.78 2.81-2.81c.8-.78.8-2.07 0-2.86zM5.41 20L4 18.59l7.72-7.72 1.47 1.35L5.41 20z\"/>\n",
              "  </svg>\n",
              "      </button>\n",
              "      \n",
              "  <style>\n",
              "    .colab-df-container {\n",
              "      display:flex;\n",
              "      flex-wrap:wrap;\n",
              "      gap: 12px;\n",
              "    }\n",
              "\n",
              "    .colab-df-convert {\n",
              "      background-color: #E8F0FE;\n",
              "      border: none;\n",
              "      border-radius: 50%;\n",
              "      cursor: pointer;\n",
              "      display: none;\n",
              "      fill: #1967D2;\n",
              "      height: 32px;\n",
              "      padding: 0 0 0 0;\n",
              "      width: 32px;\n",
              "    }\n",
              "\n",
              "    .colab-df-convert:hover {\n",
              "      background-color: #E2EBFA;\n",
              "      box-shadow: 0px 1px 2px rgba(60, 64, 67, 0.3), 0px 1px 3px 1px rgba(60, 64, 67, 0.15);\n",
              "      fill: #174EA6;\n",
              "    }\n",
              "\n",
              "    [theme=dark] .colab-df-convert {\n",
              "      background-color: #3B4455;\n",
              "      fill: #D2E3FC;\n",
              "    }\n",
              "\n",
              "    [theme=dark] .colab-df-convert:hover {\n",
              "      background-color: #434B5C;\n",
              "      box-shadow: 0px 1px 3px 1px rgba(0, 0, 0, 0.15);\n",
              "      filter: drop-shadow(0px 1px 2px rgba(0, 0, 0, 0.3));\n",
              "      fill: #FFFFFF;\n",
              "    }\n",
              "  </style>\n",
              "\n",
              "      <script>\n",
              "        const buttonEl =\n",
              "          document.querySelector('#df-f9461432-c155-4561-a943-821abf014ef8 button.colab-df-convert');\n",
              "        buttonEl.style.display =\n",
              "          google.colab.kernel.accessAllowed ? 'block' : 'none';\n",
              "\n",
              "        async function convertToInteractive(key) {\n",
              "          const element = document.querySelector('#df-f9461432-c155-4561-a943-821abf014ef8');\n",
              "          const dataTable =\n",
              "            await google.colab.kernel.invokeFunction('convertToInteractive',\n",
              "                                                     [key], {});\n",
              "          if (!dataTable) return;\n",
              "\n",
              "          const docLinkHtml = 'Like what you see? Visit the ' +\n",
              "            '<a target=\"_blank\" href=https://colab.research.google.com/notebooks/data_table.ipynb>data table notebook</a>'\n",
              "            + ' to learn more about interactive tables.';\n",
              "          element.innerHTML = '';\n",
              "          dataTable['output_type'] = 'display_data';\n",
              "          await google.colab.output.renderOutput(dataTable, element);\n",
              "          const docLink = document.createElement('div');\n",
              "          docLink.innerHTML = docLinkHtml;\n",
              "          element.appendChild(docLink);\n",
              "        }\n",
              "      </script>\n",
              "    </div>\n",
              "  </div>\n",
              "  "
            ]
          },
          "metadata": {},
          "execution_count": 47
        }
      ],
      "source": [
        "df.head(5)"
      ],
      "id": "1e152d5b"
    },
    {
      "cell_type": "markdown",
      "metadata": {
        "id": "c4490711"
      },
      "source": [
        "## Feature  Extraction"
      ],
      "id": "c4490711"
    },
    {
      "cell_type": "markdown",
      "metadata": {
        "id": "aba1fe1a"
      },
      "source": [
        "We came up with new features in our data set which are 'pass_math' 'pass_reading' 'pass_writing' 'total_score' 'percentage' 'status' 'grade' previously. These features are used to aid us in predicitng the student performance."
      ],
      "id": "aba1fe1a"
    },
    {
      "cell_type": "code",
      "execution_count": null,
      "metadata": {
        "id": "37f16278"
      },
      "outputs": [],
      "source": [
        "df.info()"
      ],
      "id": "37f16278"
    },
    {
      "cell_type": "markdown",
      "metadata": {
        "id": "04a77cfe"
      },
      "source": [
        "To select features that are suitable to be modelled against the dependent variable which is 'grade' to predict student grades, we first seprate the independent and dependent variables into X, Y.\n"
      ],
      "id": "04a77cfe"
    },
    {
      "cell_type": "code",
      "execution_count": null,
      "metadata": {
        "id": "300c4551"
      },
      "outputs": [],
      "source": [
        "# splitting the dependent and independent variables\n",
        "\n",
        "x = df.iloc[:,:14]\n",
        "y = df.iloc[:,14]\n",
        "\n",
        "print(x.shape)\n",
        "print(y.shape)"
      ],
      "id": "300c4551"
    },
    {
      "cell_type": "markdown",
      "metadata": {
        "id": "f1bbaa88"
      },
      "source": [
        "## Feature  Selection"
      ],
      "id": "f1bbaa88"
    },
    {
      "cell_type": "markdown",
      "metadata": {
        "id": "9c033cd2"
      },
      "source": [
        "By inspecting the properties of each attribute. As observed, the attributes 'math score', 'reading score', 'writing score', 'total_score' and 'grades' are quantitative attributes made up of discrete integer values, the attribute 'percentage' is a quantitative attribute made up of continuous float values, the attributes 'gender', 'test preparation course', 'pass_math', 'pass_reading', 'pass_writing' and 'lunch' are categorical attributes made up of binary values, and the attributes 'parental level of education', 'race/ethnicity' are categorical attributes made up of nominal values.\n",
        "\n",
        "Next, we will be using the univariate selection to select top 10 features to be used in the modelling process using their significance of each feature. After selecting the non significant features will be dropped."
      ],
      "id": "9c033cd2"
    },
    {
      "cell_type": "code",
      "execution_count": null,
      "metadata": {
        "id": "dc678985"
      },
      "outputs": [],
      "source": [
        "from sklearn.feature_selection import SelectKBest\n",
        "from sklearn.feature_selection import chi2"
      ],
      "id": "dc678985"
    },
    {
      "cell_type": "code",
      "execution_count": null,
      "metadata": {
        "id": "cc94f7c0"
      },
      "outputs": [],
      "source": [
        "## Univariate selection"
      ],
      "id": "cc94f7c0"
    },
    {
      "cell_type": "code",
      "execution_count": null,
      "metadata": {
        "id": "9cfe8f64"
      },
      "outputs": [],
      "source": [
        "best_features = SelectKBest(score_func=chi2, k=10)\n",
        "fit = best_features.fit(x,y)"
      ],
      "id": "9cfe8f64"
    },
    {
      "cell_type": "code",
      "execution_count": null,
      "metadata": {
        "id": "fd751650"
      },
      "outputs": [],
      "source": [
        "df_scores = pd.DataFrame(fit.scores_)\n",
        "df_columns = pd.DataFrame(x.columns)"
      ],
      "id": "fd751650"
    },
    {
      "cell_type": "code",
      "execution_count": null,
      "metadata": {
        "id": "4cfc6c19"
      },
      "outputs": [],
      "source": [
        "# Concat the two dataframes above for better visualization\n",
        "feature_scores = pd.concat([df_columns, df_scores], axis = 1)\n",
        "feature_scores.columns = ['Feature', 'Score']"
      ],
      "id": "4cfc6c19"
    },
    {
      "cell_type": "code",
      "execution_count": null,
      "metadata": {
        "id": "098b0a8e"
      },
      "outputs": [],
      "source": [
        "# Higher score means the features are more important\n",
        "feature_scores"
      ],
      "id": "098b0a8e"
    },
    {
      "cell_type": "code",
      "execution_count": null,
      "metadata": {
        "id": "26acf3e8"
      },
      "outputs": [],
      "source": [
        "# Show top 10 features\n",
        "print(feature_scores.nlargest(10, 'Score'))"
      ],
      "id": "26acf3e8"
    },
    {
      "cell_type": "markdown",
      "metadata": {
        "id": "15182b68"
      },
      "source": [
        "Above are the top 10 features selected. Next we create a new data frame 'clead_df' to put the 10 features together with its target 'grade'"
      ],
      "id": "15182b68"
    },
    {
      "cell_type": "code",
      "execution_count": null,
      "metadata": {
        "id": "308ceb8c"
      },
      "outputs": [],
      "source": [
        "# Create a new dataframe with the important attributes and the target attribute\n",
        "clean_df = df.loc[:,['total_score', 'writing score', 'math score', 'percentage', 'reading score', 'status', 'lunch', 'pass_math', 'test preparation course', 'pass_writing', 'grades']]"
      ],
      "id": "308ceb8c"
    },
    {
      "cell_type": "markdown",
      "metadata": {
        "id": "f1fdba1d"
      },
      "source": [
        "Now show the clean_df preview"
      ],
      "id": "f1fdba1d"
    },
    {
      "cell_type": "code",
      "execution_count": null,
      "metadata": {
        "id": "33cd5136"
      },
      "outputs": [],
      "source": [
        "clean_df.head()"
      ],
      "id": "33cd5136"
    },
    {
      "cell_type": "code",
      "execution_count": null,
      "metadata": {
        "id": "4e0b986a"
      },
      "outputs": [],
      "source": [
        "# plot a heatmap to show the correlation between each attribute\n",
        "plt.figure(figsize=(16, 18))\n",
        "\n",
        "sns.heatmap(clean_df.corr(), vmax=1, vmin=(-1), square=True, annot=True, cmap = 'coolwarm')\n",
        "\n",
        "plt.title('Correlation Between Each Attribute', fontsize = 16)\n",
        "\n",
        "plt.show()"
      ],
      "id": "4e0b986a"
    },
    {
      "cell_type": "markdown",
      "metadata": {
        "id": "152237c6"
      },
      "source": [
        "Heatmap is used to see whther there are high correlating varables between the 10 selected variables, then we remove the highly correlated variables to avoid multicollinearity issue. So the final features selected is 'percentage' 'status' 'lunch' 'test preparation course"
      ],
      "id": "152237c6"
    },
    {
      "cell_type": "code",
      "execution_count": null,
      "metadata": {
        "id": "fffab17c"
      },
      "outputs": [],
      "source": [
        "# New dataframe is created with the important attributes and the target attribute\n",
        "clean_df = df.loc[:,[ 'percentage', 'status', 'lunch', 'test preparation course', 'grades']]"
      ],
      "id": "fffab17c"
    },
    {
      "cell_type": "code",
      "execution_count": null,
      "metadata": {
        "id": "dee2807d"
      },
      "outputs": [],
      "source": [
        "# plot a heatmap to show the correlation between each attribute\n",
        "plt.figure(figsize=(16, 18))\n",
        "\n",
        "sns.heatmap(clean_df.corr(), vmax=1, vmin=(-1), square=True, annot=True, cmap = 'coolwarm')\n",
        "\n",
        "plt.title('Correlation Between Each Attribute', fontsize = 16)\n",
        "\n",
        "plt.show()"
      ],
      "id": "dee2807d"
    },
    {
      "cell_type": "markdown",
      "metadata": {
        "id": "0b9fb470"
      },
      "source": [
        "It is shown that now the selected variables are not high correlated with each other."
      ],
      "id": "0b9fb470"
    },
    {
      "cell_type": "code",
      "execution_count": null,
      "metadata": {
        "id": "5f0a5939"
      },
      "outputs": [],
      "source": [
        "clean_df.head()"
      ],
      "id": "5f0a5939"
    },
    {
      "cell_type": "code",
      "execution_count": null,
      "metadata": {
        "id": "ac681a4b"
      },
      "outputs": [],
      "source": [
        "x = clean_df.iloc[:, 0:-1]\n",
        "y = clean_df.iloc[:, -1]\n",
        "\n",
        "print(x.shape)\n",
        "print(y.shape)\n",
        "\n",
        "# Create features and target\n",
        "x = x\n",
        "y = y"
      ],
      "id": "ac681a4b"
    },
    {
      "cell_type": "code",
      "execution_count": null,
      "metadata": {
        "id": "c734e60d"
      },
      "outputs": [],
      "source": [
        "x.head()"
      ],
      "id": "c734e60d"
    },
    {
      "cell_type": "markdown",
      "metadata": {
        "id": "99534171"
      },
      "source": [
        "# Model Development"
      ],
      "id": "99534171"
    },
    {
      "cell_type": "markdown",
      "metadata": {
        "id": "1f7a586b"
      },
      "source": [
        "<tr>\n",
        "<th style=\"text-align:justify;font-family: 'Times New Roman';\"><font size=\"4\">\n",
        "    1. Lets split the dataset into two different sets, for training and test. </font></th>\n",
        "</tr>"
      ],
      "id": "1f7a586b"
    },
    {
      "cell_type": "code",
      "execution_count": null,
      "metadata": {
        "id": "aaad09ab"
      },
      "outputs": [],
      "source": [
        "from sklearn.model_selection import train_test_split\n",
        "\n",
        "x_train, x_test, y_train, y_test = train_test_split(x, y, test_size = 0.25, random_state = 45)\n",
        "\n",
        "print(x_train.shape)\n",
        "print(y_train.shape)\n",
        "print(x_test.shape)\n",
        "print(y_test.shape)"
      ],
      "id": "aaad09ab"
    },
    {
      "cell_type": "markdown",
      "metadata": {
        "id": "6e3cd812"
      },
      "source": [
        "We split our dataset into training and testing is to ensure that after we took the action of training our classification algorithm, the new data can be able to predict the performance. The dataset is split into 75% train and 25% test."
      ],
      "id": "6e3cd812"
    },
    {
      "cell_type": "code",
      "execution_count": null,
      "metadata": {
        "id": "9d3ea079"
      },
      "outputs": [],
      "source": [
        "print(x_train)"
      ],
      "id": "9d3ea079"
    },
    {
      "cell_type": "code",
      "execution_count": null,
      "metadata": {
        "id": "badfa6f5"
      },
      "outputs": [],
      "source": [
        "print(y_train)"
      ],
      "id": "badfa6f5"
    },
    {
      "cell_type": "markdown",
      "metadata": {
        "id": "7a966674"
      },
      "source": [
        "<tr>\n",
        "<th style=\"text-align:justify;font-family: 'Times New Roman';\"><font size=\"4\">\n",
        "    2. Lets develop model via the usage of machine learning and algorithm. </font></th>\n",
        "</tr>"
      ],
      "id": "7a966674"
    },
    {
      "cell_type": "markdown",
      "metadata": {
        "id": "6fb4c0ec"
      },
      "source": [
        "### Logistic Regression"
      ],
      "id": "6fb4c0ec"
    },
    {
      "cell_type": "markdown",
      "metadata": {
        "id": "7013b1ba"
      },
      "source": [
        "The reason why we use logistic regression is because our dependent variable is in category. Logistic regression is suitable for classifying a binary data. So, when we use logistic regression, we can describe our data and explain the realtionship btween our categorical dependent variable with our independent variables."
      ],
      "id": "7013b1ba"
    },
    {
      "cell_type": "code",
      "execution_count": null,
      "metadata": {
        "id": "09b22b81"
      },
      "outputs": [],
      "source": [
        "from sklearn.linear_model import  LogisticRegression"
      ],
      "id": "09b22b81"
    },
    {
      "cell_type": "markdown",
      "metadata": {
        "id": "67ade706"
      },
      "source": [
        "The model that needed is imported to the sklearn."
      ],
      "id": "67ade706"
    },
    {
      "cell_type": "code",
      "execution_count": null,
      "metadata": {
        "id": "66ce91c8"
      },
      "outputs": [],
      "source": [
        "# making an instance model\n",
        "modeldev = LogisticRegression()"
      ],
      "id": "66ce91c8"
    },
    {
      "cell_type": "code",
      "execution_count": null,
      "metadata": {
        "id": "ac8f099c"
      },
      "outputs": [],
      "source": [
        "modeldev.fit(x_train, y_train)"
      ],
      "id": "ac8f099c"
    },
    {
      "cell_type": "code",
      "execution_count": null,
      "metadata": {
        "id": "287dfc22"
      },
      "outputs": [],
      "source": [
        "# to feed the training data to the model\n",
        "y_pred=modeldev.predict(x_test)"
      ],
      "id": "287dfc22"
    },
    {
      "cell_type": "code",
      "execution_count": null,
      "metadata": {
        "id": "f39a630e",
        "scrolled": true
      },
      "outputs": [],
      "source": [
        "# predicting the multiple observation\n",
        "modeldev.predict(x_test[0:10])"
      ],
      "id": "f39a630e"
    },
    {
      "cell_type": "code",
      "execution_count": null,
      "metadata": {
        "id": "2b1e06ea"
      },
      "outputs": [],
      "source": [
        "# calculating the accuracies\n",
        "print(\"Training Accuracy :\", modeldev.score(x_train, y_train))\n",
        "print(\"Testing Accuracy :\", modeldev.score(x_test, y_test))"
      ],
      "id": "2b1e06ea"
    },
    {
      "cell_type": "markdown",
      "metadata": {
        "id": "1d763b78"
      },
      "source": [
        "<tr>\n",
        "<th style=\"text-align:justify;font-family: 'Times New Roman';\"><font size=\"4\">\n",
        "    3. result of prediction </font></th>\n",
        "</tr>"
      ],
      "id": "1d763b78"
    },
    {
      "cell_type": "markdown",
      "metadata": {
        "id": "8d05281d"
      },
      "source": [
        "Below is the result of y_pred"
      ],
      "id": "8d05281d"
    },
    {
      "cell_type": "code",
      "execution_count": null,
      "metadata": {
        "id": "ce4eb46b",
        "scrolled": true
      },
      "outputs": [],
      "source": [
        "print(y_pred)"
      ],
      "id": "ce4eb46b"
    },
    {
      "cell_type": "markdown",
      "metadata": {
        "id": "ccaaa8be"
      },
      "source": [
        "Below is the result of y_test"
      ],
      "id": "ccaaa8be"
    },
    {
      "cell_type": "code",
      "execution_count": null,
      "metadata": {
        "id": "46700f67"
      },
      "outputs": [],
      "source": [
        "y_test[0:20]"
      ],
      "id": "46700f67"
    },
    {
      "cell_type": "markdown",
      "metadata": {
        "id": "5e669205"
      },
      "source": [
        "It is shown that there are some inaccurate figures"
      ],
      "id": "5e669205"
    },
    {
      "cell_type": "markdown",
      "metadata": {
        "id": "8c359733"
      },
      "source": [
        "### Random Forest"
      ],
      "id": "8c359733"
    },
    {
      "cell_type": "markdown",
      "metadata": {
        "id": "1d248e1b"
      },
      "source": [
        "Random Forest is the machine learning that form from a group of randomised decision trees. This method is used as it is fast for training and also for prediction. Also because, it constructs a multitude of the decision trees during training time."
      ],
      "id": "1d248e1b"
    },
    {
      "cell_type": "code",
      "execution_count": null,
      "metadata": {
        "id": "15945e16"
      },
      "outputs": [],
      "source": [
        "from sklearn.ensemble import RandomForestClassifier\n",
        "\n",
        "# creating a model\n",
        "model1 = RandomForestClassifier(n_estimators=100, random_state=111) #we set the number of trees to 100\n",
        "\n",
        "# feeding the training data to the model\n",
        "model1.fit(x_train, y_train)\n",
        "\n",
        "# predicting the x-test results\n",
        "y_predict = model1.predict(x_test)\n",
        "\n",
        "# calculating the accuracies\n",
        "print(\"Training Accuracy :\", model1.score(x_train, y_train))\n",
        "print(\"Testing Accuracy :\", model1.score(x_test, y_test))"
      ],
      "id": "15945e16"
    },
    {
      "cell_type": "markdown",
      "metadata": {
        "id": "25a0aa20"
      },
      "source": [
        "**Result of prediction**"
      ],
      "id": "25a0aa20"
    },
    {
      "cell_type": "code",
      "execution_count": null,
      "metadata": {
        "id": "39844be6"
      },
      "outputs": [],
      "source": [
        "y_predict"
      ],
      "id": "39844be6"
    },
    {
      "cell_type": "code",
      "execution_count": null,
      "metadata": {
        "id": "d6cd1a11"
      },
      "outputs": [],
      "source": [
        "y_test[0:10]"
      ],
      "id": "d6cd1a11"
    },
    {
      "cell_type": "markdown",
      "metadata": {
        "id": "5bd2d3c4"
      },
      "source": [
        "We can see that using random forest the result are more accurate."
      ],
      "id": "5bd2d3c4"
    },
    {
      "cell_type": "markdown",
      "metadata": {
        "id": "c868b6d4"
      },
      "source": [
        "# Deploy, maintain and visualise result"
      ],
      "id": "c868b6d4"
    },
    {
      "cell_type": "markdown",
      "metadata": {
        "id": "145b591e"
      },
      "source": [
        "<tr>\n",
        "<th style=\"text-align:justify;font-family: 'Times New Roman';\"><font size=\"4\">\n",
        "    1. After testing is done above by predicting the result, we now see its validation using the confusion matrix </font></th>\n",
        "</tr>"
      ],
      "id": "145b591e"
    },
    {
      "cell_type": "markdown",
      "metadata": {
        "id": "f53595d7"
      },
      "source": [
        "A confusion matrix is to validate the prediction result with the orignal result with the original result y_test to see the performance of our model"
      ],
      "id": "f53595d7"
    },
    {
      "cell_type": "markdown",
      "metadata": {
        "id": "5f0e9246"
      },
      "source": [
        "#### Logistic Regression confusion matrix  "
      ],
      "id": "5f0e9246"
    },
    {
      "cell_type": "code",
      "execution_count": null,
      "metadata": {
        "id": "42877f38",
        "scrolled": true
      },
      "outputs": [],
      "source": [
        "# printing the confusion matrix\n",
        "\n",
        "from sklearn.metrics import confusion_matrix\n",
        "\n",
        "# creating a confusion matrix\n",
        "cm = confusion_matrix(y_test, y_pred)\n",
        "\n",
        "# printing the confusion matrix\n",
        "plt.rcParams['figure.figsize'] = (8, 8)\n",
        "sns.heatmap(cm, annot = True, cmap = 'Blues')\n",
        "plt.title('Confusion Matrix for Logistic Regression', fontweight = 30, fontsize = 20)\n",
        "plt.show()"
      ],
      "id": "42877f38"
    },
    {
      "cell_type": "markdown",
      "metadata": {
        "id": "3368e1dd"
      },
      "source": [
        "From above we can see that there are alot of error therefore improvment is needed."
      ],
      "id": "3368e1dd"
    },
    {
      "cell_type": "markdown",
      "metadata": {
        "id": "c6ab9374"
      },
      "source": [
        "#### Random forest confusion matrix #"
      ],
      "id": "c6ab9374"
    },
    {
      "cell_type": "code",
      "execution_count": null,
      "metadata": {
        "id": "851f8c95"
      },
      "outputs": [],
      "source": [
        "# printing the confusion matrix\n",
        "\n",
        "from sklearn.metrics import confusion_matrix\n",
        "\n",
        "# creating a confusion matrix\n",
        "cm = confusion_matrix(y_test, y_predict)\n",
        "\n",
        "# printing the confusion matrix\n",
        "plt.rcParams['figure.figsize'] = (8, 8)\n",
        "sns.heatmap(cm, annot = True, cmap = 'Greens')\n",
        "plt.title('Confusion Matrix for Random Forest', fontweight = 30, fontsize = 20)\n",
        "plt.show()"
      ],
      "id": "851f8c95"
    },
    {
      "cell_type": "markdown",
      "metadata": {
        "id": "418a4f2a"
      },
      "source": [
        "From above we can see that there is no error in random forest indicating this model is perfect."
      ],
      "id": "418a4f2a"
    },
    {
      "cell_type": "markdown",
      "metadata": {
        "id": "b274207e"
      },
      "source": [
        "<tr>\n",
        "<th style=\"text-align:justify;font-family: 'Times New Roman';\"><font size=\"4\">\n",
        "    2. We used score method to test its validation</font></th>\n",
        "</tr>"
      ],
      "id": "b274207e"
    },
    {
      "cell_type": "markdown",
      "metadata": {
        "id": "29f96d70"
      },
      "source": [
        "#### Below is the score for logisic regression**"
      ],
      "id": "29f96d70"
    },
    {
      "cell_type": "code",
      "execution_count": null,
      "metadata": {
        "id": "0b63518e"
      },
      "outputs": [],
      "source": [
        "# Use score method to get accuracy of model\n",
        "score = modeldev.score(x_test, y_test)\n",
        "print(score)"
      ],
      "id": "0b63518e"
    },
    {
      "cell_type": "markdown",
      "metadata": {
        "id": "a9399d19"
      },
      "source": [
        "From the above result, we notice that improvement is needed for logistic regression model"
      ],
      "id": "a9399d19"
    },
    {
      "cell_type": "markdown",
      "metadata": {
        "id": "102a987b"
      },
      "source": [
        "#### Below is the score for random forest"
      ],
      "id": "102a987b"
    },
    {
      "cell_type": "code",
      "execution_count": null,
      "metadata": {
        "id": "b25799e2"
      },
      "outputs": [],
      "source": [
        "# Use score method to get accuracy of model\n",
        "score = model1.score(x_test, y_test)\n",
        "print(score)"
      ],
      "id": "b25799e2"
    },
    {
      "cell_type": "markdown",
      "metadata": {
        "id": "3df7171f"
      },
      "source": [
        "The score for random forest indicates its perfect and therefore no improvment is needed to make."
      ],
      "id": "3df7171f"
    },
    {
      "cell_type": "markdown",
      "metadata": {
        "id": "86b36c45"
      },
      "source": [
        "<tr>\n",
        "<th style=\"text-align:justify;font-family: 'Times New Roman';\"><font size=\"4\">\n",
        "    3. Improvement </font></th>\n",
        "</tr>"
      ],
      "id": "86b36c45"
    },
    {
      "cell_type": "markdown",
      "metadata": {
        "id": "5a793245"
      },
      "source": [
        "#### From above logistic regression the result we got is accuracy of 0.828. Now we try to normalise our data using standard scaler for better accuracy on logistic regression model"
      ],
      "id": "5a793245"
    },
    {
      "cell_type": "code",
      "execution_count": null,
      "metadata": {
        "id": "fef1d91a"
      },
      "outputs": [],
      "source": [
        "from sklearn.preprocessing import StandardScaler\n",
        "\n",
        "# Create the scaler\n",
        "ss = StandardScaler()\n",
        "\n",
        "\n",
        "# Apply the scaler to the DataFrame subset\n",
        "x_train = ss.fit_transform(x_train)\n",
        "x_test = ss.fit_transform(x_test)"
      ],
      "id": "fef1d91a"
    },
    {
      "cell_type": "code",
      "execution_count": null,
      "metadata": {
        "id": "947accdb"
      },
      "outputs": [],
      "source": [],
      "id": "947accdb"
    },
    {
      "cell_type": "markdown",
      "metadata": {
        "id": "a9af9afa"
      },
      "source": [
        "After normalising the data we train again on logistic regression to test its accuracy."
      ],
      "id": "a9af9afa"
    },
    {
      "cell_type": "code",
      "execution_count": null,
      "metadata": {
        "id": "e061cc5a"
      },
      "outputs": [],
      "source": [
        "from sklearn.linear_model import  LogisticRegression\n",
        "\n",
        "# creating a model\n",
        "modeldev = LogisticRegression()\n",
        "\n",
        "# feeding the training data to the model\n",
        "modeldev.fit(x_train, y_train)\n",
        "\n",
        "# predicting the test set results\n",
        "y_pred = modeldev.predict(x_train)\n",
        "\n",
        "# calculating the classification accuracies\n",
        "print(\"Training Accuracy :\", modeldev.score(x_train, y_train))\n",
        "print(\"Testing Accuracy :\", modeldev.score(x_test, y_test))\n",
        "\n",
        "\n",
        "# Use score method to get accuracy of model\n",
        "score = modeldev.score(x_test, y_test)\n",
        "print(score)"
      ],
      "id": "e061cc5a"
    },
    {
      "cell_type": "markdown",
      "metadata": {
        "id": "db7d058b"
      },
      "source": [
        "We can see that the accuracy of logistic model has improved from 0.828 to 0.876."
      ],
      "id": "db7d058b"
    },
    {
      "cell_type": "markdown",
      "metadata": {
        "id": "043efbde"
      },
      "source": [
        "# Interpreting model and visualising model data"
      ],
      "id": "043efbde"
    },
    {
      "cell_type": "code",
      "execution_count": null,
      "metadata": {
        "id": "6e788f90"
      },
      "outputs": [],
      "source": [
        "import matplotlib.pyplot as plt\n",
        "\n",
        "plt.figure(figsize=(10, 8))\n",
        "def addlabels(names,results):\n",
        "    for i in range(len(names)):\n",
        "        plt.text(i,results[i],results[i])\n",
        "\n",
        "#Evaluating performance\n",
        "results = [94.52,100]\n",
        "names = [\"Logistic Regression\",\"Random Forests\"]\n",
        "\n",
        "bar_Compare = plt.bar(names, results, color=['palevioletred','gainsboro'])\n",
        "plt.ylabel(\"Accuracy\",fontsize=20)\n",
        "plt.ylim([0, 100])\n",
        "plt.title(\"Machine Learning Model Accuracy Comparison\",fontsize=25,fontweight=\"bold\")\n",
        "addlabels(names, results)"
      ],
      "id": "6e788f90"
    },
    {
      "cell_type": "markdown",
      "metadata": {
        "id": "0c6f29a1"
      },
      "source": [
        "Below are how the random forest perform classification"
      ],
      "id": "0c6f29a1"
    },
    {
      "cell_type": "code",
      "execution_count": null,
      "metadata": {
        "id": "86643ea0"
      },
      "outputs": [],
      "source": [
        "from sklearn import tree"
      ],
      "id": "86643ea0"
    },
    {
      "cell_type": "code",
      "execution_count": null,
      "metadata": {
        "id": "df0eb6f5"
      },
      "outputs": [],
      "source": [
        "# plot tree number 0\n",
        "plt.figure(figsize=(150,100))\n",
        "tree.plot_tree(model1.estimators_[0], filled=True)\n",
        "\n",
        "plt.show()"
      ],
      "id": "df0eb6f5"
    },
    {
      "cell_type": "code",
      "execution_count": null,
      "metadata": {
        "id": "13f20df4"
      },
      "outputs": [],
      "source": [
        "# plot tree number 27\n",
        "plt.figure(figsize=(150,100))\n",
        "tree.plot_tree(model1.estimators_[27], filled=True)\n",
        "\n",
        "plt.show()"
      ],
      "id": "13f20df4"
    },
    {
      "cell_type": "code",
      "execution_count": null,
      "metadata": {
        "id": "0abefd89"
      },
      "outputs": [],
      "source": [
        "# plot tree number 70\n",
        "plt.figure(figsize=(150,100))\n",
        "tree.plot_tree(model1.estimators_[70], filled=True)\n",
        "\n",
        "plt.show()"
      ],
      "id": "0abefd89"
    },
    {
      "cell_type": "markdown",
      "metadata": {
        "id": "7def8322"
      },
      "source": [
        "Previously, we set that our random forest is made up of 100 decision trees. We only shown 3 of them to visualise how they classify at tree 0, 27 and 70. The concept of decision tree is that they perform data classification by choosing the most votes of the classification from the decision tree as final result. This model has lead to an accuracy of 100%"
      ],
      "id": "7def8322"
    },
    {
      "cell_type": "markdown",
      "metadata": {
        "id": "a24baf37"
      },
      "source": [
        "### Feature Importance Computed with SHAP Values"
      ],
      "id": "a24baf37"
    },
    {
      "cell_type": "markdown",
      "metadata": {
        "id": "bec6edd8"
      },
      "source": [
        "The SHAP interpretation is used to compute the importance of various features from a Random forest model. This is done by using the Shapley values from game theory to estimate the how does each feature contribute to the prediction. We sort the features by decreasing importance and plot them. The following figure shows the SHAP feature importance for the random forest model for predicting grades."
      ],
      "id": "bec6edd8"
    },
    {
      "cell_type": "code",
      "execution_count": null,
      "metadata": {
        "id": "b0a8da9a"
      },
      "outputs": [],
      "source": [
        "pip install shap"
      ],
      "id": "b0a8da9a"
    },
    {
      "cell_type": "code",
      "execution_count": null,
      "metadata": {
        "id": "9dd73c04"
      },
      "outputs": [],
      "source": [
        "import shap"
      ],
      "id": "9dd73c04"
    },
    {
      "cell_type": "code",
      "execution_count": null,
      "metadata": {
        "id": "28682543"
      },
      "outputs": [],
      "source": [
        "explainer = shap.TreeExplainer(model1, x)\n",
        "shap_values = explainer.shap_values(x_test)"
      ],
      "id": "28682543"
    },
    {
      "cell_type": "code",
      "execution_count": null,
      "metadata": {
        "id": "19b87758"
      },
      "outputs": [],
      "source": [
        "shap.summary_plot(explainer.shap_values(x_test, check_additivity=False), x_test, plot_type=\"bar\", plot_size=(8, 6))"
      ],
      "id": "19b87758"
    },
    {
      "cell_type": "markdown",
      "metadata": {
        "id": "56b31aa6"
      },
      "source": [
        "    Feature 0: Percentage\n",
        "    Feature 1: Status\n",
        "    Feature 2: Lunch\n",
        "    Feature 3: Test Preparation Course"
      ],
      "id": "56b31aa6"
    },
    {
      "cell_type": "markdown",
      "metadata": {
        "id": "11637d43"
      },
      "source": [
        "As seen from the graph, Feature 1 has the largest impact on the prediction of the model."
      ],
      "id": "11637d43"
    },
    {
      "cell_type": "markdown",
      "metadata": {
        "id": "fa2f8479"
      },
      "source": [
        "# Limitations"
      ],
      "id": "fa2f8479"
    },
    {
      "cell_type": "markdown",
      "metadata": {
        "id": "df997c32"
      },
      "source": [
        "<tr>\n",
        "<td style=\"text-align:justify;font-family: 'Times New Roman';\"><font size=\"4\">The first limitation that we face is the measurement of the race or ethnicity to the result, which is the grades of the student. As in the same race, there is so many kinds of person, it is difficult for us to determine which categories are the person belongs to, same to the ethnicity. Every race and ethnicity has its own beliefs, however, not everyone in the same race or ethnicity is living, learning, or growing in the same way. So, when we want to take race and ethnicity as a variable in our assignment, it may have affected our result because of its uncertainty.\n",
        "    \n",
        "<tr>\n",
        "<td style=\"text-align:justify;font-family: 'Times New Roman';\"><font size=\"4\">\n",
        "The second limitation that occurred in our assignment is that our target variable is not the best dependent variable to measure student performance. This is because we only took math score, reading score, and also writing score as our y variable. To measure the performance of a student, the test scores are far from enough. Not all students can perform well in the study, however, some perform better in physical activities like sports, arts, music, etcetera. Therefore, the final analysis may not be that accurate.\n",
        "<tr>\n",
        "<td style=\"text-align:justify;font-family: 'Times New Roman';\"><font size=\"4\">\n",
        "In the future, our team would like to investigate and analyze the dataset's characteristics in greater depth in order to extract the best features and improve accuracy. Furthermore, we would like to experiment with different algorithms as well as design and come up with our own algorithm that can reliably forecast for this dataset.\n"
      ],
      "id": "df997c32"
    },
    {
      "cell_type": "markdown",
      "metadata": {
        "id": "caba1784"
      },
      "source": [
        "# Conclusion"
      ],
      "id": "caba1784"
    },
    {
      "cell_type": "markdown",
      "metadata": {
        "id": "83bef21a"
      },
      "source": [
        "<tr>\n",
        "<td style=\"text-align:justify;font-family: 'Times New Roman';\"><font size=\"4\">The goal of this task was to determine if students’ performance in exams could be predicted based on the attributes and data provided by the Kaggle “Student Performance in Exams” dataset. Using the score method for validation, the accuracy of the model obtained is 82.8% for logistic regression, 87.6% for post-tuned logistic regression, and 100% for random forest. Therefore, it can be concluded that random forest is the best model for predicting student performance.\n",
        "<tr>\n",
        "<td style=\"text-align:justify;font-family: 'Times New Roman';\"><font size=\"4\">\n",
        "From our work, there are limitations that can be seen. For example, we have only used two models to examine the attributes of the data. In the future, other models such as artificial neural network could be used to study the attributes in depth. Moreover, the attributes in the dataset we have chosen are limited, when in reality there are many more factors which may contribute to a student’s performance in exams such as learning environment, interactivity during classes, and individual personality.\n",
        "<tr>\n",
        "<td style=\"text-align:justify;font-family: 'Times New Roman';\"><font size=\"4\">\n",
        "Our model can be said to have achieved its goal to a certain extent. The data mining techniques that we have used have allowed us to predict students’ performance on tests. However, further improvements can be made in order to build a more complete model which includes many more attributes.\n"
      ],
      "id": "83bef21a"
    },
    {
      "cell_type": "markdown",
      "metadata": {
        "id": "401d1a11"
      },
      "source": [
        "# References"
      ],
      "id": "401d1a11"
    },
    {
      "cell_type": "markdown",
      "metadata": {
        "id": "41b21230"
      },
      "source": [
        "<tr>\n",
        "<td style=\"text-align:justify;font-family: 'Times New Roman';\"><font size=\"4\">Arnaiz-Sánchez, P., de Haro, R., Alcaraz, S. and Mirete Ruiz, A.B. (2020). Schools That Promote the Improvement of Academic Performance and the Success of All Students. Frontiers in Psychology, 10.\n",
        "<tr>\n",
        "<td style=\"text-align:justify;font-family: 'Times New Roman';\"><font size=\"4\">\n",
        "Bayanova, A., Kuznetsov, V., Merculova, L., Gorbunova, L., Pervozvanskaya, O., Shalamova, O. and Vorobyova, C. (2019). Student Performance Interrelation with Gadget Use at Lessons. Journal of Environmental Treatment Techniques, [online] 7(3), pp.432–437. Available at: https://www.jett.dormaj.com/docs/Volume7/Issue%203/Student%20Performance%20Interrelation%20with%20Gadget%20Use%20at%20Lessons.pdf.\n",
        "    <tr>\n",
        "<td style=\"text-align:justify;font-family: 'Times New Roman';\"><font size=\"4\">\n",
        "Contini, D., Tommaso, M.L.D. and Mendolia, S. (2017). The gender gap in mathematics achievement: Evidence from Italian data. Economics of Education Review, 58, pp.32–42.\n",
        "    <tr>\n",
        "<td style=\"text-align:justify;font-family: 'Times New Roman';\"><font size=\"4\">\n",
        "Conwell, J.A. (2021). Diverging Disparities: Race, Parental Income, and Children’s Math Scores, 1960 to 2009. Sociology of Education, 94(2), pp.124–142.\n",
        "    <tr>\n",
        "<td style=\"text-align:justify;font-family: 'Times New Roman';\"><font size=\"4\">\n",
        "Datar, A., Sturm, R. and Magnabosco, J.L. (2004). Childhood Overweight and Academic Performance: National Study of Kindergartners and First-Graders. Obesity Research, 12(1), pp.58–68.\n",
        "    <tr>\n",
        "<td style=\"text-align:justify;font-family: 'Times New Roman';\"><font size=\"4\">\n",
        "Davison, C. and Dustova, G. (2017). A Quantitative Assessment of Student Performance and Examination Format. [online] undefined. Available at: https://www.semanticscholar.org/paper/A-Quantitative-Assessment-of-Student-Performance-Davison-Dustova/3e639462cc33767be25f32ffa1be4037fd410fa2 [Accessed 19 Jul. 2021].\n",
        "    <tr>\n",
        "<td style=\"text-align:justify;font-family: 'Times New Roman';\"><font size=\"4\">\n",
        "Gobena, G.A. (2018). Family Socio-economic Status Effect on Students’ Academic Achievement at College of Education and Behavioral Sciences, Haramaya University, Eastern Ethiopia. Journal of Teacher Education and Educators, [online] 7(3), pp.207–222. Available at: https://dergipark.org.tr/en/pub/jtee/issue/43443/530195.\n",
        "    <tr>\n",
        "<td style=\"text-align:justify;font-family: 'Times New Roman';\"><font size=\"4\">\n",
        "Koupele Mouna, J., Assomo Ndemba, P.B., Dalle, E., Mekoulou Ndongo, J., Guessogo, W.R., Bika Lélé, C.E., Mbang Bian, W., Mandengue, S.H., Etoundi Ngoa, L.S. and Temfemo, A. (2020). The Relationship between the Physical Fitness and Academic Performance of Students in Douala, Cameroon: A Cross-Sectional Study. International Journal of School Health, [online] 7(4), pp.31–38. Available at: https://intjsh.sums.ac.ir/article_47059.html [Accessed 12 Feb. 2022].\n",
        "    <tr>\n",
        "<td style=\"text-align:justify;font-family: 'Times New Roman';\"><font size=\"4\">\n",
        "Li, H. and Xiong, Y. (2018). The Relationship between Test Preparation and State Test Performance: Evidence from the Measure of Effective Teaching (MET) Project. Education Policy Analysis Archives, [online] 26(64). Available at: https://eric.ed.gov/?id=EJ1182131.\n",
        "    <tr>\n",
        "<td style=\"text-align:justify;font-family: 'Times New Roman';\"><font size=\"4\">\n",
        "Li, Z. and Qiu, Z. (2018). How does family background affect children’s educational achievement? Evidence from contemporary china. The Journal of Chinese Sociology, [online] 5(1). Available at: https://journalofchinesesociology.springeropen.com/articles/10.1186/s40711-018-0083-8.\n",
        "    <tr>\n",
        "<td style=\"text-align:justify;font-family: 'Times New Roman';\"><font size=\"4\">\n",
        "Nurhidayah Norazlan, Yusuf, S. and Al-Majdhoub, F. (2020). THE-FINANCIAL-PROBLEMS-AND-ACADEMIC-PERFORMANCE-AMONG-PUBLIC-UNIVERSITY-STUDENTS-IN-MALAYSIA. [online] ResearchGate. Available at: https://www.researchgate.net/publication/349728447_THE-FINANCIAL-PROBLEMS-AND-ACADEMIC-PERFORMANCE-AMONG-PUBLIC-UNIVERSITY-STUDENTS-IN-MALAYSIA.\n",
        "    <tr>\n",
        "<td style=\"text-align:justify;font-family: 'Times New Roman';\"><font size=\"4\">\n",
        "Nusinovici, S., Olliac, B., Flamant, C., Müller, J.-B., Olivier, M., Rouger, V., Gascoin, G., Basset, H., Bouvard, C., Rozé, J.-C. and Hanf, M. (2018). Impact of parental separation or divorce on school performance in preterm children: A population-based study. PLOS ONE, [online] 13(9), p.e0202080. Available at: https://www.ncbi.nlm.nih.gov/pmc/articles/PMC6128464/.\n",
        "    <tr>\n",
        "<td style=\"text-align:justify;font-family: 'Times New Roman';\"><font size=\"4\">\n",
        "Osman, S., Kamila, H., Kamar, Z., Johari, N. and Amirah, N. (n.d.). The Impact of COVID-19 Crisis upon the Effectiveness of E-learning in Higher Education Institution. [online] Available at: https://jitm.ut.ac.ir/mobile/article_83235_6f7bb91c1353157c2f49cebbc9da5a8e.pdf.\n",
        "    <tr>\n",
        "<td style=\"text-align:justify;font-family: 'Times New Roman';\"><font size=\"4\">\n",
        "Paul, J. and Jefferson, F. (2019). A Comparative Analysis of Student Performance in an Online vs. Face-to-Face Environmental Science Course From 2009 to 2016. Frontiers in Computer Science, [online] 1(7). Available at: https://www.frontiersin.org/articles/10.3389/fcomp.2019.00007/full.\n",
        "    <tr>\n",
        "<td style=\"text-align:justify;font-family: 'Times New Roman';\"><font size=\"4\">\n",
        "Relationship between Nutritional Status and Cognitive Performance among Primary School Students. (2021). Egyptian Journal of Nutrition, 36(2), pp.49–87.\n",
        "Salamat, L. (2018). (PDF) impact of e-learning on students academic learning at university level. [online] ResearchGate. Available at: https://www.researchgate.net/publication/326478423_impact_of_e-learning_on_students_academic_learning_at_university_level.\n"
      ],
      "id": "41b21230"
    }
  ],
  "metadata": {
    "colab": {
      "collapsed_sections": [
        "b23dff90",
        "ed81e0a7",
        "900a2d17",
        "d572458e",
        "8a879062",
        "4393f2ed",
        "f1bbaa88",
        "99534171",
        "6fb4c0ec",
        "8c359733",
        "c868b6d4",
        "5f0e9246",
        "c6ab9374",
        "29f96d70",
        "102a987b",
        "5a793245",
        "043efbde",
        "a24baf37",
        "fa2f8479",
        "caba1784",
        "401d1a11"
      ],
      "provenance": []
    },
    "kernelspec": {
      "display_name": "Python 3 (ipykernel)",
      "language": "python",
      "name": "python3"
    },
    "language_info": {
      "codemirror_mode": {
        "name": "ipython",
        "version": 3
      },
      "file_extension": ".py",
      "mimetype": "text/x-python",
      "name": "python",
      "nbconvert_exporter": "python",
      "pygments_lexer": "ipython3",
      "version": "3.9.7"
    }
  },
  "nbformat": 4,
  "nbformat_minor": 5
}